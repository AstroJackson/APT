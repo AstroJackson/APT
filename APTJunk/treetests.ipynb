{
 "cells": [
  {
   "cell_type": "code",
   "execution_count": 78,
   "metadata": {},
   "outputs": [
    {
     "data": {
      "text/plain": [
       "4"
      ]
     },
     "execution_count": 78,
     "metadata": {},
     "output_type": "execute_result"
    }
   ],
   "source": [
    "import anytree, treelib, pint, numpy as np\n",
    "from dataclasses import dataclass\n",
    "pint.logging.setup(level = \"WARNING\")\n"
   ]
  },
  {
   "cell_type": "code",
   "execution_count": 62,
   "metadata": {},
   "outputs": [
    {
     "data": {
      "text/plain": [
       "5"
      ]
     },
     "execution_count": 62,
     "metadata": {},
     "output_type": "execute_result"
    }
   ],
   "source": [
    "class CustomNode(treelib.Node):\n",
    "    pass\n",
    "    # def create_node(self, tag=None, identifier=None, parent=None, data=None, extra = \"hi\"):\n",
    "    #     super().create_node(self, tag, identifier, parent, data)\n",
    "    #     self.extra = extra\n",
    "\n",
    "class CustomTree(treelib.Tree):\n",
    "        hello = 1\n",
    "        def __init__(self, tree=None, deep=False, node_class=None, identifier=None, step = 0):\n",
    "            treelib.Tree.__init__(self, tree, deep, node_class, identifier)\n",
    "            self.step = step\n",
    "class Data:\n",
    "    def __init__(self, info):\n",
    "        self.info = info\n",
    "\n",
    "@dataclass\n",
    "class NodeData:\n",
    "    m: pint.models.timing_model.TimingModel\n",
    "    t: pint.toa.TOAs\n",
    "    args: dict\n",
    "\n",
    "tree = CustomTree(node_class = CustomNode)\n",
    "\n",
    "# tree= Tree()\n",
    "tree.create_node(\"Start\", \"start\")\n",
    "tree.create_node(\"Sub\", \"sub\", parent = \"start\", data = Data(5))\n",
    "tree.contains(\"strt\")\n",
    "tree[\"sub\"].data.info"
   ]
  },
  {
   "cell_type": "code",
   "execution_count": 63,
   "metadata": {},
   "outputs": [
    {
     "name": "stdout",
     "output_type": "stream",
     "text": [
      "Harry\n",
      "├── Bill\n",
      "└── Jane\n",
      "    ├── Diane\n",
      "    │   └── Mary\n",
      "    └── Mark\n",
      "\n"
     ]
    }
   ],
   "source": [
    "from treelib import Node, Tree\n",
    "tree = Tree()\n",
    "tree.create_node(\"Harry\", \"harry\")  # root node\n",
    "tree.create_node(\"Jane\", \"jane\", parent=\"harry\")\n",
    "tree.create_node(\"Bill\", \"bill\", parent=\"harry\")\n",
    "tree.create_node(\"Diane\", \"diane\", parent=\"jane\")\n",
    "tree.create_node(\"Mary\", \"mary\", parent=\"diane\")\n",
    "tree.create_node(\"Mark\", \"mark\", parent=\"jane\")\n",
    "tree.show()"
   ]
  },
  {
   "cell_type": "code",
   "execution_count": 171,
   "metadata": {},
   "outputs": [
    {
     "name": "stderr",
     "output_type": "stream",
     "text": [
      "\u001b[33m\u001b[1mWARNING \u001b[0m (pint.toa                      ): \u001b[33m\u001b[1mNo ephemeris provided to TOAs object or compute_TDBs. Using DE421\u001b[0m\n"
     ]
    },
    {
     "name": "stdout",
     "output_type": "stream",
     "text": [
      "1A\n",
      "├── 2A\n",
      "│   └── 3A\n",
      "│       ├── 4A\n",
      "│       ├── 4B\n",
      "│       └── 4C\n",
      "└── 2B\n",
      "\n"
     ]
    }
   ],
   "source": [
    "timfile = \"/Users/jackson/Desktop/Pint_Personal/APT/binary_test_data/binary6_15/fake_15.tim\"\n",
    "parfile = \"/Users/jackson/Desktop/Pint_Personal/APT/binary_test_data/binary6_15/fake_15.par\"\n",
    "m, t = pint.models.get_model_and_toas(parfile, timfile)\n",
    "data = NodeData(m, t, 1)\n",
    "data1 = NodeData(m, t, 1)\n",
    "data2 = NodeData(m, t, 1)\n",
    "\n",
    "mask = np.array([i for i in range(len(t))]) % 2 == 0\n",
    "data1.t.table[\"delta_pulse_number\"][mask] = 1\n",
    "data2.t.table[\"delta_pulse_number\"][~mask] = 1\n",
    "\n",
    "data = data1 = data2 = NodeData(0,1,2)\n",
    "\n",
    "def tree_maker():\n",
    "    tree = CustomTree(node_class = CustomNode)\n",
    "    tree.create_node(\"1A\", \"1A\", data=data)\n",
    "    tree.create_node(\"2A\",\"2A\", parent = \"1A\", data = data1)\n",
    "    tree.create_node(\"3A\",\"3A\", parent = \"2A\", data = data2)\n",
    "    tree.create_node(\"4A\",\"4A\", parent = \"3A\", data = data2)\n",
    "    tree.create_node(\"4B\",\"4B\", parent = \"3A\", data = data2)\n",
    "    tree.create_node(\"4C\",\"4C\", parent = \"3A\", data = data2)\n",
    "\n",
    "    tree.create_node(\"2B\",\"2B\", parent = \"1A\", data = data2)\n",
    "    return tree\n",
    "tree = tree_maker()\n",
    "tree.show()\n",
    "# tree.remove_node(\"3A\")\n",
    "# tree.show()"
   ]
  },
  {
   "cell_type": "code",
   "execution_count": 175,
   "metadata": {},
   "outputs": [
    {
     "name": "stdout",
     "output_type": "stream",
     "text": [
      "bad = 4A\n",
      "bad = 3A\n",
      "bad = 2A\n",
      "break\n",
      "[CustomNode(tag=2B, identifier=2B, data=NodeData(m=0, t=1, args=2))]\n"
     ]
    }
   ],
   "source": [
    "# once 4A fails, need to work its way up then down to 2B\n",
    "tree = tree_maker()\n",
    "tree.remove_node(\"4B\")\n",
    "tree.remove_node(\"4C\")\n",
    "\n",
    "bad = \"4A\"\n",
    "while True:\n",
    "    print(f\"bad = {bad}\")\n",
    "    parent_bad = tree.parent(bad).identifier\n",
    "    tree.remove_node(bad)\n",
    "    if tree.children(parent_bad):\n",
    "        print(\"break\")\n",
    "        break\n",
    "    bad = parent_bad\n",
    "print(tree.children(parent_bad))\n",
    "\n",
    "# tree.show()"
   ]
  },
  {
   "cell_type": "code",
   "execution_count": 163,
   "metadata": {},
   "outputs": [
    {
     "ename": "TypeError",
     "evalue": "'dict_values' object is not subscriptable",
     "output_type": "error",
     "traceback": [
      "\u001b[0;31m---------------------------------------------------------------------------\u001b[0m",
      "\u001b[0;31mTypeError\u001b[0m                                 Traceback (most recent call last)",
      "\u001b[1;32m/Users/jackson/Desktop/Pint_Personal/APT/APTJunk/treetests.ipynb Cell 6'\u001b[0m in \u001b[0;36m<cell line: 1>\u001b[0;34m()\u001b[0m\n\u001b[0;32m----> <a href='vscode-notebook-cell:/Users/jackson/Desktop/Pint_Personal/APT/APTJunk/treetests.ipynb#ch0000005?line=0'>1</a>\u001b[0m tree\u001b[39m.\u001b[39;49mall_nodes_itr()[\u001b[39m-\u001b[39;49m\u001b[39m1\u001b[39;49m]\n",
      "\u001b[0;31mTypeError\u001b[0m: 'dict_values' object is not subscriptable"
     ]
    }
   ],
   "source": [
    "tree."
   ]
  },
  {
   "cell_type": "code",
   "execution_count": null,
   "metadata": {},
   "outputs": [],
   "source": []
  }
 ],
 "metadata": {
  "kernelspec": {
   "display_name": "Python 3.9.12 ('penguin')",
   "language": "python",
   "name": "python3"
  },
  "language_info": {
   "codemirror_mode": {
    "name": "ipython",
    "version": 3
   },
   "file_extension": ".py",
   "mimetype": "text/x-python",
   "name": "python",
   "nbconvert_exporter": "python",
   "pygments_lexer": "ipython3",
   "version": "3.9.12"
  },
  "orig_nbformat": 4,
  "vscode": {
   "interpreter": {
    "hash": "a1d132dd072b8d5db54bff76b1d5a2ffac9c5941c0c46880f80e3436479cf37b"
   }
  }
 },
 "nbformat": 4,
 "nbformat_minor": 2
}
