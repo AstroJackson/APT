{
 "cells": [
  {
   "cell_type": "code",
   "execution_count": 18,
   "metadata": {},
   "outputs": [],
   "source": [
    "import anytree, treelib, pint, numpy as np\n",
    "from dataclasses import dataclass\n",
    "pint.logging.setup(level = \"WARNING\")\n",
    "import pint.models\n"
   ]
  },
  {
   "cell_type": "code",
   "execution_count": 19,
   "metadata": {},
   "outputs": [
    {
     "data": {
      "text/plain": [
       "5"
      ]
     },
     "execution_count": 19,
     "metadata": {},
     "output_type": "execute_result"
    }
   ],
   "source": [
    "class CustomNode(treelib.Node):\n",
    "    \"\"\"\n",
    "    Allows for additional functions\n",
    "    \"\"\"\n",
    "\n",
    "    def __init__(self, tag=None, identifier=None, expanded=True, data=None, order=None):\n",
    "        super().__init__(tag, identifier, expanded, data)\n",
    "        self.order = order\n",
    "\n",
    "class CustomTree(treelib.Tree):\n",
    "        hello = 1\n",
    "        def __init__(self, tree=None, deep=False, node_class=None, identifier=None, step = 0):\n",
    "            treelib.Tree.__init__(self, tree, deep, node_class, identifier)\n",
    "            self.step = step\n",
    "class Data:\n",
    "    def __init__(self, info):\n",
    "        self.info = info\n",
    "\n",
    "@dataclass\n",
    "class NodeData:\n",
    "    m: pint.models.timing_model.TimingModel\n",
    "    t: pint.toa.TOAs\n",
    "    args: dict\n",
    "\n",
    "    def __iter__(self):\n",
    "        return iter((self.m, self.t, self.args))\n",
    "\n",
    "tree = CustomTree(node_class = CustomNode)\n",
    "\n",
    "# tree= Tree()\n",
    "tree.create_node(\"Start\", \"start\")\n",
    "tree.create_node(\"Sub\", \"sub\", parent = \"start\", data = Data(5))\n",
    "tree.contains(\"strt\")\n",
    "tree[\"sub\"].data.info"
   ]
  },
  {
   "cell_type": "code",
   "execution_count": 371,
   "metadata": {},
   "outputs": [
    {
     "name": "stdout",
     "output_type": "stream",
     "text": [
      "Harry\n",
      "├── Bill\n",
      "└── Jane\n",
      "    ├── Diane\n",
      "    │   └── Mary\n",
      "    └── Mark\n",
      "\n"
     ]
    }
   ],
   "source": [
    "from treelib import Node, Tree\n",
    "tree = Tree()\n",
    "tree.create_node(\"Harry\", \"harry\")  # root node\n",
    "tree.create_node(\"Jane\", \"jane\", parent=\"harry\")\n",
    "tree.create_node(\"Bill\", \"bill\", parent=\"harry\")\n",
    "tree.create_node(\"Diane\", \"diane\", parent=\"jane\")\n",
    "tree.create_node(\"Mary\", \"mary\", parent=\"diane\")\n",
    "tree.create_node(\"Mark\", \"mark\", parent=\"jane\")\n",
    "tree.show()"
   ]
  },
  {
   "cell_type": "code",
   "execution_count": 20,
   "metadata": {},
   "outputs": [
    {
     "name": "stderr",
     "output_type": "stream",
     "text": [
      "\u001b[33m\u001b[1mWARNING \u001b[0m (pint.toa                      ): \u001b[33m\u001b[1mNo ephemeris provided to TOAs object or compute_TDBs. Using DE421\u001b[0m\n"
     ]
    },
    {
     "name": "stdout",
     "output_type": "stream",
     "text": [
      "1A\n",
      "├── 2A\n",
      "│   ├── 3A\n",
      "│   │   ├── 4A\n",
      "│   │   ├── 4B\n",
      "│   │   │   └── 5A\n",
      "│   │   └── 4C\n",
      "│   └── 3B\n",
      "└── 2B\n",
      "\n"
     ]
    }
   ],
   "source": [
    "timfile = \"/Users/jackson/Desktop/Pint_Personal/APT/binary_test_data/binary6_15/fake_15.tim\"\n",
    "parfile = \"/Users/jackson/Desktop/Pint_Personal/APT/binary_test_data/binary6_15/fake_15.par\"\n",
    "m, t = pint.models.get_model_and_toas(parfile, timfile)\n",
    "data = NodeData(m, t, 1)\n",
    "data1 = NodeData(m, t, 1)\n",
    "data2 = NodeData(m, t, 1)\n",
    "\n",
    "mask = np.array([i for i in range(len(t))]) % 2 == 0\n",
    "data1.t.table[\"delta_pulse_number\"][mask] = 1\n",
    "data2.t.table[\"delta_pulse_number\"][~mask] = 1\n",
    "\n",
    "data = data1 = data2 = NodeData(0,1,2)\n",
    "\n",
    "tree = CustomTree(node_class = CustomNode)\n",
    "def tree_maker(tree):\n",
    "    tree.create_node(\"1A\", \"1A\", data=data)\n",
    "    tree.create_node(\"2A\",\"2A\", parent = \"1A\", data = data1)\n",
    "    tree.create_node(\"2B\",\"2B\", parent = \"1A\", data = data2)\n",
    "    tree.create_node(\"3A\",\"3A\", parent = \"2A\", data = data2)\n",
    "    tree.create_node(\"3B\", \"3B\", parent = \"2A\")\n",
    "    tree.create_node(\"4A\",\"4A\", parent = \"3A\", data = data2)\n",
    "    tree.create_node(\"4B\",\"4B\", parent = \"3A\", data = data2)\n",
    "    tree.create_node(\"4C\",\"4C\", parent = \"3A\", data = data2)\n",
    "    tree.create_node(\"5A\",\"5A\", parent = \"4B\", data = data2)\n",
    "\n",
    "tree_maker(tree)\n",
    "tree.show()\n",
    "# tree.remove_node(\"3A\")\n",
    "# tree.show()"
   ]
  },
  {
   "cell_type": "code",
   "execution_count": 236,
   "metadata": {},
   "outputs": [
    {
     "name": "stdout",
     "output_type": "stream",
     "text": [
      "bad = 4A\n",
      "1A\n",
      "├── 2A\n",
      "│   ├── 3A\n",
      "│   │   └── 4A\n",
      "│   └── 3B\n",
      "└── 2B\n",
      "\n",
      "bad = 3A\n",
      "1A\n",
      "├── 2A\n",
      "│   ├── 3A\n",
      "│   └── 3B\n",
      "└── 2B\n",
      "\n",
      "break\n",
      "CustomNode(tag=3B, identifier=3B, data=None)\n",
      "1A\n",
      "├── 2A\n",
      "│   └── 3B\n",
      "└── 2B\n",
      "\n"
     ]
    }
   ],
   "source": [
    "# once 4A fails, need to work its way up then down to 2B\n",
    "tree = tree_maker()\n",
    "# print(tree.all_nodes())\n",
    "tree.remove_node(\"4B\")\n",
    "tree.remove_node(\"4C\")\n",
    "\n",
    "bad = \"4A\"\n",
    "while True:\n",
    "    print(f\"bad = {bad}\")\n",
    "    tree.show()\n",
    "    parent_bad = tree.parent(bad).identifier\n",
    "    tree.remove_node(bad)\n",
    "    if tree.children(parent_bad):\n",
    "        print(\"break\")\n",
    "        break\n",
    "    bad = parent_bad\n",
    "print(tree.children(parent_bad)[0])\n",
    "\n",
    "tree.show()"
   ]
  },
  {
   "cell_type": "code",
   "execution_count": 194,
   "metadata": {},
   "outputs": [
    {
     "data": {
      "text/plain": [
       "0"
      ]
     },
     "execution_count": 194,
     "metadata": {},
     "output_type": "execute_result"
    }
   ],
   "source": [
    "tree[\"1A\"].data.m # I prefer this over\n",
    "tree[\"1A\"].data[0] # this"
   ]
  },
  {
   "cell_type": "code",
   "execution_count": 195,
   "metadata": {},
   "outputs": [
    {
     "data": {
      "text/plain": [
       "numpy.ndarray"
      ]
     },
     "execution_count": 195,
     "metadata": {},
     "output_type": "execute_result"
    }
   ],
   "source": [
    "type(np.array([1,2]))"
   ]
  },
  {
   "cell_type": "code",
   "execution_count": 247,
   "metadata": {},
   "outputs": [
    {
     "name": "stdout",
     "output_type": "stream",
     "text": [
      "CustomNode(tag=1A, identifier=1A, data=NodeData(m=0, t=1, args=2))\n",
      "CustomNode(tag=1A, identifier=1A, data=NodeData(m=0, t=1, args=2))\n",
      "\n",
      "CustomNode(tag=5A, identifier=5A, data=NodeData(m=0, t=1, args=2))\n"
     ]
    }
   ],
   "source": [
    "print(tree.get_node(\"1A\"))\n",
    "print(tree[\"1A\"])\n",
    "print()\n",
    "print(custom :=tree.all_nodes()[-1])"
   ]
  },
  {
   "cell_type": "code",
   "execution_count": 251,
   "metadata": {},
   "outputs": [],
   "source": [
    "i, j, k = custom.data"
   ]
  },
  {
   "cell_type": "code",
   "execution_count": 252,
   "metadata": {},
   "outputs": [
    {
     "data": {
      "text/plain": [
       "0"
      ]
     },
     "execution_count": 252,
     "metadata": {},
     "output_type": "execute_result"
    }
   ],
   "source": [
    "i"
   ]
  },
  {
   "cell_type": "code",
   "execution_count": 244,
   "metadata": {},
   "outputs": [
    {
     "name": "stdout",
     "output_type": "stream",
     "text": [
      "1\n",
      "2\n",
      "3\n"
     ]
    }
   ],
   "source": [
    "for i in iter([1,2,3]):\n",
    "    print(i)"
   ]
  },
  {
   "cell_type": "code",
   "execution_count": 257,
   "metadata": {},
   "outputs": [
    {
     "data": {
      "text/plain": [
       "{2: 4, 1: 6}"
      ]
     },
     "execution_count": 257,
     "metadata": {},
     "output_type": "execute_result"
    }
   ],
   "source": [
    "dict1 = {4:2, 6:1}\n",
    "{i: j for j,i in dict1.items()}"
   ]
  },
  {
   "cell_type": "code",
   "execution_count": 270,
   "metadata": {},
   "outputs": [
    {
     "name": "stdout",
     "output_type": "stream",
     "text": [
      "[1, 2, 3]\n",
      "\n",
      "1\n",
      "[2, 3]\n",
      "\n",
      "2\n",
      "[3]\n",
      "\n"
     ]
    }
   ],
   "source": [
    "print(x := [1,2,3])\n",
    "print()\n",
    "for _ in range(2):\n",
    "    print(x.pop(0))\n",
    "    print(x)\n",
    "    print()"
   ]
  },
  {
   "cell_type": "code",
   "execution_count": 289,
   "metadata": {},
   "outputs": [
    {
     "name": "stdout",
     "output_type": "stream",
     "text": [
      "['A', 'B', 'C', 'D', 'E', 'F', 'G', 'H', 'I', 'J', 'K', 'L', 'M', 'N', 'O', 'P', 'Q', 'R', 'S', 'T', 'U', 'V', 'W', 'X', 'Y', 'Z']\n",
      "['B', 'C', 'D', 'E', 'F', 'G', 'H', 'I', 'J', 'K', 'L', 'M', 'N', 'O', 'P', 'Q', 'R', 'S', 'T', 'U', 'V', 'W', 'X', 'Y', 'Z']\n"
     ]
    }
   ],
   "source": [
    "import string\n",
    "x = list(string.ascii_uppercase)\n",
    "y = list(string.ascii_uppercase)\n",
    "print(x)\n",
    "x.pop(0)\n",
    "print(x)"
   ]
  },
  {
   "cell_type": "code",
   "execution_count": 292,
   "metadata": {},
   "outputs": [
    {
     "name": "stdout",
     "output_type": "stream",
     "text": [
      "True\n"
     ]
    }
   ],
   "source": [
    "if 3 -1 in {2:4}:\n",
    "    print(\"True\")"
   ]
  },
  {
   "cell_type": "code",
   "execution_count": 298,
   "metadata": {},
   "outputs": [
    {
     "data": {
      "text/plain": [
       "CustomNode(tag=3B, identifier=3B, data=5)"
      ]
     },
     "execution_count": 298,
     "metadata": {},
     "output_type": "execute_result"
    }
   ],
   "source": [
    "tree[\"3B\"].data = 5\n",
    "tree[\"3B\"]"
   ]
  },
  {
   "cell_type": "code",
   "execution_count": 314,
   "metadata": {},
   "outputs": [
    {
     "data": {
      "text/plain": [
       "[2, 3, 4]"
      ]
     },
     "execution_count": 314,
     "metadata": {},
     "output_type": "execute_result"
    }
   ],
   "source": [
    "x = {2:6, 4:1, 3: 3}\n",
    "(y := list(x.keys())).sort()\n",
    "# y.sort()\n",
    "y"
   ]
  },
  {
   "cell_type": "code",
   "execution_count": 345,
   "metadata": {},
   "outputs": [
    {
     "name": "stdout",
     "output_type": "stream",
     "text": [
      "[4, 5, 6]\n",
      "4\n",
      "5\n",
      "6\n",
      "[]\n",
      "\n"
     ]
    }
   ],
   "source": [
    "tree[\"2A\"].order = [4,5,6]\n",
    "print(tree[\"2A\"].order)\n",
    "print(tree[\"2A\"].order.pop(0))\n",
    "print(tree[\"2A\"].order.pop(0))\n",
    "print(tree[\"2A\"].order.pop(0))\n",
    "print(tree[\"2A\"].order)\n",
    "print()\n",
    "\n"
   ]
  },
  {
   "cell_type": "code",
   "execution_count": 22,
   "metadata": {},
   "outputs": [
    {
     "data": {
      "text/plain": [
       "'1A'"
      ]
     },
     "execution_count": 22,
     "metadata": {},
     "output_type": "execute_result"
    }
   ],
   "source": [
    "tree.parent(\"2A\").identifier\n"
   ]
  },
  {
   "cell_type": "code",
   "execution_count": 373,
   "metadata": {},
   "outputs": [],
   "source": [
    "i,j,k=tree[\"2A\"].data"
   ]
  },
  {
   "cell_type": "code",
   "execution_count": 369,
   "metadata": {},
   "outputs": [],
   "source": [
    "i,j,k = (1,2,3)"
   ]
  },
  {
   "cell_type": "code",
   "execution_count": 377,
   "metadata": {},
   "outputs": [
    {
     "ename": "TypeError",
     "evalue": "cannot unpack non-iterable NoneType object",
     "output_type": "error",
     "traceback": [
      "\u001b[0;31m---------------------------------------------------------------------------\u001b[0m",
      "\u001b[0;31mTypeError\u001b[0m                                 Traceback (most recent call last)",
      "\u001b[1;32m/Users/jackson/Desktop/Pint_Personal/APT/APTJunk/treetests.ipynb Cell 22'\u001b[0m in \u001b[0;36m<cell line: 4>\u001b[0;34m()\u001b[0m\n\u001b[1;32m      <a href='vscode-notebook-cell:/Users/jackson/Desktop/Pint_Personal/APT/APTJunk/treetests.ipynb#ch0000022?line=0'>1</a>\u001b[0m \u001b[39mdef\u001b[39;00m \u001b[39mtest\u001b[39m():\n\u001b[1;32m      <a href='vscode-notebook-cell:/Users/jackson/Desktop/Pint_Personal/APT/APTJunk/treetests.ipynb#ch0000022?line=1'>2</a>\u001b[0m     x \u001b[39m=\u001b[39m \u001b[39m2\u001b[39m\n\u001b[0;32m----> <a href='vscode-notebook-cell:/Users/jackson/Desktop/Pint_Personal/APT/APTJunk/treetests.ipynb#ch0000022?line=3'>4</a>\u001b[0m x, y \u001b[39m=\u001b[39m test()\n\u001b[1;32m      <a href='vscode-notebook-cell:/Users/jackson/Desktop/Pint_Personal/APT/APTJunk/treetests.ipynb#ch0000022?line=4'>5</a>\u001b[0m \u001b[39mprint\u001b[39m(x)\n",
      "\u001b[0;31mTypeError\u001b[0m: cannot unpack non-iterable NoneType object"
     ]
    }
   ],
   "source": [
    "def test():\n",
    "    x = 2\n",
    "\n",
    "x, y = test()\n",
    "print(x)"
   ]
  },
  {
   "cell_type": "code",
   "execution_count": 378,
   "metadata": {},
   "outputs": [
    {
     "name": "stdout",
     "output_type": "stream",
     "text": [
      "1 2\n",
      "3 4\n"
     ]
    }
   ],
   "source": [
    "for i,j in [(1,2), (3,4)]:\n",
    "    print(i, j)"
   ]
  },
  {
   "cell_type": "code",
   "execution_count": 13,
   "metadata": {},
   "outputs": [
    {
     "name": "stdout",
     "output_type": "stream",
     "text": [
      "top lis = [-1, 1]\n",
      "i = -1\n",
      "i = 1\n",
      "bottom lis = []\n",
      "\n"
     ]
    }
   ],
   "source": [
    "iteration = 0\n",
    "lis = [-1,1]\n",
    "while lis:\n",
    "    iteration += 1\n",
    "    if iteration > 20:\n",
    "        print(\"break\")\n",
    "        break\n",
    "    print(f\"top lis = {lis}\")\n",
    "\n",
    "\n",
    "    for i in list(lis):\n",
    "        print(f\"i = {i}\")\n",
    "        lis.remove(i)\n",
    "    print(f\"bottom lis = {lis}\\n\")\n"
   ]
  },
  {
   "cell_type": "code",
   "execution_count": 24,
   "metadata": {},
   "outputs": [
    {
     "data": {
      "text/plain": [
       "False"
      ]
     },
     "execution_count": 24,
     "metadata": {},
     "output_type": "execute_result"
    }
   ],
   "source": [
    "tree.contains(\"2L\")"
   ]
  },
  {
   "cell_type": "code",
   "execution_count": 36,
   "metadata": {},
   "outputs": [],
   "source": [
    "import uuid\n",
    "hashes = [uuid.uuid1() for _ in range(100)]"
   ]
  },
  {
   "cell_type": "code",
   "execution_count": 42,
   "metadata": {},
   "outputs": [],
   "source": [
    "length = len(hashes)\n",
    "for i, hashi in enumerate(hashes[:-1]):\n",
    "    for j, hashj in enumerate(hashes[i+1:]):\n",
    "        if hashi == hashj:\n",
    "            print(f\"hashi = {hashi}, hashj = {hashj}\")"
   ]
  },
  {
   "cell_type": "code",
   "execution_count": 44,
   "metadata": {},
   "outputs": [],
   "source": [
    "import os\n",
    "os.chdir(\"/Users/jackson/Desktop/Pint_Personal\")\n",
    "tree.save2file(\"test.tree\")"
   ]
  },
  {
   "cell_type": "code",
   "execution_count": 46,
   "metadata": {},
   "outputs": [
    {
     "name": "stdout",
     "output_type": "stream",
     "text": [
      "F1 = -1.26e-15\n"
     ]
    }
   ],
   "source": [
    "P1 = 1.4e-20\n",
    "P0 = 1/300\n",
    "\n",
    "F1 = -P1 / P0/ P0\n",
    "print(f\"F1 = {F1}\")"
   ]
  },
  {
   "cell_type": "code",
   "execution_count": null,
   "metadata": {},
   "outputs": [],
   "source": []
  }
 ],
 "metadata": {
  "kernelspec": {
   "display_name": "Python 3.9.12 ('penguin')",
   "language": "python",
   "name": "python3"
  },
  "language_info": {
   "codemirror_mode": {
    "name": "ipython",
    "version": 3
   },
   "file_extension": ".py",
   "mimetype": "text/x-python",
   "name": "python",
   "nbconvert_exporter": "python",
   "pygments_lexer": "ipython3",
   "version": "3.9.12"
  },
  "orig_nbformat": 4,
  "vscode": {
   "interpreter": {
    "hash": "a1d132dd072b8d5db54bff76b1d5a2ffac9c5941c0c46880f80e3436479cf37b"
   }
  }
 },
 "nbformat": 4,
 "nbformat_minor": 2
}
