{
 "cells": [
  {
   "cell_type": "code",
   "execution_count": 1,
   "metadata": {},
   "outputs": [],
   "source": [
    "import astropy.units as u\n",
    "import matplotlib.pyplot as plt\n",
    "\n",
    "import pint.fitter\n",
    "from pint.models import get_model_and_toas\n",
    "from pint.residuals import Residuals\n",
    "from pint.toa import get_TOAs"
   ]
  },
  {
   "cell_type": "code",
   "execution_count": 2,
   "metadata": {},
   "outputs": [],
   "source": [
    "parfile = \"1748-24ao.par\"\n",
    "timfile = \"Ter5ao.tim\""
   ]
  },
  {
   "cell_type": "code",
   "execution_count": 5,
   "metadata": {},
   "outputs": [
    {
     "name": "stderr",
     "output_type": "stream",
     "text": [
      "/Users/jackson/Desktop/Pint_Personal/PINT/src/pint/models/timing_model.py:377: UserWarning: PINT only supports 'T2CMETHOD IAU2000B'\n",
      "  warn(\"PINT only supports 'T2CMETHOD IAU2000B'\")\n",
      "2022-12-04 13:49:44.015 | DEBUG    | pint.toa:get_TOAs:184 - Using EPHEM = DE436 from the given model\n",
      "2022-12-04 13:49:44.133 | DEBUG    | pint.toa:__init__:1310 - No pulse number flags found in the TOAs\n",
      "2022-12-04 13:49:44.135 | DEBUG    | pint.toa:apply_clock_corrections:2089 - Applying clock corrections (include_gps = True, include_bipm = True)\n",
      "2022-12-04 13:49:44.156 | INFO     | pint.observatory:gps_correction:217 - Applying GPS to UTC clock correction (~few nanoseconds)\n",
      "2022-12-04 13:49:44.158 | INFO     | pint.observatory:bipm_correction:224 - Applying TT(TAI) to TT(BIPM2021) clock correction (~27 us)\n",
      "2022-12-04 13:49:44.159 | INFO     | pint.observatory.topo_obs:clock_corrections:259 - Applying observatory clock corrections.\n",
      "2022-12-04 13:49:44.270 | DEBUG    | pint.toa:compute_TDBs:2139 - Computing TDB columns.\n",
      "2022-12-04 13:49:44.271 | DEBUG    | pint.toa:compute_TDBs:2164 - Using EPHEM = DE436 for TDB calculation.\n",
      "2022-12-04 13:49:44.317 | DEBUG    | pint.toa:compute_posvels:2255 - Computing PosVels of observatories and Earth, using DE436\n",
      "2022-12-04 13:49:44.330 | INFO     | pint.solar_system_ephemerides:_load_kernel_link:54 - Set solar system ephemeris to de436 from download\n",
      "2022-12-04 13:49:44.408 | DEBUG    | pint.toa:compute_posvels:2310 - SSB obs pos [ 1.19230890e+11 -8.47091074e+10 -3.67194639e+10] m\n",
      "2022-12-04 13:49:44.411 | INFO     | pint.solar_system_ephemerides:_load_kernel_link:54 - Set solar system ephemeris to de436 from download\n",
      "2022-12-04 13:49:44.415 | DEBUG    | pint.toa:compute_posvels:2324 - Adding columns ssb_obs_pos ssb_obs_vel obs_sun_pos\n"
     ]
    },
    {
     "data": {
      "text/plain": [
       "0.3249061492"
      ]
     },
     "execution_count": 5,
     "metadata": {},
     "output_type": "execute_result"
    }
   ],
   "source": [
    "m, t_all = get_model_and_toas(parfile, timfile)\n",
    "m.ECC.value"
   ]
  },
  {
   "cell_type": "code",
   "execution_count": null,
   "metadata": {},
   "outputs": [],
   "source": []
  }
 ],
 "metadata": {
  "kernelspec": {
   "display_name": "Python 3.9.12 ('penguin')",
   "language": "python",
   "name": "python3"
  },
  "language_info": {
   "codemirror_mode": {
    "name": "ipython",
    "version": 3
   },
   "file_extension": ".py",
   "mimetype": "text/x-python",
   "name": "python",
   "nbconvert_exporter": "python",
   "pygments_lexer": "ipython3",
   "version": "3.9.12"
  },
  "orig_nbformat": 4,
  "vscode": {
   "interpreter": {
    "hash": "a1d132dd072b8d5db54bff76b1d5a2ffac9c5941c0c46880f80e3436479cf37b"
   }
  }
 },
 "nbformat": 4,
 "nbformat_minor": 2
}
