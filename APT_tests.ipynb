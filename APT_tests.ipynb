{
 "cells": [
  {
   "cell_type": "code",
   "execution_count": 1,
   "metadata": {},
   "outputs": [],
   "source": [
    "import pint.toa\n",
    "import pint.models\n",
    "import pint.fitter\n",
    "import pint.residuals\n",
    "import pint.utils\n",
    "import pint.models.model_builder as mb\n",
    "import pint.random_models\n",
    "from pint.phase import Phase\n",
    "from copy import deepcopy\n",
    "from collections import OrderedDict\n",
    "from astropy import log\n",
    "import astropy.units as u\n",
    "import numpy as np\n",
    "import matplotlib.pyplot as plt\n",
    "import os\n",
    "import csv\n",
    "import operator\n",
    "import time\n",
    "from pathlib import Path\n",
    "#import APT_argparse\n",
    "import socket"
   ]
  },
  {
   "cell_type": "code",
   "execution_count": 43,
   "metadata": {},
   "outputs": [
    {
     "data": {
      "text/plain": [
       "array([   0.40726644, -215.77663308])"
      ]
     },
     "execution_count": 43,
     "metadata": {},
     "output_type": "execute_result"
    }
   ],
   "source": [
    "f = pint.fitter.WLSFitter(t, m)\n",
    "\n",
    "f.get_designmatrix()"
   ]
  },
  {
   "cell_type": "code",
   "execution_count": 23,
   "metadata": {},
   "outputs": [
    {
     "name": "stderr",
     "output_type": "stream",
     "text": [
      "2022-06-23 15:31:03.210 | DEBUG    | pint.toa:__init__:1304 - No pulse number flags found in the TOAs\n",
      "2022-06-23 15:31:03.212 | DEBUG    | pint.toa:apply_clock_corrections:2085 - Applying clock corrections (include_gps = True, include_bipm = True)\n",
      "2022-06-23 15:31:03.226 | INFO     | pint.observatory.topo_obs:clock_corrections:258 - Applying observatory clock corrections.\n",
      "2022-06-23 15:31:03.228 | INFO     | pint.observatory.topo_obs:clock_corrections:263 - Applying GPS to UTC clock correction (~few nanoseconds)\n",
      "2022-06-23 15:31:03.230 | INFO     | pint.observatory.topo_obs:clock_corrections:268 - Applying TT(TAI) to TT(BIPM2021) clock correction (~27 us)\n",
      "2022-06-23 15:31:03.348 | DEBUG    | pint.toa:compute_TDBs:2148 - Computing TDB columns.\n",
      "2022-06-23 15:31:03.349 | WARNING  | pint.toa:compute_TDBs:2160 - No ephemeris provided to TOAs object or compute_TDBs. Using DE421\n",
      "2022-06-23 15:31:03.349 | DEBUG    | pint.toa:compute_TDBs:2173 - Using EPHEM = DE421 for TDB calculation.\n",
      "2022-06-23 15:31:03.400 | DEBUG    | pint.toa:compute_posvels:2267 - Computing PosVels of observatories and Earth, using DE421\n",
      "2022-06-23 15:31:03.409 | INFO     | pint.solar_system_ephemerides:_load_kernel_link:54 - Set solar system ephemeris to de421 from download\n",
      "2022-06-23 15:31:03.462 | DEBUG    | pint.toa:compute_posvels:2325 - SSB obs pos [-1.48252269e+11  1.48939728e+10  6.45764512e+09] m\n",
      "2022-06-23 15:31:03.464 | INFO     | pint.solar_system_ephemerides:_load_kernel_link:54 - Set solar system ephemeris to de421 from download\n",
      "2022-06-23 15:31:03.466 | DEBUG    | pint.toa:compute_posvels:2339 - Adding columns ssb_obs_pos ssb_obs_vel obs_sun_pos\n"
     ]
    },
    {
     "data": {
      "text/html": [
       "&lt;Column name=&apos;flags&apos; dtype=&apos;object&apos; length=149&gt;\n",
       "<table>\n",
       "<tr><td>{&apos;format&apos;: &apos;Tempo2&apos;, &apos;name&apos;: &apos;fake&apos;, &apos;clkcorr&apos;: &apos;2.7611500005802326e-05&apos;, &apos;jump_tim&apos;: &apos;1&apos;}</td></tr>\n",
       "<tr><td>{&apos;format&apos;: &apos;Tempo2&apos;, &apos;name&apos;: &apos;fake&apos;, &apos;clkcorr&apos;: &apos;2.7611464983094113e-05&apos;, &apos;jump_tim&apos;: &apos;1&apos;}</td></tr>\n",
       "<tr><td>{&apos;format&apos;: &apos;Tempo2&apos;, &apos;name&apos;: &apos;fake&apos;, &apos;clkcorr&apos;: &apos;2.761142999056391e-05&apos;, &apos;jump_tim&apos;: &apos;1&apos;}</td></tr>\n",
       "<tr><td>{&apos;format&apos;: &apos;Tempo2&apos;, &apos;name&apos;: &apos;fake&apos;, &apos;clkcorr&apos;: &apos;2.761139496783465e-05&apos;, &apos;jump_tim&apos;: &apos;1&apos;}</td></tr>\n",
       "<tr><td>{&apos;format&apos;: &apos;Tempo2&apos;, &apos;name&apos;: &apos;fake&apos;, &apos;clkcorr&apos;: &apos;2.7611359948829142e-05&apos;, &apos;jump_tim&apos;: &apos;1&apos;}</td></tr>\n",
       "<tr><td>{&apos;format&apos;: &apos;Tempo2&apos;, &apos;name&apos;: &apos;fake&apos;, &apos;clkcorr&apos;: &apos;2.761132492611692e-05&apos;, &apos;jump_tim&apos;: &apos;1&apos;}</td></tr>\n",
       "<tr><td>{&apos;format&apos;: &apos;Tempo2&apos;, &apos;name&apos;: &apos;fake&apos;, &apos;clkcorr&apos;: &apos;2.7611289933511566e-05&apos;, &apos;jump_tim&apos;: &apos;1&apos;}</td></tr>\n",
       "<tr><td>{&apos;format&apos;: &apos;Tempo2&apos;, &apos;name&apos;: &apos;fake&apos;, &apos;clkcorr&apos;: &apos;2.7608480209963185e-05&apos;, &apos;jump_tim&apos;: &apos;2&apos;}</td></tr>\n",
       "<tr><td>{&apos;format&apos;: &apos;Tempo2&apos;, &apos;name&apos;: &apos;fake&apos;, &apos;clkcorr&apos;: &apos;2.760851408196982e-05&apos;, &apos;jump_tim&apos;: &apos;2&apos;}</td></tr>\n",
       "<tr><td>{&apos;format&apos;: &apos;Tempo2&apos;, &apos;name&apos;: &apos;fake&apos;, &apos;clkcorr&apos;: &apos;2.7608547957674082e-05&apos;, &apos;jump_tim&apos;: &apos;2&apos;}</td></tr>\n",
       "<tr><td>{&apos;format&apos;: &apos;Tempo2&apos;, &apos;name&apos;: &apos;fake&apos;, &apos;clkcorr&apos;: &apos;2.7608581829680227e-05&apos;, &apos;jump_tim&apos;: &apos;2&apos;}</td></tr>\n",
       "<tr><td>{&apos;format&apos;: &apos;Tempo2&apos;, &apos;name&apos;: &apos;fake&apos;, &apos;clkcorr&apos;: &apos;2.760861567531231e-05&apos;, &apos;jump_tim&apos;: &apos;2&apos;}</td></tr>\n",
       "<tr><td>...</td></tr>\n",
       "<tr><td>{&apos;format&apos;: &apos;Tempo2&apos;, &apos;name&apos;: &apos;fake&apos;, &apos;clkcorr&apos;: &apos;2.72110487381627e-05&apos;, &apos;jump_tim&apos;: &apos;28&apos;}</td></tr>\n",
       "<tr><td>{&apos;format&apos;: &apos;Tempo2&apos;, &apos;name&apos;: &apos;fake&apos;, &apos;clkcorr&apos;: &apos;2.721102767055147e-05&apos;, &apos;jump_tim&apos;: &apos;28&apos;}</td></tr>\n",
       "<tr><td>{&apos;format&apos;: &apos;Tempo2&apos;, &apos;name&apos;: &apos;fake&apos;, &apos;clkcorr&apos;: &apos;2.7211006599188753e-05&apos;, &apos;jump_tim&apos;: &apos;28&apos;}</td></tr>\n",
       "<tr><td>{&apos;format&apos;: &apos;Tempo2&apos;, &apos;name&apos;: &apos;fake&apos;, &apos;clkcorr&apos;: &apos;2.7197059349200773e-05&apos;, &apos;jump_tim&apos;: &apos;29&apos;}</td></tr>\n",
       "<tr><td>{&apos;format&apos;: &apos;Tempo2&apos;, &apos;name&apos;: &apos;fake&apos;, &apos;clkcorr&apos;: &apos;2.7197070372664954e-05&apos;, &apos;jump_tim&apos;: &apos;29&apos;}</td></tr>\n",
       "<tr><td>{&apos;format&apos;: &apos;Tempo2&apos;, &apos;name&apos;: &apos;fake&apos;, &apos;clkcorr&apos;: &apos;2.6952377245083518e-05&apos;, &apos;jump_tim&apos;: &apos;30&apos;}</td></tr>\n",
       "<tr><td>{&apos;format&apos;: &apos;Tempo2&apos;, &apos;name&apos;: &apos;fake&apos;, &apos;clkcorr&apos;: &apos;2.6952383041856963e-05&apos;, &apos;jump_tim&apos;: &apos;30&apos;}</td></tr>\n",
       "<tr><td>{&apos;format&apos;: &apos;Tempo2&apos;, &apos;name&apos;: &apos;fake&apos;, &apos;clkcorr&apos;: &apos;2.695238883863416e-05&apos;, &apos;jump_tim&apos;: &apos;30&apos;}</td></tr>\n",
       "<tr><td>{&apos;format&apos;: &apos;Tempo2&apos;, &apos;name&apos;: &apos;fake&apos;, &apos;clkcorr&apos;: &apos;2.6952394639136642e-05&apos;, &apos;jump_tim&apos;: &apos;30&apos;}</td></tr>\n",
       "<tr><td>{&apos;format&apos;: &apos;Tempo2&apos;, &apos;name&apos;: &apos;fake&apos;, &apos;clkcorr&apos;: &apos;2.6952400435912204e-05&apos;, &apos;jump_tim&apos;: &apos;30&apos;}</td></tr>\n",
       "<tr><td>{&apos;format&apos;: &apos;Tempo2&apos;, &apos;name&apos;: &apos;fake&apos;, &apos;clkcorr&apos;: &apos;2.6952406231700634e-05&apos;, &apos;jump_tim&apos;: &apos;30&apos;}</td></tr>\n",
       "<tr><td>{&apos;format&apos;: &apos;Tempo2&apos;, &apos;name&apos;: &apos;fake&apos;, &apos;clkcorr&apos;: &apos;2.6952412028479026e-05&apos;, &apos;jump_tim&apos;: &apos;30&apos;}</td></tr>\n",
       "</table>"
      ],
      "text/plain": [
       "<Column name='flags' dtype='object' length=149>\n",
       " {'format': 'Tempo2', 'name': 'fake', 'clkcorr': '2.7611500005802326e-05', 'jump_tim': '1'}\n",
       " {'format': 'Tempo2', 'name': 'fake', 'clkcorr': '2.7611464983094113e-05', 'jump_tim': '1'}\n",
       "  {'format': 'Tempo2', 'name': 'fake', 'clkcorr': '2.761142999056391e-05', 'jump_tim': '1'}\n",
       "  {'format': 'Tempo2', 'name': 'fake', 'clkcorr': '2.761139496783465e-05', 'jump_tim': '1'}\n",
       " {'format': 'Tempo2', 'name': 'fake', 'clkcorr': '2.7611359948829142e-05', 'jump_tim': '1'}\n",
       "  {'format': 'Tempo2', 'name': 'fake', 'clkcorr': '2.761132492611692e-05', 'jump_tim': '1'}\n",
       " {'format': 'Tempo2', 'name': 'fake', 'clkcorr': '2.7611289933511566e-05', 'jump_tim': '1'}\n",
       " {'format': 'Tempo2', 'name': 'fake', 'clkcorr': '2.7608480209963185e-05', 'jump_tim': '2'}\n",
       "  {'format': 'Tempo2', 'name': 'fake', 'clkcorr': '2.760851408196982e-05', 'jump_tim': '2'}\n",
       " {'format': 'Tempo2', 'name': 'fake', 'clkcorr': '2.7608547957674082e-05', 'jump_tim': '2'}\n",
       " {'format': 'Tempo2', 'name': 'fake', 'clkcorr': '2.7608581829680227e-05', 'jump_tim': '2'}\n",
       "  {'format': 'Tempo2', 'name': 'fake', 'clkcorr': '2.760861567531231e-05', 'jump_tim': '2'}\n",
       "                                                                                        ...\n",
       "  {'format': 'Tempo2', 'name': 'fake', 'clkcorr': '2.72110487381627e-05', 'jump_tim': '28'}\n",
       " {'format': 'Tempo2', 'name': 'fake', 'clkcorr': '2.721102767055147e-05', 'jump_tim': '28'}\n",
       "{'format': 'Tempo2', 'name': 'fake', 'clkcorr': '2.7211006599188753e-05', 'jump_tim': '28'}\n",
       "{'format': 'Tempo2', 'name': 'fake', 'clkcorr': '2.7197059349200773e-05', 'jump_tim': '29'}\n",
       "{'format': 'Tempo2', 'name': 'fake', 'clkcorr': '2.7197070372664954e-05', 'jump_tim': '29'}\n",
       "{'format': 'Tempo2', 'name': 'fake', 'clkcorr': '2.6952377245083518e-05', 'jump_tim': '30'}\n",
       "{'format': 'Tempo2', 'name': 'fake', 'clkcorr': '2.6952383041856963e-05', 'jump_tim': '30'}\n",
       " {'format': 'Tempo2', 'name': 'fake', 'clkcorr': '2.695238883863416e-05', 'jump_tim': '30'}\n",
       "{'format': 'Tempo2', 'name': 'fake', 'clkcorr': '2.6952394639136642e-05', 'jump_tim': '30'}\n",
       "{'format': 'Tempo2', 'name': 'fake', 'clkcorr': '2.6952400435912204e-05', 'jump_tim': '30'}\n",
       "{'format': 'Tempo2', 'name': 'fake', 'clkcorr': '2.6952406231700634e-05', 'jump_tim': '30'}\n",
       "{'format': 'Tempo2', 'name': 'fake', 'clkcorr': '2.6952412028479026e-05', 'jump_tim': '30'}"
      ]
     },
     "execution_count": 23,
     "metadata": {},
     "output_type": "execute_result"
    }
   ],
   "source": [
    "from APT_binary import JUMP_adder_begginning, starting_points\n",
    "os.chdir(\"/Users/jackson/Desktop/Pint_Personal/APT/binary3_1\")\n",
    "\n",
    "parfile = Path(\"fake_1.par\")\n",
    "timfile = Path(\"fake_1.tim\")\n",
    "m, t = mb.get_model_and_toas(parfile, timfile)\n",
    "t.table[\"clusters\"] = t.get_clusters()\n",
    "masks = starting_points(toas = t)[0]\n",
    "mask = masks[1]\n",
    "t, m = JUMP_adder_begginning(mask, t, m, \"thisisatest.tim\", \"thisisatest.par\")\n",
    "t.table['flags']"
   ]
  },
  {
   "cell_type": "code",
   "execution_count": 3,
   "metadata": {},
   "outputs": [],
   "source": [
    "m.as_parfile() # adding jumps natively gives errors so I will add them manually\n",
    "with open(\"thisisatest1.par\", \"w\") as parfile:\n",
    "    parfile.write(m.as_parfile())\n",
    "    for i in range(1, 31):\n",
    "        parfile.write(f\"JUMP\\t\\t-jump_tim {i}\\t0 1 0\\n\")\n",
    "    "
   ]
  },
  {
   "cell_type": "code",
   "execution_count": 13,
   "metadata": {},
   "outputs": [
    {
     "name": "stderr",
     "output_type": "stream",
     "text": [
      "2022-06-23 15:29:14.901 | DEBUG    | pint.toa:__init__:1304 - No pulse number flags found in the TOAs\n",
      "2022-06-23 15:29:14.902 | DEBUG    | pint.toa:apply_clock_corrections:2085 - Applying clock corrections (include_gps = True, include_bipm = True)\n",
      "2022-06-23 15:29:14.919 | INFO     | pint.observatory.topo_obs:clock_corrections:258 - Applying observatory clock corrections.\n",
      "2022-06-23 15:29:14.920 | INFO     | pint.observatory.topo_obs:clock_corrections:263 - Applying GPS to UTC clock correction (~few nanoseconds)\n",
      "2022-06-23 15:29:14.922 | INFO     | pint.observatory.topo_obs:clock_corrections:268 - Applying TT(TAI) to TT(BIPM2021) clock correction (~27 us)\n",
      "2022-06-23 15:29:15.008 | DEBUG    | pint.toa:compute_TDBs:2148 - Computing TDB columns.\n",
      "2022-06-23 15:29:15.009 | WARNING  | pint.toa:compute_TDBs:2160 - No ephemeris provided to TOAs object or compute_TDBs. Using DE421\n",
      "2022-06-23 15:29:15.010 | DEBUG    | pint.toa:compute_TDBs:2173 - Using EPHEM = DE421 for TDB calculation.\n",
      "2022-06-23 15:29:15.048 | DEBUG    | pint.toa:compute_posvels:2267 - Computing PosVels of observatories and Earth, using DE421\n",
      "2022-06-23 15:29:15.056 | INFO     | pint.solar_system_ephemerides:_load_kernel_link:54 - Set solar system ephemeris to de421 from download\n",
      "2022-06-23 15:29:15.106 | DEBUG    | pint.toa:compute_posvels:2325 - SSB obs pos [-1.48252269e+11  1.48939728e+10  6.45764512e+09] m\n",
      "2022-06-23 15:29:15.109 | INFO     | pint.solar_system_ephemerides:_load_kernel_link:54 - Set solar system ephemeris to de421 from download\n",
      "2022-06-23 15:29:15.111 | DEBUG    | pint.toa:compute_posvels:2339 - Adding columns ssb_obs_pos ssb_obs_vel obs_sun_pos\n"
     ]
    }
   ],
   "source": [
    "from APT_binary import JUMP_adder_begginning, starting_points\n",
    "os.chdir(\"/Users/jackson/Desktop/Pint_Personal/APT/binary3_1\")\n",
    "\n",
    "parfile = Path(\"fake_1.par\")\n",
    "timfile = Path(\"fake_1.tim\")\n",
    "m, t = mb.get_model_and_toas(parfile, timfile)\n",
    "t.table[\"clusters\"] = t.get_clusters()\n",
    "mask, clusters = starting_points(toas = t)\n",
    "t, m = JUMP_adder_begginning(mask[0], t, m, \"thisisatest.tim\", \"thisisatest.par\")"
   ]
  },
  {
   "cell_type": "code",
   "execution_count": 3,
   "metadata": {},
   "outputs": [
    {
     "data": {
      "text/plain": [
       "{'AbsPhase': AbsPhase(\n",
       "     MJDParameter(   TZRMJD              56000.0000000000000000 (d) frozen=True),\n",
       "     strParameter(   TZRSITE             GBT               frozen=True),\n",
       "     floatParameter( TZRFRQ              1400.0            (MHz) frozen=True)),\n",
       " 'Spindown': Spindown(\n",
       "     floatParameter( F0                  2.4553950186475038 (Hz) +/- 1e-06 Hz frozen=False),\n",
       "     MJDParameter(   PEPOCH              56000.0000000000000000 (d) frozen=True),\n",
       "     floatParameter( F1                  0.0               (Hz / s) +/- 0.0 Hz / s frozen=True)),\n",
       " 'PhaseJump': PhaseJump(\n",
       "     maskParameter(JUMP1 -jump_tim 1 0.0 +/- 0.0 s (s)),\n",
       "     maskParameter(JUMP2 -jump_tim 2 0.0 +/- 0.0 s (s)),\n",
       "     maskParameter(JUMP3 -jump_tim 3 0.0 +/- 0.0 s (s)),\n",
       "     maskParameter(JUMP4 -jump_tim 4 0.0 +/- 0.0 s (s)),\n",
       "     maskParameter(JUMP5 -jump_tim 5 0.0 +/- 0.0 s (s)),\n",
       "     maskParameter(JUMP6 -jump_tim 6 0.0 +/- 0.0 s (s)),\n",
       "     maskParameter(JUMP7 -jump_tim 7 0.0 +/- 0.0 s (s)),\n",
       "     maskParameter(JUMP8 -jump_tim 8 0.0 +/- 0.0 s (s)),\n",
       "     maskParameter(JUMP9 -jump_tim 9 0.0 +/- 0.0 s (s)),\n",
       "     maskParameter(JUMP10 -jump_tim 10 0.0 +/- 0.0 s (s)),\n",
       "     maskParameter(JUMP11 -jump_tim 11 0.0 +/- 0.0 s (s)),\n",
       "     maskParameter(JUMP12 -jump_tim 12 0.0 +/- 0.0 s (s)),\n",
       "     maskParameter(JUMP13 -jump_tim 13 0.0 +/- 0.0 s (s)),\n",
       "     maskParameter(JUMP14 -jump_tim 14 0.0 +/- 0.0 s (s)),\n",
       "     maskParameter(JUMP15 -jump_tim 15 0.0 +/- 0.0 s (s)),\n",
       "     maskParameter(JUMP16 -jump_tim 16 0.0 +/- 0.0 s (s)),\n",
       "     maskParameter(JUMP17 -jump_tim 17 0.0 +/- 0.0 s (s)),\n",
       "     maskParameter(JUMP18 -jump_tim 18 0.0 +/- 0.0 s (s)),\n",
       "     maskParameter(JUMP19 -jump_tim 19 0.0 +/- 0.0 s (s)),\n",
       "     maskParameter(JUMP20 -jump_tim 20 0.0 +/- 0.0 s (s)),\n",
       "     maskParameter(JUMP21 -jump_tim 21 0.0 +/- 0.0 s (s)),\n",
       "     maskParameter(JUMP22 -jump_tim 22 0.0 +/- 0.0 s (s)),\n",
       "     maskParameter(JUMP23 -jump_tim 23 0.0 +/- 0.0 s (s)),\n",
       "     maskParameter(JUMP24 -jump_tim 24 0.0 +/- 0.0 s (s)),\n",
       "     maskParameter(JUMP25 -jump_tim 25 0.0 +/- 0.0 s (s)),\n",
       "     maskParameter(JUMP26 -jump_tim 26 0.0 +/- 0.0 s (s)),\n",
       "     maskParameter(JUMP27 -jump_tim 27 0.0 +/- 0.0 s (s)),\n",
       "     maskParameter(JUMP28 -jump_tim 28 0.0 +/- 0.0 s (s)),\n",
       "     maskParameter(JUMP29 -jump_tim 29 0.0 +/- 0.0 s (s)),\n",
       "     maskParameter(JUMP30 -jump_tim 30 0.0 +/- 0.0 s (s))),\n",
       " 'AstrometryEquatorial': AstrometryEquatorial(\n",
       "     MJDParameter(   POSEPOCH            UNSET,\n",
       "     floatParameter( PX                  0.0               (mas) frozen=True),\n",
       "     AngleParameter( RAJ                 13:00:37.92671716 (hourangle) +/- 0h00m00.01s frozen=True),\n",
       "     AngleParameter( DECJ                7:38:43.37778699  (deg) +/- 0d00m00.01s frozen=True),\n",
       "     floatParameter( PMRA                0.0               (mas / yr) frozen=True),\n",
       "     floatParameter( PMDEC               0.0               (mas / yr) frozen=True)),\n",
       " 'SolarSystemShapiro': SolarSystemShapiro(\n",
       "     boolParameter(  PLANET_SHAPIRO      N                 frozen=True)),\n",
       " 'DispersionDM': DispersionDM(\n",
       "     floatParameter( DM                  0.0               (pc / cm3) +/- 0.0 pc / cm3 frozen=True),\n",
       "     floatParameter( DM1                 UNSET,\n",
       "     MJDParameter(   DMEPOCH             UNSET),\n",
       " 'BinaryELL1': BinaryELL1(\n",
       "     floatParameter( PB                  17.198013331210483 (d) +/- 0.1 d frozen=True),\n",
       "     floatParameter( PBDOT               UNSET,\n",
       "     floatParameter( A1                  0.7480623513143103 (ls) +/- 0.1 ls frozen=True),\n",
       "     floatParameter( A1DOT               UNSET,\n",
       "     floatParameter( EDOT                UNSET,\n",
       "     floatParameter( OMDOT               UNSET,\n",
       "     floatParameter( M2                  UNSET,\n",
       "     floatParameter( SINI                UNSET,\n",
       "     floatParameter( FB0                 UNSET,\n",
       "     MJDParameter(   TASC                56298.6401990979300000 (d) +/- 0.1 d frozen=True),\n",
       "     floatParameter( EPS1                0.0               () +/- 0.0 frozen=True),\n",
       "     floatParameter( EPS2                0.0               () +/- 0.0 frozen=True),\n",
       "     floatParameter( EPS1DOT             UNSET,\n",
       "     floatParameter( EPS2DOT             UNSET)}"
      ]
     },
     "execution_count": 3,
     "metadata": {},
     "output_type": "execute_result"
    }
   ],
   "source": [
    "m.components"
   ]
  },
  {
   "cell_type": "code",
   "execution_count": 36,
   "metadata": {},
   "outputs": [
    {
     "ename": "AttributeError",
     "evalue": "Attribute JUMP not found in TimingModel or any Component",
     "output_type": "error",
     "traceback": [
      "\u001b[0;31m---------------------------------------------------------------------------\u001b[0m",
      "\u001b[0;31mAttributeError\u001b[0m                            Traceback (most recent call last)",
      "\u001b[1;32m/Users/jackson/Desktop/Pint_Personal/APT/APT_tests.ipynb Cell 7'\u001b[0m in \u001b[0;36m<cell line: 9>\u001b[0;34m()\u001b[0m\n\u001b[1;32m      <a href='vscode-notebook-cell:/Users/jackson/Desktop/Pint_Personal/APT/APT_tests.ipynb#ch0000007?line=5'>6</a>\u001b[0m f1 \u001b[39m=\u001b[39m pint\u001b[39m.\u001b[39mfitter\u001b[39m.\u001b[39mWLSFitter(t1, m1)\n\u001b[1;32m      <a href='vscode-notebook-cell:/Users/jackson/Desktop/Pint_Personal/APT/APT_tests.ipynb#ch0000007?line=6'>7</a>\u001b[0m \u001b[39m# f = pint.fitter.WLSFitter(t, m)\u001b[39;00m\n\u001b[1;32m      <a href='vscode-notebook-cell:/Users/jackson/Desktop/Pint_Personal/APT/APT_tests.ipynb#ch0000007?line=7'>8</a>\u001b[0m \u001b[39m# f.get_designmatrix()\u001b[39;00m\n\u001b[0;32m----> <a href='vscode-notebook-cell:/Users/jackson/Desktop/Pint_Personal/APT/APT_tests.ipynb#ch0000007?line=8'>9</a>\u001b[0m m1\u001b[39m.\u001b[39;49mJUMP\n",
      "File \u001b[0;32m~/Desktop/Pint_Personal/PINT/src/pint/models/timing_model.py:408\u001b[0m, in \u001b[0;36mTimingModel.__getattr__\u001b[0;34m(self, name)\u001b[0m\n\u001b[1;32m    406\u001b[0m     \u001b[39mexcept\u001b[39;00m \u001b[39mAttributeError\u001b[39;00m:\n\u001b[1;32m    407\u001b[0m         \u001b[39mcontinue\u001b[39;00m\n\u001b[0;32m--> 408\u001b[0m \u001b[39mraise\u001b[39;00m \u001b[39mAttributeError\u001b[39;00m(\n\u001b[1;32m    409\u001b[0m     \u001b[39mf\u001b[39m\u001b[39m\"\u001b[39m\u001b[39mAttribute \u001b[39m\u001b[39m{\u001b[39;00mname\u001b[39m}\u001b[39;00m\u001b[39m not found in TimingModel or any Component\u001b[39m\u001b[39m\"\u001b[39m\n\u001b[1;32m    410\u001b[0m )\n",
      "\u001b[0;31mAttributeError\u001b[0m: Attribute JUMP not found in TimingModel or any Component"
     ]
    }
   ],
   "source": [
    "# Now to test out the design matrix\n",
    "\n",
    "m1 = deepcopy(m)\n",
    "t1 = deepcopy(t)\n",
    "\n",
    "f1 = pint.fitter.WLSFitter(t1, m1)\n",
    "# f = pint.fitter.WLSFitter(t, m)\n",
    "# f.get_designmatrix()\n",
    "m1.components"
   ]
  },
  {
   "cell_type": "code",
   "execution_count": 50,
   "metadata": {},
   "outputs": [
    {
     "name": "stderr",
     "output_type": "stream",
     "text": [
      "2022-06-23 15:53:12.442 | DEBUG    | pint.toa:__init__:1304 - No pulse number flags found in the TOAs\n",
      "2022-06-23 15:53:12.444 | DEBUG    | pint.toa:apply_clock_corrections:2085 - Applying clock corrections (include_gps = True, include_bipm = True)\n",
      "2022-06-23 15:53:12.460 | INFO     | pint.observatory.topo_obs:clock_corrections:258 - Applying observatory clock corrections.\n",
      "2022-06-23 15:53:12.461 | INFO     | pint.observatory.topo_obs:clock_corrections:263 - Applying GPS to UTC clock correction (~few nanoseconds)\n",
      "2022-06-23 15:53:12.462 | INFO     | pint.observatory.topo_obs:clock_corrections:268 - Applying TT(TAI) to TT(BIPM2021) clock correction (~27 us)\n",
      "2022-06-23 15:53:12.545 | DEBUG    | pint.toa:compute_TDBs:2148 - Computing TDB columns.\n",
      "2022-06-23 15:53:12.546 | WARNING  | pint.toa:compute_TDBs:2160 - No ephemeris provided to TOAs object or compute_TDBs. Using DE421\n",
      "2022-06-23 15:53:12.546 | DEBUG    | pint.toa:compute_TDBs:2173 - Using EPHEM = DE421 for TDB calculation.\n",
      "2022-06-23 15:53:12.584 | DEBUG    | pint.toa:compute_posvels:2267 - Computing PosVels of observatories and Earth, using DE421\n",
      "2022-06-23 15:53:12.592 | INFO     | pint.solar_system_ephemerides:_load_kernel_link:54 - Set solar system ephemeris to de421 from download\n",
      "2022-06-23 15:53:12.641 | DEBUG    | pint.toa:compute_posvels:2325 - SSB obs pos [-1.48252269e+11  1.48939728e+10  6.45764512e+09] m\n",
      "2022-06-23 15:53:12.642 | INFO     | pint.solar_system_ephemerides:_load_kernel_link:54 - Set solar system ephemeris to de421 from download\n",
      "2022-06-23 15:53:12.645 | DEBUG    | pint.toa:compute_posvels:2339 - Adding columns ssb_obs_pos ssb_obs_vel obs_sun_pos\n"
     ]
    }
   ],
   "source": [
    "def JUMP_adder_begginning_cluster(\n",
    "    mask: np.ndarray, toas, model, output_timfile, output_parfile\n",
    "):\n",
    "    \"\"\"\n",
    "    Adds JUMPs to a timfile as the begginning of analysis.\n",
    "\n",
    "    mask : a mask to select which toas will not be jumped\n",
    "    toas : TOA object\n",
    "    output_timfile : name for the tim file to be written\n",
    "    output_parfile : name for par file to be written\n",
    "    \"\"\"\n",
    "    t = deepcopy(toas)\n",
    "    flag_name = \"jump_tim\"\n",
    "\n",
    "    former_cluster = t.table[mask][\"clusters\"][0]\n",
    "    j = 0\n",
    "    for i, table in enumerate(t.table[~mask]):\n",
    "        # if table[\"clusters\"] != former_cluster:\n",
    "        #     former_cluster = table[\"clusters\"]\n",
    "        #     j += 1\n",
    "        table[\"flags\"][flag_name] = str(table[\"clusters\"])\n",
    "    t.write_TOA_file(output_timfile)\n",
    "\n",
    "    # model.jump_flags_to_params(t) doesn't currently work (need flag name to be \"tim_jump\" and even then it still won't work),\n",
    "    # so the following is a workaround. This is likely related to issue 1294.\n",
    "    ### (workaround surrounded in ###)\n",
    "    with open(output_parfile, \"w\") as parfile:\n",
    "        parfile.write(model.as_parfile())\n",
    "        for i in set(t.table[~mask][\"clusters\"]):\n",
    "            parfile.write(f\"JUMP\\t\\t-{flag_name} {i}\\t0 1 0\\n\")\n",
    "    model = mb.get_model(output_parfile)\n",
    "    ###\n",
    "\n",
    "    return t, model\n",
    "\n",
    "os.chdir(\"/Users/jackson/Desktop/Pint_Personal/APT/binary3_1\")\n",
    "\n",
    "parfile = Path(\"fake_1.par\")\n",
    "timfile = Path(\"fake_1.tim\")\n",
    "m, t = mb.get_model_and_toas(parfile, timfile)\n",
    "t.table[\"clusters\"] = t.get_clusters()\n",
    "masks, clusters = starting_points(toas = t)\n",
    "mask = masks[0]\n",
    "t, m = JUMP_adder_begginning_cluster(mask, t, m, \"thisisatest.tim\", \"thisisatest.par\")"
   ]
  },
  {
   "cell_type": "code",
   "execution_count": 75,
   "metadata": {},
   "outputs": [
    {
     "name": "stderr",
     "output_type": "stream",
     "text": [
      "2022-06-23 16:16:31.503 | DEBUG    | pint.models.absolute_phase:get_TZR_toa:97 - Creating and dealing with the single TZR_toa for absolute phase\n",
      "2022-06-23 16:16:31.507 | DEBUG    | pint.toa:__init__:1304 - No pulse number flags found in the TOAs\n",
      "2022-06-23 16:16:31.508 | DEBUG    | pint.toa:apply_clock_corrections:2085 - Applying clock corrections (include_gps = True, include_bipm = True)\n",
      "2022-06-23 16:16:31.510 | INFO     | pint.observatory.topo_obs:clock_corrections:258 - Applying observatory clock corrections.\n",
      "2022-06-23 16:16:31.511 | INFO     | pint.observatory.topo_obs:clock_corrections:263 - Applying GPS to UTC clock correction (~few nanoseconds)\n",
      "2022-06-23 16:16:31.512 | INFO     | pint.observatory.topo_obs:clock_corrections:268 - Applying TT(TAI) to TT(BIPM2021) clock correction (~27 us)\n",
      "2022-06-23 16:16:31.515 | DEBUG    | pint.toa:compute_TDBs:2148 - Computing TDB columns.\n",
      "2022-06-23 16:16:31.515 | DEBUG    | pint.toa:compute_TDBs:2173 - Using EPHEM = DE421 for TDB calculation.\n",
      "2022-06-23 16:16:31.519 | DEBUG    | pint.toa:compute_posvels:2267 - Computing PosVels of observatories and Earth, using DE421\n",
      "2022-06-23 16:16:31.522 | INFO     | pint.solar_system_ephemerides:_load_kernel_link:54 - Set solar system ephemeris to de421 from download\n",
      "2022-06-23 16:16:31.556 | DEBUG    | pint.toa:compute_posvels:2325 - SSB obs pos [-1.48252269e+11  1.48939730e+10  6.45764523e+09] m\n",
      "2022-06-23 16:16:31.560 | INFO     | pint.solar_system_ephemerides:_load_kernel_link:54 - Set solar system ephemeris to de421 from download\n",
      "2022-06-23 16:16:31.562 | DEBUG    | pint.toa:compute_posvels:2339 - Adding columns ssb_obs_pos ssb_obs_vel obs_sun_pos\n",
      "2022-06-23 16:16:31.563 | DEBUG    | pint.models.absolute_phase:get_TZR_toa:110 - Done with TZR_toa\n",
      "2022-06-23 16:16:31.950 | DEBUG    | pint.models.absolute_phase:get_TZR_toa:97 - Creating and dealing with the single TZR_toa for absolute phase\n",
      "2022-06-23 16:16:31.955 | DEBUG    | pint.toa:__init__:1304 - No pulse number flags found in the TOAs\n",
      "2022-06-23 16:16:31.956 | DEBUG    | pint.toa:apply_clock_corrections:2085 - Applying clock corrections (include_gps = True, include_bipm = True)\n",
      "2022-06-23 16:16:31.957 | INFO     | pint.observatory.topo_obs:clock_corrections:258 - Applying observatory clock corrections.\n",
      "2022-06-23 16:16:31.960 | INFO     | pint.observatory.topo_obs:clock_corrections:263 - Applying GPS to UTC clock correction (~few nanoseconds)\n",
      "2022-06-23 16:16:31.961 | INFO     | pint.observatory.topo_obs:clock_corrections:268 - Applying TT(TAI) to TT(BIPM2021) clock correction (~27 us)\n",
      "2022-06-23 16:16:31.963 | DEBUG    | pint.toa:compute_TDBs:2148 - Computing TDB columns.\n",
      "2022-06-23 16:16:31.964 | DEBUG    | pint.toa:compute_TDBs:2173 - Using EPHEM = DE421 for TDB calculation.\n",
      "2022-06-23 16:16:31.967 | DEBUG    | pint.toa:compute_posvels:2267 - Computing PosVels of observatories and Earth, using DE421\n",
      "2022-06-23 16:16:31.971 | INFO     | pint.solar_system_ephemerides:_load_kernel_link:54 - Set solar system ephemeris to de421 from download\n",
      "2022-06-23 16:16:32.010 | DEBUG    | pint.toa:compute_posvels:2325 - SSB obs pos [-1.48252269e+11  1.48939730e+10  6.45764523e+09] m\n",
      "2022-06-23 16:16:32.014 | INFO     | pint.solar_system_ephemerides:_load_kernel_link:54 - Set solar system ephemeris to de421 from download\n",
      "2022-06-23 16:16:32.037 | DEBUG    | pint.toa:compute_posvels:2339 - Adding columns ssb_obs_pos ssb_obs_vel obs_sun_pos\n"
     ]
    },
    {
     "name": "stdout",
     "output_type": "stream",
     "text": [
      "(array([[ 4.07266445e-01, -2.15776633e+02, -0.00000000e+00, ...,\n",
      "        -0.00000000e+00, -0.00000000e+00, -0.00000000e+00],\n",
      "       [ 4.07266445e-01, -4.17804368e+02, -0.00000000e+00, ...,\n",
      "        -0.00000000e+00, -0.00000000e+00, -0.00000000e+00],\n",
      "       [ 4.07266445e-01, -6.19666176e+02, -0.00000000e+00, ...,\n",
      "        -0.00000000e+00, -0.00000000e+00, -0.00000000e+00],\n",
      "       ...,\n",
      "       [ 4.07266445e-01, -2.20250723e+07, -0.00000000e+00, ...,\n",
      "        -0.00000000e+00, -0.00000000e+00, -1.00000000e+00],\n",
      "       [ 4.07266445e-01, -2.20252741e+07, -0.00000000e+00, ...,\n",
      "        -0.00000000e+00, -0.00000000e+00, -1.00000000e+00],\n",
      "       [ 4.07266445e-01, -2.20254762e+07, -0.00000000e+00, ...,\n",
      "        -0.00000000e+00, -0.00000000e+00, -1.00000000e+00]]), ['Offset', 'F0', 'JUMP1', 'JUMP2', 'JUMP3', 'JUMP4', 'JUMP5', 'JUMP6', 'JUMP7', 'JUMP8', 'JUMP9', 'JUMP10', 'JUMP11', 'JUMP12', 'JUMP13', 'JUMP14', 'JUMP15', 'JUMP16', 'JUMP17', 'JUMP18', 'JUMP19', 'JUMP20', 'JUMP21', 'JUMP22', 'JUMP23', 'JUMP24', 'JUMP25', 'JUMP26', 'JUMP27', 'JUMP28', 'JUMP29', 'JUMP30'], [Unit(dimensionless), Unit(\"1 / Hz2\"), Unit(\"1 / (Hz s)\"), Unit(\"1 / (Hz s)\"), Unit(\"1 / (Hz s)\"), Unit(\"1 / (Hz s)\"), Unit(\"1 / (Hz s)\"), Unit(\"1 / (Hz s)\"), Unit(\"1 / (Hz s)\"), Unit(\"1 / (Hz s)\"), Unit(\"1 / (Hz s)\"), Unit(\"1 / (Hz s)\"), Unit(\"1 / (Hz s)\"), Unit(\"1 / (Hz s)\"), Unit(\"1 / (Hz s)\"), Unit(\"1 / (Hz s)\"), Unit(\"1 / (Hz s)\"), Unit(\"1 / (Hz s)\"), Unit(\"1 / (Hz s)\"), Unit(\"1 / (Hz s)\"), Unit(\"1 / (Hz s)\"), Unit(\"1 / (Hz s)\"), Unit(\"1 / (Hz s)\"), Unit(\"1 / (Hz s)\"), Unit(\"1 / (Hz s)\"), Unit(\"1 / (Hz s)\"), Unit(\"1 / (Hz s)\"), Unit(\"1 / (Hz s)\"), Unit(\"1 / (Hz s)\"), Unit(\"1 / (Hz s)\"), Unit(\"1 / (Hz s)\"), Unit(\"1 / (Hz s)\")])\n"
     ]
    },
    {
     "name": "stderr",
     "output_type": "stream",
     "text": [
      "2022-06-23 16:16:32.038 | DEBUG    | pint.models.absolute_phase:get_TZR_toa:110 - Done with TZR_toa\n"
     ]
    },
    {
     "name": "stdout",
     "output_type": "stream",
     "text": [
      "####################################################################################################\n",
      "(array([[ 4.07263201e-01, -2.15774914e+02, -0.00000000e+00, ...,\n",
      "        -0.00000000e+00, -0.00000000e+00, -0.00000000e+00],\n",
      "       [ 4.07263201e-01, -4.17801040e+02, -0.00000000e+00, ...,\n",
      "        -0.00000000e+00, -0.00000000e+00, -0.00000000e+00],\n",
      "       [ 4.07263201e-01, -6.19661240e+02, -0.00000000e+00, ...,\n",
      "        -0.00000000e+00, -0.00000000e+00, -0.00000000e+00],\n",
      "       ...,\n",
      "       [ 4.07263201e-01, -2.20248968e+07, -0.00000000e+00, ...,\n",
      "        -0.00000000e+00, -0.00000000e+00, -1.00000000e+00],\n",
      "       [ 4.07263201e-01, -2.20250987e+07, -0.00000000e+00, ...,\n",
      "        -0.00000000e+00, -0.00000000e+00, -1.00000000e+00],\n",
      "       [ 4.07263201e-01, -2.20253007e+07, -0.00000000e+00, ...,\n",
      "        -0.00000000e+00, -0.00000000e+00, -1.00000000e+00]]), ['Offset', 'F0', 'JUMP1', 'JUMP2', 'JUMP3', 'JUMP4', 'JUMP5', 'JUMP6', 'JUMP7', 'JUMP8', 'JUMP9', 'JUMP10', 'JUMP11', 'JUMP12', 'JUMP13', 'JUMP14', 'JUMP15', 'JUMP16', 'JUMP17', 'JUMP18', 'JUMP19', 'JUMP20', 'JUMP21', 'JUMP22', 'JUMP23', 'JUMP24', 'JUMP25', 'JUMP26', 'JUMP27', 'JUMP28', 'JUMP29', 'JUMP30'], [Unit(dimensionless), Unit(\"1 / Hz2\"), Unit(\"1 / (Hz s)\"), Unit(\"1 / (Hz s)\"), Unit(\"1 / (Hz s)\"), Unit(\"1 / (Hz s)\"), Unit(\"1 / (Hz s)\"), Unit(\"1 / (Hz s)\"), Unit(\"1 / (Hz s)\"), Unit(\"1 / (Hz s)\"), Unit(\"1 / (Hz s)\"), Unit(\"1 / (Hz s)\"), Unit(\"1 / (Hz s)\"), Unit(\"1 / (Hz s)\"), Unit(\"1 / (Hz s)\"), Unit(\"1 / (Hz s)\"), Unit(\"1 / (Hz s)\"), Unit(\"1 / (Hz s)\"), Unit(\"1 / (Hz s)\"), Unit(\"1 / (Hz s)\"), Unit(\"1 / (Hz s)\"), Unit(\"1 / (Hz s)\"), Unit(\"1 / (Hz s)\"), Unit(\"1 / (Hz s)\"), Unit(\"1 / (Hz s)\"), Unit(\"1 / (Hz s)\"), Unit(\"1 / (Hz s)\"), Unit(\"1 / (Hz s)\"), Unit(\"1 / (Hz s)\"), Unit(\"1 / (Hz s)\"), Unit(\"1 / (Hz s)\"), Unit(\"1 / (Hz s)\")])\n"
     ]
    }
   ],
   "source": [
    "# Now to test out the design matrix\n",
    "f = pint.fitter.WLSFitter(t, m)\n",
    "m1 = deepcopy(m)\n",
    "t1 = deepcopy(t)\n",
    "\n",
    "f1 = pint.fitter.WLSFitter(t1, m1)\n",
    "# f = pint.fitter.WLSFitter(t, m)\n",
    "# f.get_designmatrix()\n",
    "\n",
    "#print(f1.model.as_parfile())\n",
    "#print(pint.residuals.Residuals(t, f1.model).chi2_reduced)\n",
    "print(f1.get_designmatrix())\n",
    "f1.fit_toas()\n",
    "print(\"#\"*100)\n",
    "print(f1.get_designmatrix())\n",
    "#print(pint.residuals.Residuals(t, f1.model).chi2_reduced)\n",
    "#print(f1.model.as_parfile())\n"
   ]
  },
  {
   "cell_type": "code",
   "execution_count": 79,
   "metadata": {},
   "outputs": [
    {
     "name": "stdout",
     "output_type": "stream",
     "text": [
      "149\n",
      "32\n",
      "[   0.4072632 -215.7749143   -0.          -0.          -0.\n",
      "   -0.          -0.          -0.          -0.          -0.\n",
      "   -0.          -0.          -0.          -0.          -0.\n",
      "   -0.          -0.          -0.          -0.          -0.\n",
      "   -0.          -0.          -0.          -0.          -0.\n",
      "   -0.          -0.          -0.          -0.          -0.\n",
      "   -0.          -0.       ]\n",
      "[   0.40726644 -215.77663308   -0.           -0.           -0.\n",
      "   -0.           -0.           -0.           -0.           -0.\n",
      "   -0.           -0.           -0.           -0.           -0.\n",
      "   -0.           -0.           -0.           -0.           -0.\n",
      "   -0.           -0.           -0.           -0.           -0.\n",
      "   -0.           -0.           -0.           -0.           -0.\n",
      "   -0.           -0.        ]\n",
      "['Offset', 'F0', 'JUMP1', 'JUMP2', 'JUMP3', 'JUMP4', 'JUMP5', 'JUMP6', 'JUMP7', 'JUMP8', 'JUMP9', 'JUMP10', 'JUMP11', 'JUMP12', 'JUMP13', 'JUMP14', 'JUMP15', 'JUMP16', 'JUMP17', 'JUMP18', 'JUMP19', 'JUMP20', 'JUMP21', 'JUMP22', 'JUMP23', 'JUMP24', 'JUMP25', 'JUMP26', 'JUMP27', 'JUMP28', 'JUMP29', 'JUMP30']\n"
     ]
    }
   ],
   "source": [
    "print(len(f1.get_designmatrix()[0]))\n",
    "print(len(f1.get_designmatrix()[0][0]))\n",
    "print(f1.get_designmatrix()[0][0])\n",
    "print(f.get_designmatrix()[0][0])\n",
    "print(f.get_designmatrix()[1])"
   ]
  },
  {
   "cell_type": "code",
   "execution_count": 69,
   "metadata": {},
   "outputs": [
    {
     "name": "stdout",
     "output_type": "stream",
     "text": [
      "# Created: 2022-06-23T16:09:34.669939\n",
      "# PINT_version: 0.8.8+175.gb8b04f53\n",
      "# User: jackson\n",
      "# Host: Jacksons-MacBook-Pro.local\n",
      "# OS: macOS-10.16-x86_64-i386-64bit\n",
      "# Format: pint\n",
      "PSR                                fake_1\n",
      "EPHEM                               DE421\n",
      "CLOCK                        TT(BIPM2021)\n",
      "START              56000.0000001125747801\n",
      "FINISH             56625.9425986168396412\n",
      "DILATEFREQ                              N\n",
      "DMDATA                                  N\n",
      "NTOA                                  149\n",
      "CHI2                                  0.0\n",
      "RAJ                     13:00:37.92671716 0 0.00999999999999999674\n",
      "DECJ                     7:38:43.37778699 0 0.01000000000000000021\n",
      "PMRA                                  0.0\n",
      "PMDEC                                 0.0\n",
      "PX                                    0.0\n",
      "F0                  2.4554145773607772643 1 5.9516259509611703095e-08\n",
      "F1                                    0.0 0 0.0\n",
      "PEPOCH             56000.0000000000000000\n",
      "TZRMJD             56000.0000000000000000\n",
      "TZRSITE                               GBT\n",
      "TZRFRQ                             1400.0\n",
      "JUMP            -jump_tim 1       -0.1684698069569299 1 0.0010601735440534637\n",
      "JUMP            -jump_tim 2       -0.8711754910861873 1 0.0027766007499862556\n",
      "JUMP            -jump_tim 3        -2.231412519406824 1 0.007269409550825154\n",
      "JUMP            -jump_tim 4       -3.9934487852752603 1 0.011721602227733259\n",
      "JUMP            -jump_tim 5        -8.065192700786731 1 0.024685973833126575\n",
      "JUMP            -jump_tim 6       -11.866832826164663 1 0.036725025989653645\n",
      "JUMP            -jump_tim 7       -16.310192512544496 1 0.04911272022001642\n",
      "JUMP            -jump_tim 8        -22.38579446220713 1 0.06829170669545755\n",
      "JUMP            -jump_tim 9        -27.27383696393056 1 0.08305303222624458\n",
      "JUMP            -jump_tim 10       -47.026147907986974 1 0.14304657786028893\n",
      "JUMP            -jump_tim 11        -61.71389137558505 1 0.18773702778121887\n",
      "JUMP            -jump_tim 12        -76.54614365755961 1 0.2328716827427953\n",
      "JUMP            -jump_tim 13        -94.74436598877546 1 0.28783870385356586\n",
      "JUMP            -jump_tim 14       -121.71880152575694 1 0.3703934981033103\n",
      "JUMP            -jump_tim 15       -138.36852429372476 1 0.42062209670328843\n",
      "JUMP            -jump_tim 16        -165.0308520196019 1 0.502667818611168\n",
      "JUMP            -jump_tim 17       -186.90753089903885 1 0.5689807607194968\n",
      "JUMP            -jump_tim 18       -201.13639388789585 1 0.6119239297048322\n",
      "JUMP            -jump_tim 19       -217.80527290242955 1 0.6623027660989032\n",
      "JUMP            -jump_tim 20        -233.5936286134173 1 0.711466602852948\n",
      "JUMP            -jump_tim 21        -257.7704377586664 1 0.7846896541228656\n",
      "JUMP            -jump_tim 22       -277.89398823806783 1 0.8460803520807492\n",
      "JUMP            -jump_tim 23       -304.70026523180377 1 0.9268567407971562\n",
      "JUMP            -jump_tim 24        -330.8756809585086 1 1.0067411122449057\n",
      "JUMP            -jump_tim 25        -348.8569269447603 1 1.06121536706519\n",
      "JUMP            -jump_tim 26       -362.70573261880884 1 1.104295505157492\n",
      "JUMP            -jump_tim 27       -384.97536867401783 1 1.172109388284502\n",
      "JUMP            -jump_tim 28       -400.24168533217613 1 1.2182582203333359\n",
      "JUMP            -jump_tim 29        -416.8924060891787 1 1.2684299778622123\n",
      "JUMP            -jump_tim 30       -430.84537953290766 1 1.3107889908814565\n",
      "PLANET_SHAPIRO                          N\n",
      "DM                                    0.0 0 0.0\n",
      "BINARY                               ELL1\n",
      "PB                     17.198013331210483 0 0.1\n",
      "A1                     0.7480623513143103 0 0.1\n",
      "TASC               56298.6401990979300000 0 0.1\n",
      "EPS1                                  0.0 0 0.0\n",
      "EPS2                                  0.0 0 0.0\n",
      "\n"
     ]
    }
   ],
   "source": [
    "print(f1.model.as_parfile())"
   ]
  },
  {
   "cell_type": "code",
   "execution_count": null,
   "metadata": {},
   "outputs": [],
   "source": []
  },
  {
   "cell_type": "code",
   "execution_count": null,
   "metadata": {},
   "outputs": [],
   "source": []
  }
 ],
 "metadata": {
  "kernelspec": {
   "display_name": "Python 3.9.12 ('penguin')",
   "language": "python",
   "name": "python3"
  },
  "language_info": {
   "codemirror_mode": {
    "name": "ipython",
    "version": 3
   },
   "file_extension": ".py",
   "mimetype": "text/x-python",
   "name": "python",
   "nbconvert_exporter": "python",
   "pygments_lexer": "ipython3",
   "version": "3.9.12"
  },
  "orig_nbformat": 4,
  "vscode": {
   "interpreter": {
    "hash": "a1d132dd072b8d5db54bff76b1d5a2ffac9c5941c0c46880f80e3436479cf37b"
   }
  }
 },
 "nbformat": 4,
 "nbformat_minor": 2
}
