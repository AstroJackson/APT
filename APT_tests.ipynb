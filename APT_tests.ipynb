{
 "cells": [
  {
   "cell_type": "code",
   "execution_count": 5,
   "metadata": {},
   "outputs": [],
   "source": [
    "import pint.toa\n",
    "import pint.models\n",
    "import pint.fitter\n",
    "import pint.residuals\n",
    "import pint.utils\n",
    "import pint.models.model_builder as mb\n",
    "import pint.random_models\n",
    "from pint.phase import Phase\n",
    "from copy import deepcopy\n",
    "from collections import OrderedDict\n",
    "from astropy import log\n",
    "import astropy.units as u\n",
    "import numpy as np\n",
    "import matplotlib.pyplot as plt\n",
    "import os\n",
    "import csv\n",
    "import operator\n",
    "import time\n",
    "from pathlib import Path\n",
    "#import APT_argparse\n",
    "import socket"
   ]
  },
  {
   "cell_type": "code",
   "execution_count": 9,
   "metadata": {},
   "outputs": [
    {
     "data": {
      "text/plain": [
       "'/Users/jackson/Desktop/Pint_Personal/APT'"
      ]
     },
     "execution_count": 9,
     "metadata": {},
     "output_type": "execute_result"
    }
   ],
   "source": [
    "os.getcwd()"
   ]
  },
  {
   "cell_type": "code",
   "execution_count": 12,
   "metadata": {},
   "outputs": [
    {
     "name": "stderr",
     "output_type": "stream",
     "text": [
      "2022-06-22 15:21:16.802 | DEBUG    | pint.toa:__init__:1304 - No pulse number flags found in the TOAs\n",
      "2022-06-22 15:21:16.804 | DEBUG    | pint.toa:apply_clock_corrections:2085 - Applying clock corrections (include_gps = True, include_bipm = True)\n",
      "2022-06-22 15:21:16.820 | INFO     | pint.observatory.topo_obs:clock_corrections:258 - Applying observatory clock corrections.\n",
      "2022-06-22 15:21:16.821 | INFO     | pint.observatory.topo_obs:clock_corrections:263 - Applying GPS to UTC clock correction (~few nanoseconds)\n",
      "2022-06-22 15:21:16.823 | INFO     | pint.observatory.topo_obs:clock_corrections:268 - Applying TT(TAI) to TT(BIPM2021) clock correction (~27 us)\n",
      "2022-06-22 15:21:16.909 | DEBUG    | pint.toa:compute_TDBs:2148 - Computing TDB columns.\n",
      "2022-06-22 15:21:16.910 | WARNING  | pint.toa:compute_TDBs:2160 - No ephemeris provided to TOAs object or compute_TDBs. Using DE421\n",
      "2022-06-22 15:21:16.911 | DEBUG    | pint.toa:compute_TDBs:2173 - Using EPHEM = DE421 for TDB calculation.\n",
      "2022-06-22 15:21:16.947 | DEBUG    | pint.toa:compute_posvels:2267 - Computing PosVels of observatories and Earth, using DE421\n",
      "2022-06-22 15:21:16.956 | INFO     | pint.solar_system_ephemerides:_load_kernel_link:54 - Set solar system ephemeris to de421 from download\n",
      "2022-06-22 15:21:17.005 | DEBUG    | pint.toa:compute_posvels:2325 - SSB obs pos [-1.48252269e+11  1.48939728e+10  6.45764512e+09] m\n",
      "2022-06-22 15:21:17.007 | INFO     | pint.solar_system_ephemerides:_load_kernel_link:54 - Set solar system ephemeris to de421 from download\n",
      "2022-06-22 15:21:17.008 | DEBUG    | pint.toa:compute_posvels:2339 - Adding columns ssb_obs_pos ssb_obs_vel obs_sun_pos\n"
     ]
    }
   ],
   "source": [
    "from APT_binary import JUMP_adder, starting_points\n",
    "os.chdir(\"/Users/jackson/Desktop/Pint_Personal/APT/binar3_1\")\n",
    "parfile = Path(\"fake_1.par\")\n",
    "timfile = Path(\"fake_1.tim\")\n",
    "m, t = mb.get_model_and_toas(parfile, timfile)\n",
    "t.table[\"clusters\"] = t.get_clusters()\n",
    "mask = starting_points(toas = t)[0]\n",
    "t = JUMP_adder(mask, t, \"timJUMP.tim\")\n"
   ]
  },
  {
   "cell_type": "code",
   "execution_count": 23,
   "metadata": {},
   "outputs": [
    {
     "data": {
      "text/plain": [
       "array([8, 4, 5])"
      ]
     },
     "execution_count": 23,
     "metadata": {},
     "output_type": "execute_result"
    }
   ],
   "source": [
    "mask = np.zeros(3, bool)\n",
    "mask[1:3] = 1\n",
    "x = np.array([3,4,5])\n",
    "x[~mask] = 8\n",
    "x\n"
   ]
  },
  {
   "cell_type": "code",
   "execution_count": null,
   "metadata": {},
   "outputs": [],
   "source": []
  }
 ],
 "metadata": {
  "kernelspec": {
   "display_name": "Python 3.9.12 ('penguin')",
   "language": "python",
   "name": "python3"
  },
  "language_info": {
   "codemirror_mode": {
    "name": "ipython",
    "version": 3
   },
   "file_extension": ".py",
   "mimetype": "text/x-python",
   "name": "python",
   "nbconvert_exporter": "python",
   "pygments_lexer": "ipython3",
   "version": "3.9.12"
  },
  "orig_nbformat": 4,
  "vscode": {
   "interpreter": {
    "hash": "a1d132dd072b8d5db54bff76b1d5a2ffac9c5941c0c46880f80e3436479cf37b"
   }
  }
 },
 "nbformat": 4,
 "nbformat_minor": 2
}
