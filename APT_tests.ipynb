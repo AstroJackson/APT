{
 "cells": [
  {
   "cell_type": "code",
   "execution_count": 5,
   "metadata": {},
   "outputs": [],
   "source": [
    "import pint.toa\n",
    "import pint.models\n",
    "import pint.fitter\n",
    "import pint.residuals\n",
    "import pint.utils\n",
    "import pint.models.model_builder as mb\n",
    "import pint.random_models\n",
    "from pint.phase import Phase\n",
    "from copy import deepcopy\n",
    "from collections import OrderedDict\n",
    "from astropy import log\n",
    "import astropy.units as u\n",
    "import numpy as np\n",
    "import matplotlib.pyplot as plt\n",
    "import os\n",
    "import csv\n",
    "import operator\n",
    "import time\n",
    "from pathlib import Path\n",
    "#import APT_argparse\n",
    "import socket"
   ]
  },
  {
   "cell_type": "code",
   "execution_count": 8,
   "metadata": {},
   "outputs": [
    {
     "ename": "ModuleNotFoundError",
     "evalue": "No module named 'APT'",
     "output_type": "error",
     "traceback": [
      "\u001b[0;31m---------------------------------------------------------------------------\u001b[0m",
      "\u001b[0;31mModuleNotFoundError\u001b[0m                       Traceback (most recent call last)",
      "\u001b[1;32m/Users/jackson/Desktop/Pint_Personal/APT/APT_tests.ipynb Cell 2'\u001b[0m in \u001b[0;36m<cell line: 1>\u001b[0;34m()\u001b[0m\n\u001b[0;32m----> <a href='vscode-notebook-cell:/Users/jackson/Desktop/Pint_Personal/APT/APT_tests.ipynb#ch0000001?line=0'>1</a>\u001b[0m \u001b[39mfrom\u001b[39;00m \u001b[39mAPT\u001b[39;00m \u001b[39mimport\u001b[39;00m poly_extrap3\n",
      "\u001b[0;31mModuleNotFoundError\u001b[0m: No module named 'APT'"
     ]
    }
   ],
   "source": [
    "from APT import poly_extrap3"
   ]
  },
  {
   "cell_type": "code",
   "execution_count": null,
   "metadata": {},
   "outputs": [],
   "source": []
  }
 ],
 "metadata": {
  "kernelspec": {
   "display_name": "Python 3.9.12 ('penguin')",
   "language": "python",
   "name": "python3"
  },
  "language_info": {
   "codemirror_mode": {
    "name": "ipython",
    "version": 3
   },
   "file_extension": ".py",
   "mimetype": "text/x-python",
   "name": "python",
   "nbconvert_exporter": "python",
   "pygments_lexer": "ipython3",
   "version": "3.9.12"
  },
  "orig_nbformat": 4,
  "vscode": {
   "interpreter": {
    "hash": "a1d132dd072b8d5db54bff76b1d5a2ffac9c5941c0c46880f80e3436479cf37b"
   }
  }
 },
 "nbformat": 4,
 "nbformat_minor": 2
}
