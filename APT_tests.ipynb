{
 "cells": [
  {
   "cell_type": "code",
   "execution_count": 1,
   "metadata": {},
   "outputs": [],
   "source": [
    "import pint.toa\n",
    "import pint.models\n",
    "import pint.fitter\n",
    "import pint.residuals\n",
    "import pint.utils\n",
    "import pint.models.model_builder as mb\n",
    "import pint.random_models\n",
    "from pint.phase import Phase\n",
    "from copy import deepcopy\n",
    "from collections import OrderedDict\n",
    "from astropy import log\n",
    "import astropy.units as u\n",
    "import numpy as np\n",
    "import matplotlib.pyplot as plt\n",
    "import os\n",
    "import csv\n",
    "import operator\n",
    "import time\n",
    "from pathlib import Path\n",
    "#import APT_argparse\n",
    "import socket"
   ]
  },
  {
   "cell_type": "code",
   "execution_count": 43,
   "metadata": {},
   "outputs": [
    {
     "data": {
      "text/plain": [
       "array([   0.40726644, -215.77663308])"
      ]
     },
     "execution_count": 43,
     "metadata": {},
     "output_type": "execute_result"
    }
   ],
   "source": [
    "f = pint.fitter.WLSFitter(t, m)\n",
    "\n",
    "f.get_designmatrix()"
   ]
  },
  {
   "cell_type": "code",
   "execution_count": 2,
   "metadata": {},
   "outputs": [
    {
     "name": "stderr",
     "output_type": "stream",
     "text": [
      "2022-06-23 15:20:54.725 | DEBUG    | pint.toa:__init__:1304 - No pulse number flags found in the TOAs\n",
      "2022-06-23 15:20:54.726 | DEBUG    | pint.toa:apply_clock_corrections:2085 - Applying clock corrections (include_gps = True, include_bipm = True)\n",
      "2022-06-23 15:20:54.740 | INFO     | pint.observatory.global_clock_corrections:get_file:121 - File index.txt to be downloaded due to download policy if_expired: https://raw.githubusercontent.com/ipta/pulsar-clock-corrections/main/index.txt\n",
      "2022-06-23 15:20:54.882 | DEBUG    | pint.observatory.clock_file:__init__:566 - Loading tempo observatory (None) clock correction file /Users/jackson/.astropy/cache/download/url/599e3ebbfc317e090244ee1ef4c79374/contents\n",
      "2022-06-23 15:20:54.933 | INFO     | pint.observatory.topo_obs:find_clock_file:464 - Using global clock file for time_gbt.dat\n",
      "2022-06-23 15:20:54.936 | INFO     | pint.observatory.topo_obs:clock_corrections:258 - Applying observatory clock corrections.\n",
      "2022-06-23 15:20:54.941 | INFO     | pint.observatory.topo_obs:clock_corrections:263 - Applying GPS to UTC clock correction (~few nanoseconds)\n",
      "2022-06-23 15:20:54.942 | INFO     | pint.observatory.topo_obs:_load_gps_clock:190 - Loading global GPS clock file for gbt\n",
      "2022-06-23 15:20:54.947 | DEBUG    | pint.observatory.clock_file:__init__:451 - Loading tempo2 observatory clock correction file /Users/jackson/.astropy/cache/download/url/d3c81b5766f4bfb84e65504c8a453085/contents\n",
      "2022-06-23 15:20:54.995 | INFO     | pint.observatory.topo_obs:find_clock_file:464 - Using global clock file for gps2utc.clk\n",
      "2022-06-23 15:20:54.996 | INFO     | pint.observatory.topo_obs:clock_corrections:268 - Applying TT(TAI) to TT(BIPM2021) clock correction (~27 us)\n",
      "2022-06-23 15:20:54.997 | INFO     | pint.observatory.topo_obs:_load_bipm_clock:205 - Loading BIPM clock version bipm2021 for gbt\n",
      "2022-06-23 15:20:55.003 | DEBUG    | pint.observatory.clock_file:__init__:451 - Loading tempo2 observatory clock correction file /Users/jackson/.astropy/cache/download/url/e00edeef4edde217d65207a9abeb6a8c/contents\n",
      "2022-06-23 15:20:55.018 | INFO     | pint.observatory.topo_obs:find_clock_file:464 - Using global clock file for tai2tt_bipm2021.clk\n",
      "2022-06-23 15:20:55.115 | DEBUG    | pint.toa:compute_TDBs:2148 - Computing TDB columns.\n",
      "2022-06-23 15:20:55.117 | WARNING  | pint.toa:compute_TDBs:2160 - No ephemeris provided to TOAs object or compute_TDBs. Using DE421\n",
      "2022-06-23 15:20:55.118 | DEBUG    | pint.toa:compute_TDBs:2173 - Using EPHEM = DE421 for TDB calculation.\n",
      "2022-06-23 15:20:55.151 | DEBUG    | pint.toa:compute_posvels:2267 - Computing PosVels of observatories and Earth, using DE421\n",
      "2022-06-23 15:20:55.169 | INFO     | pint.solar_system_ephemerides:_load_kernel_link:54 - Set solar system ephemeris to de421 from download\n",
      "2022-06-23 15:20:56.131 | DEBUG    | pint.toa:compute_posvels:2325 - SSB obs pos [-1.48252269e+11  1.48939728e+10  6.45764512e+09] m\n",
      "2022-06-23 15:20:56.134 | INFO     | pint.solar_system_ephemerides:_load_kernel_link:54 - Set solar system ephemeris to de421 from download\n",
      "2022-06-23 15:20:56.160 | DEBUG    | pint.toa:compute_posvels:2339 - Adding columns ssb_obs_pos ssb_obs_vel obs_sun_pos\n"
     ]
    },
    {
     "data": {
      "text/html": [
       "&lt;Column name=&apos;flags&apos; dtype=&apos;object&apos; length=149&gt;\n",
       "<table>\n",
       "<tr><td>{&apos;format&apos;: &apos;Tempo2&apos;, &apos;name&apos;: &apos;fake&apos;, &apos;clkcorr&apos;: &apos;2.7611500005802326e-05&apos;}</td></tr>\n",
       "<tr><td>{&apos;format&apos;: &apos;Tempo2&apos;, &apos;name&apos;: &apos;fake&apos;, &apos;clkcorr&apos;: &apos;2.7611464983094113e-05&apos;}</td></tr>\n",
       "<tr><td>{&apos;format&apos;: &apos;Tempo2&apos;, &apos;name&apos;: &apos;fake&apos;, &apos;clkcorr&apos;: &apos;2.761142999056391e-05&apos;}</td></tr>\n",
       "<tr><td>{&apos;format&apos;: &apos;Tempo2&apos;, &apos;name&apos;: &apos;fake&apos;, &apos;clkcorr&apos;: &apos;2.761139496783465e-05&apos;}</td></tr>\n",
       "<tr><td>{&apos;format&apos;: &apos;Tempo2&apos;, &apos;name&apos;: &apos;fake&apos;, &apos;clkcorr&apos;: &apos;2.7611359948829142e-05&apos;}</td></tr>\n",
       "<tr><td>{&apos;format&apos;: &apos;Tempo2&apos;, &apos;name&apos;: &apos;fake&apos;, &apos;clkcorr&apos;: &apos;2.761132492611692e-05&apos;}</td></tr>\n",
       "<tr><td>{&apos;format&apos;: &apos;Tempo2&apos;, &apos;name&apos;: &apos;fake&apos;, &apos;clkcorr&apos;: &apos;2.7611289933511566e-05&apos;}</td></tr>\n",
       "<tr><td>{&apos;format&apos;: &apos;Tempo2&apos;, &apos;name&apos;: &apos;fake&apos;, &apos;clkcorr&apos;: &apos;2.7608480209963185e-05&apos;, &apos;jump_tim&apos;: &apos;1&apos;}</td></tr>\n",
       "<tr><td>{&apos;format&apos;: &apos;Tempo2&apos;, &apos;name&apos;: &apos;fake&apos;, &apos;clkcorr&apos;: &apos;2.760851408196982e-05&apos;, &apos;jump_tim&apos;: &apos;1&apos;}</td></tr>\n",
       "<tr><td>{&apos;format&apos;: &apos;Tempo2&apos;, &apos;name&apos;: &apos;fake&apos;, &apos;clkcorr&apos;: &apos;2.7608547957674082e-05&apos;, &apos;jump_tim&apos;: &apos;1&apos;}</td></tr>\n",
       "<tr><td>{&apos;format&apos;: &apos;Tempo2&apos;, &apos;name&apos;: &apos;fake&apos;, &apos;clkcorr&apos;: &apos;2.7608581829680227e-05&apos;, &apos;jump_tim&apos;: &apos;1&apos;}</td></tr>\n",
       "<tr><td>{&apos;format&apos;: &apos;Tempo2&apos;, &apos;name&apos;: &apos;fake&apos;, &apos;clkcorr&apos;: &apos;2.760861567531231e-05&apos;, &apos;jump_tim&apos;: &apos;1&apos;}</td></tr>\n",
       "<tr><td>...</td></tr>\n",
       "<tr><td>{&apos;format&apos;: &apos;Tempo2&apos;, &apos;name&apos;: &apos;fake&apos;, &apos;clkcorr&apos;: &apos;2.72110487381627e-05&apos;, &apos;jump_tim&apos;: &apos;28&apos;}</td></tr>\n",
       "<tr><td>{&apos;format&apos;: &apos;Tempo2&apos;, &apos;name&apos;: &apos;fake&apos;, &apos;clkcorr&apos;: &apos;2.721102767055147e-05&apos;, &apos;jump_tim&apos;: &apos;28&apos;}</td></tr>\n",
       "<tr><td>{&apos;format&apos;: &apos;Tempo2&apos;, &apos;name&apos;: &apos;fake&apos;, &apos;clkcorr&apos;: &apos;2.7211006599188753e-05&apos;, &apos;jump_tim&apos;: &apos;28&apos;}</td></tr>\n",
       "<tr><td>{&apos;format&apos;: &apos;Tempo2&apos;, &apos;name&apos;: &apos;fake&apos;, &apos;clkcorr&apos;: &apos;2.7197059349200773e-05&apos;, &apos;jump_tim&apos;: &apos;29&apos;}</td></tr>\n",
       "<tr><td>{&apos;format&apos;: &apos;Tempo2&apos;, &apos;name&apos;: &apos;fake&apos;, &apos;clkcorr&apos;: &apos;2.7197070372664954e-05&apos;, &apos;jump_tim&apos;: &apos;29&apos;}</td></tr>\n",
       "<tr><td>{&apos;format&apos;: &apos;Tempo2&apos;, &apos;name&apos;: &apos;fake&apos;, &apos;clkcorr&apos;: &apos;2.6952377245083518e-05&apos;, &apos;jump_tim&apos;: &apos;30&apos;}</td></tr>\n",
       "<tr><td>{&apos;format&apos;: &apos;Tempo2&apos;, &apos;name&apos;: &apos;fake&apos;, &apos;clkcorr&apos;: &apos;2.6952383041856963e-05&apos;, &apos;jump_tim&apos;: &apos;30&apos;}</td></tr>\n",
       "<tr><td>{&apos;format&apos;: &apos;Tempo2&apos;, &apos;name&apos;: &apos;fake&apos;, &apos;clkcorr&apos;: &apos;2.695238883863416e-05&apos;, &apos;jump_tim&apos;: &apos;30&apos;}</td></tr>\n",
       "<tr><td>{&apos;format&apos;: &apos;Tempo2&apos;, &apos;name&apos;: &apos;fake&apos;, &apos;clkcorr&apos;: &apos;2.6952394639136642e-05&apos;, &apos;jump_tim&apos;: &apos;30&apos;}</td></tr>\n",
       "<tr><td>{&apos;format&apos;: &apos;Tempo2&apos;, &apos;name&apos;: &apos;fake&apos;, &apos;clkcorr&apos;: &apos;2.6952400435912204e-05&apos;, &apos;jump_tim&apos;: &apos;30&apos;}</td></tr>\n",
       "<tr><td>{&apos;format&apos;: &apos;Tempo2&apos;, &apos;name&apos;: &apos;fake&apos;, &apos;clkcorr&apos;: &apos;2.6952406231700634e-05&apos;, &apos;jump_tim&apos;: &apos;30&apos;}</td></tr>\n",
       "<tr><td>{&apos;format&apos;: &apos;Tempo2&apos;, &apos;name&apos;: &apos;fake&apos;, &apos;clkcorr&apos;: &apos;2.6952412028479026e-05&apos;, &apos;jump_tim&apos;: &apos;30&apos;}</td></tr>\n",
       "</table>"
      ],
      "text/plain": [
       "<Column name='flags' dtype='object' length=149>\n",
       "                  {'format': 'Tempo2', 'name': 'fake', 'clkcorr': '2.7611500005802326e-05'}\n",
       "                  {'format': 'Tempo2', 'name': 'fake', 'clkcorr': '2.7611464983094113e-05'}\n",
       "                   {'format': 'Tempo2', 'name': 'fake', 'clkcorr': '2.761142999056391e-05'}\n",
       "                   {'format': 'Tempo2', 'name': 'fake', 'clkcorr': '2.761139496783465e-05'}\n",
       "                  {'format': 'Tempo2', 'name': 'fake', 'clkcorr': '2.7611359948829142e-05'}\n",
       "                   {'format': 'Tempo2', 'name': 'fake', 'clkcorr': '2.761132492611692e-05'}\n",
       "                  {'format': 'Tempo2', 'name': 'fake', 'clkcorr': '2.7611289933511566e-05'}\n",
       " {'format': 'Tempo2', 'name': 'fake', 'clkcorr': '2.7608480209963185e-05', 'jump_tim': '1'}\n",
       "  {'format': 'Tempo2', 'name': 'fake', 'clkcorr': '2.760851408196982e-05', 'jump_tim': '1'}\n",
       " {'format': 'Tempo2', 'name': 'fake', 'clkcorr': '2.7608547957674082e-05', 'jump_tim': '1'}\n",
       " {'format': 'Tempo2', 'name': 'fake', 'clkcorr': '2.7608581829680227e-05', 'jump_tim': '1'}\n",
       "  {'format': 'Tempo2', 'name': 'fake', 'clkcorr': '2.760861567531231e-05', 'jump_tim': '1'}\n",
       "                                                                                        ...\n",
       "  {'format': 'Tempo2', 'name': 'fake', 'clkcorr': '2.72110487381627e-05', 'jump_tim': '28'}\n",
       " {'format': 'Tempo2', 'name': 'fake', 'clkcorr': '2.721102767055147e-05', 'jump_tim': '28'}\n",
       "{'format': 'Tempo2', 'name': 'fake', 'clkcorr': '2.7211006599188753e-05', 'jump_tim': '28'}\n",
       "{'format': 'Tempo2', 'name': 'fake', 'clkcorr': '2.7197059349200773e-05', 'jump_tim': '29'}\n",
       "{'format': 'Tempo2', 'name': 'fake', 'clkcorr': '2.7197070372664954e-05', 'jump_tim': '29'}\n",
       "{'format': 'Tempo2', 'name': 'fake', 'clkcorr': '2.6952377245083518e-05', 'jump_tim': '30'}\n",
       "{'format': 'Tempo2', 'name': 'fake', 'clkcorr': '2.6952383041856963e-05', 'jump_tim': '30'}\n",
       " {'format': 'Tempo2', 'name': 'fake', 'clkcorr': '2.695238883863416e-05', 'jump_tim': '30'}\n",
       "{'format': 'Tempo2', 'name': 'fake', 'clkcorr': '2.6952394639136642e-05', 'jump_tim': '30'}\n",
       "{'format': 'Tempo2', 'name': 'fake', 'clkcorr': '2.6952400435912204e-05', 'jump_tim': '30'}\n",
       "{'format': 'Tempo2', 'name': 'fake', 'clkcorr': '2.6952406231700634e-05', 'jump_tim': '30'}\n",
       "{'format': 'Tempo2', 'name': 'fake', 'clkcorr': '2.6952412028479026e-05', 'jump_tim': '30'}"
      ]
     },
     "execution_count": 2,
     "metadata": {},
     "output_type": "execute_result"
    }
   ],
   "source": [
    "from APT_binary import JUMP_adder_begginning, starting_points\n",
    "os.chdir(\"/Users/jackson/Desktop/Pint_Personal/APT/binary3_1\")\n",
    "\n",
    "parfile = Path(\"fake_1.par\")\n",
    "timfile = Path(\"fake_1.tim\")\n",
    "m, t = mb.get_model_and_toas(parfile, timfile)\n",
    "t.table[\"clusters\"] = t.get_clusters()\n",
    "mask = starting_points(toas = t)[0]\n",
    "t, m = JUMP_adder_begginning(mask[0], t, m, \"thisisatest.tim\", \"thisisatest.par\")\n",
    "t.table['flags']"
   ]
  },
  {
   "cell_type": "code",
   "execution_count": 3,
   "metadata": {},
   "outputs": [],
   "source": [
    "m.as_parfile() # adding jumps natively gives errors so I will add them manually\n",
    "with open(\"thisisatest1.par\", \"w\") as parfile:\n",
    "    parfile.write(m.as_parfile())\n",
    "    for i in range(1, 31):\n",
    "        parfile.write(f\"JUMP\\t\\t-jump_tim {i}\\t0 1 0\\n\")\n",
    "    "
   ]
  },
  {
   "cell_type": "code",
   "execution_count": 2,
   "metadata": {},
   "outputs": [
    {
     "name": "stderr",
     "output_type": "stream",
     "text": [
      "2022-06-23 14:55:50.486 | DEBUG    | pint.toa:__init__:1304 - No pulse number flags found in the TOAs\n",
      "2022-06-23 14:55:50.488 | DEBUG    | pint.toa:apply_clock_corrections:2085 - Applying clock corrections (include_gps = True, include_bipm = True)\n",
      "2022-06-23 14:55:50.507 | DEBUG    | pint.observatory.clock_file:__init__:566 - Loading tempo observatory (None) clock correction file /Users/jackson/.astropy/cache/download/url/599e3ebbfc317e090244ee1ef4c79374/contents\n",
      "2022-06-23 14:55:50.548 | INFO     | pint.observatory.topo_obs:find_clock_file:464 - Using global clock file for time_gbt.dat\n",
      "2022-06-23 14:55:50.549 | INFO     | pint.observatory.topo_obs:clock_corrections:258 - Applying observatory clock corrections.\n",
      "2022-06-23 14:55:50.551 | INFO     | pint.observatory.topo_obs:clock_corrections:263 - Applying GPS to UTC clock correction (~few nanoseconds)\n",
      "2022-06-23 14:55:50.551 | INFO     | pint.observatory.topo_obs:_load_gps_clock:190 - Loading global GPS clock file for gbt\n",
      "2022-06-23 14:55:50.557 | DEBUG    | pint.observatory.clock_file:__init__:451 - Loading tempo2 observatory clock correction file /Users/jackson/.astropy/cache/download/url/d3c81b5766f4bfb84e65504c8a453085/contents\n",
      "2022-06-23 14:55:50.610 | INFO     | pint.observatory.topo_obs:find_clock_file:464 - Using global clock file for gps2utc.clk\n",
      "2022-06-23 14:55:50.611 | INFO     | pint.observatory.topo_obs:clock_corrections:268 - Applying TT(TAI) to TT(BIPM2021) clock correction (~27 us)\n",
      "2022-06-23 14:55:50.612 | INFO     | pint.observatory.topo_obs:_load_bipm_clock:205 - Loading BIPM clock version bipm2021 for gbt\n",
      "2022-06-23 14:55:50.620 | DEBUG    | pint.observatory.clock_file:__init__:451 - Loading tempo2 observatory clock correction file /Users/jackson/.astropy/cache/download/url/e00edeef4edde217d65207a9abeb6a8c/contents\n",
      "2022-06-23 14:55:50.636 | INFO     | pint.observatory.topo_obs:find_clock_file:464 - Using global clock file for tai2tt_bipm2021.clk\n",
      "2022-06-23 14:55:50.749 | DEBUG    | pint.toa:compute_TDBs:2148 - Computing TDB columns.\n",
      "2022-06-23 14:55:50.750 | WARNING  | pint.toa:compute_TDBs:2160 - No ephemeris provided to TOAs object or compute_TDBs. Using DE421\n",
      "2022-06-23 14:55:50.750 | DEBUG    | pint.toa:compute_TDBs:2173 - Using EPHEM = DE421 for TDB calculation.\n",
      "2022-06-23 14:55:50.785 | DEBUG    | pint.toa:compute_posvels:2267 - Computing PosVels of observatories and Earth, using DE421\n",
      "2022-06-23 14:55:50.803 | INFO     | pint.solar_system_ephemerides:_load_kernel_link:54 - Set solar system ephemeris to de421 from download\n",
      "2022-06-23 14:55:51.975 | DEBUG    | pint.toa:compute_posvels:2325 - SSB obs pos [-1.48252269e+11  1.48939728e+10  6.45764512e+09] m\n",
      "2022-06-23 14:55:51.978 | INFO     | pint.solar_system_ephemerides:_load_kernel_link:54 - Set solar system ephemeris to de421 from download\n",
      "2022-06-23 14:55:51.980 | DEBUG    | pint.toa:compute_posvels:2339 - Adding columns ssb_obs_pos ssb_obs_vel obs_sun_pos\n"
     ]
    }
   ],
   "source": [
    "from APT_binary import JUMP_adder_begginning, starting_points\n",
    "os.chdir(\"/Users/jackson/Desktop/Pint_Personal/APT/binary3_1\")\n",
    "\n",
    "parfile = Path(\"fake_1.par\")\n",
    "timfile = Path(\"fake_1.tim\")\n",
    "m, t = mb.get_model_and_toas(parfile, timfile)\n",
    "t.table[\"clusters\"] = t.get_clusters()\n",
    "mask = starting_points(toas = t)[0]\n",
    "t, m = JUMP_adder_begginning(mask[0], t, m, \"thisisatest.tim\", \"thisisatest.par\")"
   ]
  },
  {
   "cell_type": "code",
   "execution_count": 3,
   "metadata": {},
   "outputs": [
    {
     "data": {
      "text/plain": [
       "{'AbsPhase': AbsPhase(\n",
       "     MJDParameter(   TZRMJD              56000.0000000000000000 (d) frozen=True),\n",
       "     strParameter(   TZRSITE             GBT               frozen=True),\n",
       "     floatParameter( TZRFRQ              1400.0            (MHz) frozen=True)),\n",
       " 'Spindown': Spindown(\n",
       "     floatParameter( F0                  2.4553950186475038 (Hz) +/- 1e-06 Hz frozen=False),\n",
       "     MJDParameter(   PEPOCH              56000.0000000000000000 (d) frozen=True),\n",
       "     floatParameter( F1                  0.0               (Hz / s) +/- 0.0 Hz / s frozen=True)),\n",
       " 'PhaseJump': PhaseJump(\n",
       "     maskParameter(JUMP1 -jump_tim 1 0.0 +/- 0.0 s (s)),\n",
       "     maskParameter(JUMP2 -jump_tim 2 0.0 +/- 0.0 s (s)),\n",
       "     maskParameter(JUMP3 -jump_tim 3 0.0 +/- 0.0 s (s)),\n",
       "     maskParameter(JUMP4 -jump_tim 4 0.0 +/- 0.0 s (s)),\n",
       "     maskParameter(JUMP5 -jump_tim 5 0.0 +/- 0.0 s (s)),\n",
       "     maskParameter(JUMP6 -jump_tim 6 0.0 +/- 0.0 s (s)),\n",
       "     maskParameter(JUMP7 -jump_tim 7 0.0 +/- 0.0 s (s)),\n",
       "     maskParameter(JUMP8 -jump_tim 8 0.0 +/- 0.0 s (s)),\n",
       "     maskParameter(JUMP9 -jump_tim 9 0.0 +/- 0.0 s (s)),\n",
       "     maskParameter(JUMP10 -jump_tim 10 0.0 +/- 0.0 s (s)),\n",
       "     maskParameter(JUMP11 -jump_tim 11 0.0 +/- 0.0 s (s)),\n",
       "     maskParameter(JUMP12 -jump_tim 12 0.0 +/- 0.0 s (s)),\n",
       "     maskParameter(JUMP13 -jump_tim 13 0.0 +/- 0.0 s (s)),\n",
       "     maskParameter(JUMP14 -jump_tim 14 0.0 +/- 0.0 s (s)),\n",
       "     maskParameter(JUMP15 -jump_tim 15 0.0 +/- 0.0 s (s)),\n",
       "     maskParameter(JUMP16 -jump_tim 16 0.0 +/- 0.0 s (s)),\n",
       "     maskParameter(JUMP17 -jump_tim 17 0.0 +/- 0.0 s (s)),\n",
       "     maskParameter(JUMP18 -jump_tim 18 0.0 +/- 0.0 s (s)),\n",
       "     maskParameter(JUMP19 -jump_tim 19 0.0 +/- 0.0 s (s)),\n",
       "     maskParameter(JUMP20 -jump_tim 20 0.0 +/- 0.0 s (s)),\n",
       "     maskParameter(JUMP21 -jump_tim 21 0.0 +/- 0.0 s (s)),\n",
       "     maskParameter(JUMP22 -jump_tim 22 0.0 +/- 0.0 s (s)),\n",
       "     maskParameter(JUMP23 -jump_tim 23 0.0 +/- 0.0 s (s)),\n",
       "     maskParameter(JUMP24 -jump_tim 24 0.0 +/- 0.0 s (s)),\n",
       "     maskParameter(JUMP25 -jump_tim 25 0.0 +/- 0.0 s (s)),\n",
       "     maskParameter(JUMP26 -jump_tim 26 0.0 +/- 0.0 s (s)),\n",
       "     maskParameter(JUMP27 -jump_tim 27 0.0 +/- 0.0 s (s)),\n",
       "     maskParameter(JUMP28 -jump_tim 28 0.0 +/- 0.0 s (s)),\n",
       "     maskParameter(JUMP29 -jump_tim 29 0.0 +/- 0.0 s (s)),\n",
       "     maskParameter(JUMP30 -jump_tim 30 0.0 +/- 0.0 s (s))),\n",
       " 'AstrometryEquatorial': AstrometryEquatorial(\n",
       "     MJDParameter(   POSEPOCH            UNSET,\n",
       "     floatParameter( PX                  0.0               (mas) frozen=True),\n",
       "     AngleParameter( RAJ                 13:00:37.92671716 (hourangle) +/- 0h00m00.01s frozen=True),\n",
       "     AngleParameter( DECJ                7:38:43.37778699  (deg) +/- 0d00m00.01s frozen=True),\n",
       "     floatParameter( PMRA                0.0               (mas / yr) frozen=True),\n",
       "     floatParameter( PMDEC               0.0               (mas / yr) frozen=True)),\n",
       " 'SolarSystemShapiro': SolarSystemShapiro(\n",
       "     boolParameter(  PLANET_SHAPIRO      N                 frozen=True)),\n",
       " 'DispersionDM': DispersionDM(\n",
       "     floatParameter( DM                  0.0               (pc / cm3) +/- 0.0 pc / cm3 frozen=True),\n",
       "     floatParameter( DM1                 UNSET,\n",
       "     MJDParameter(   DMEPOCH             UNSET),\n",
       " 'BinaryELL1': BinaryELL1(\n",
       "     floatParameter( PB                  17.198013331210483 (d) +/- 0.1 d frozen=True),\n",
       "     floatParameter( PBDOT               UNSET,\n",
       "     floatParameter( A1                  0.7480623513143103 (ls) +/- 0.1 ls frozen=True),\n",
       "     floatParameter( A1DOT               UNSET,\n",
       "     floatParameter( EDOT                UNSET,\n",
       "     floatParameter( OMDOT               UNSET,\n",
       "     floatParameter( M2                  UNSET,\n",
       "     floatParameter( SINI                UNSET,\n",
       "     floatParameter( FB0                 UNSET,\n",
       "     MJDParameter(   TASC                56298.6401990979300000 (d) +/- 0.1 d frozen=True),\n",
       "     floatParameter( EPS1                0.0               () +/- 0.0 frozen=True),\n",
       "     floatParameter( EPS2                0.0               () +/- 0.0 frozen=True),\n",
       "     floatParameter( EPS1DOT             UNSET,\n",
       "     floatParameter( EPS2DOT             UNSET)}"
      ]
     },
     "execution_count": 3,
     "metadata": {},
     "output_type": "execute_result"
    }
   ],
   "source": [
    "m.components"
   ]
  },
  {
   "cell_type": "code",
   "execution_count": 36,
   "metadata": {},
   "outputs": [
    {
     "ename": "AttributeError",
     "evalue": "Attribute JUMP not found in TimingModel or any Component",
     "output_type": "error",
     "traceback": [
      "\u001b[0;31m---------------------------------------------------------------------------\u001b[0m",
      "\u001b[0;31mAttributeError\u001b[0m                            Traceback (most recent call last)",
      "\u001b[1;32m/Users/jackson/Desktop/Pint_Personal/APT/APT_tests.ipynb Cell 7'\u001b[0m in \u001b[0;36m<cell line: 9>\u001b[0;34m()\u001b[0m\n\u001b[1;32m      <a href='vscode-notebook-cell:/Users/jackson/Desktop/Pint_Personal/APT/APT_tests.ipynb#ch0000007?line=5'>6</a>\u001b[0m f1 \u001b[39m=\u001b[39m pint\u001b[39m.\u001b[39mfitter\u001b[39m.\u001b[39mWLSFitter(t1, m1)\n\u001b[1;32m      <a href='vscode-notebook-cell:/Users/jackson/Desktop/Pint_Personal/APT/APT_tests.ipynb#ch0000007?line=6'>7</a>\u001b[0m \u001b[39m# f = pint.fitter.WLSFitter(t, m)\u001b[39;00m\n\u001b[1;32m      <a href='vscode-notebook-cell:/Users/jackson/Desktop/Pint_Personal/APT/APT_tests.ipynb#ch0000007?line=7'>8</a>\u001b[0m \u001b[39m# f.get_designmatrix()\u001b[39;00m\n\u001b[0;32m----> <a href='vscode-notebook-cell:/Users/jackson/Desktop/Pint_Personal/APT/APT_tests.ipynb#ch0000007?line=8'>9</a>\u001b[0m m1\u001b[39m.\u001b[39;49mJUMP\n",
      "File \u001b[0;32m~/Desktop/Pint_Personal/PINT/src/pint/models/timing_model.py:408\u001b[0m, in \u001b[0;36mTimingModel.__getattr__\u001b[0;34m(self, name)\u001b[0m\n\u001b[1;32m    406\u001b[0m     \u001b[39mexcept\u001b[39;00m \u001b[39mAttributeError\u001b[39;00m:\n\u001b[1;32m    407\u001b[0m         \u001b[39mcontinue\u001b[39;00m\n\u001b[0;32m--> 408\u001b[0m \u001b[39mraise\u001b[39;00m \u001b[39mAttributeError\u001b[39;00m(\n\u001b[1;32m    409\u001b[0m     \u001b[39mf\u001b[39m\u001b[39m\"\u001b[39m\u001b[39mAttribute \u001b[39m\u001b[39m{\u001b[39;00mname\u001b[39m}\u001b[39;00m\u001b[39m not found in TimingModel or any Component\u001b[39m\u001b[39m\"\u001b[39m\n\u001b[1;32m    410\u001b[0m )\n",
      "\u001b[0;31mAttributeError\u001b[0m: Attribute JUMP not found in TimingModel or any Component"
     ]
    }
   ],
   "source": [
    "# Now to test out the design matrix\n",
    "\n",
    "m1 = deepcopy(m)\n",
    "t1 = deepcopy(t)\n",
    "\n",
    "f1 = pint.fitter.WLSFitter(t1, m1)\n",
    "# f = pint.fitter.WLSFitter(t, m)\n",
    "# f.get_designmatrix()\n",
    "m1.components"
   ]
  },
  {
   "cell_type": "code",
   "execution_count": null,
   "metadata": {},
   "outputs": [],
   "source": [
    "def JUMP_adder_begginning_cluster(\n",
    "    mask: np.ndarray, toas, model, output_timfile, output_parfile\n",
    "):\n",
    "    \"\"\"\n",
    "    Adds JUMPs to a timfile as the begginning of analysis.\n",
    "\n",
    "    mask : a mask to select which toas will not be jumped\n",
    "    toas : TOA object\n",
    "    output_timfile : name for the tim file to be written\n",
    "    output_parfile : name for par file to be written\n",
    "    \"\"\"\n",
    "    t = deepcopy(toas)\n",
    "    flag_name = \"jump_tim\"\n",
    "\n",
    "    former_cluster = t.table[mask][\"clusters\"][0]\n",
    "    j = 0\n",
    "    for i, table in enumerate(t.table[~mask]):\n",
    "        # if table[\"clusters\"] != former_cluster:\n",
    "        #     former_cluster = table[\"clusters\"]\n",
    "        #     j += 1\n",
    "        table[\"flags\"][flag_name] = str(table[\"clusters\"])\n",
    "    t.write_TOA_file(output_timfile)\n",
    "\n",
    "    # model.jump_flags_to_params(t) doesn't currently work (need flag name to be \"tim_jump\" and even then it still won't work),\n",
    "    # so the following is a workaround. This is likely related to issue 1294.\n",
    "    ### (workaround surrounded in ###)\n",
    "    with open(output_parfile, \"w\") as parfile:\n",
    "        parfile.write(model.as_parfile())\n",
    "        for i in range(1, j + 1):\n",
    "            parfile.write(f\"JUMP\\t\\t-{flag_name} {i}\\t0 1 0\\n\")\n",
    "    model = mb.get_model(output_parfile)\n",
    "    ###\n",
    "\n",
    "    return t, model\n",
    "\n",
    "os.chdir(\"/Users/jackson/Desktop/Pint_Personal/APT/binary3_1\")\n",
    "\n",
    "parfile = Path(\"fake_1.par\")\n",
    "timfile = Path(\"fake_1.tim\")\n",
    "m, t = mb.get_model_and_toas(parfile, timfile)\n",
    "t.table[\"clusters\"] = t.get_clusters()\n",
    "mask = starting_points(toas = t)[0]\n",
    "t, m = JUMP_adder_begginning_cluster(mask[0], t, m, \"thisisatest.tim\", \"thisisatest.par\")"
   ]
  },
  {
   "cell_type": "code",
   "execution_count": 10,
   "metadata": {},
   "outputs": [
    {
     "name": "stdout",
     "output_type": "stream",
     "text": [
      "0\n",
      "1\n",
      "2\n",
      "3\n",
      "4\n"
     ]
    },
    {
     "data": {
      "text/plain": [
       "[0, 9, 10, 14, 19]"
      ]
     },
     "execution_count": 10,
     "metadata": {},
     "output_type": "execute_result"
    }
   ],
   "source": [
    "masks_list, start_clusters_list = starting_points(t)\n",
    "for mask_number, mask in enumerate(masks_list):\n",
    "    print(mask_number)\n",
    "\n",
    "starting_points(t)[1]"
   ]
  },
  {
   "cell_type": "code",
   "execution_count": 60,
   "metadata": {},
   "outputs": [
    {
     "data": {
      "text/plain": [
       "[12, 3]"
      ]
     },
     "execution_count": 60,
     "metadata": {},
     "output_type": "execute_result"
    }
   ],
   "source": [
    "([12,3], [4,3,4])[0]"
   ]
  },
  {
   "cell_type": "code",
   "execution_count": null,
   "metadata": {},
   "outputs": [],
   "source": []
  }
 ],
 "metadata": {
  "kernelspec": {
   "display_name": "Python 3.9.12 ('penguin')",
   "language": "python",
   "name": "python3"
  },
  "language_info": {
   "codemirror_mode": {
    "name": "ipython",
    "version": 3
   },
   "file_extension": ".py",
   "mimetype": "text/x-python",
   "name": "python",
   "nbconvert_exporter": "python",
   "pygments_lexer": "ipython3",
   "version": "3.9.12"
  },
  "orig_nbformat": 4,
  "vscode": {
   "interpreter": {
    "hash": "a1d132dd072b8d5db54bff76b1d5a2ffac9c5941c0c46880f80e3436479cf37b"
   }
  }
 },
 "nbformat": 4,
 "nbformat_minor": 2
}
