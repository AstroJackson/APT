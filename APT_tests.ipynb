{
 "cells": [
  {
   "cell_type": "code",
   "execution_count": 1,
   "metadata": {},
   "outputs": [],
   "source": [
    "import pint.toa\n",
    "import pint.models\n",
    "import pint.fitter\n",
    "import pint.residuals\n",
    "import pint.utils\n",
    "import pint.models.model_builder as mb\n",
    "import pint.random_models\n",
    "from pint.phase import Phase\n",
    "from copy import deepcopy\n",
    "from collections import OrderedDict\n",
    "#from astropy import log\n",
    "import astropy.units as u\n",
    "import numpy as np\n",
    "import matplotlib.pyplot as plt\n",
    "import os\n",
    "import csv\n",
    "import operator\n",
    "import time\n",
    "from pathlib import Path\n",
    "#import APT_argparse\n",
    "import socket"
   ]
  },
  {
   "cell_type": "code",
   "execution_count": null,
   "metadata": {},
   "outputs": [],
   "source": [
    "def JUMP_adder_begginning(\n",
    "    mask: np.ndarray, toas, model, output_parfile, output_timfile\n",
    "):\n",
    "    \"\"\"\n",
    "    Adds JUMPs to a timfile as the begginning of analysis.\n",
    "\n",
    "    Parameters\n",
    "    ----------\n",
    "    mask : a mask to select which toas will not be jumped\n",
    "    toas : TOA object\n",
    "    output_timfile : name for the tim file to be written\n",
    "    output_parfile : name for par file to be written\n",
    "\n",
    "    Returns\n",
    "    -------\n",
    "    model, t\n",
    "    \"\"\"\n",
    "    t = deepcopy(toas)\n",
    "    flag_name = \"jump_tim\"\n",
    "\n",
    "    former_cluster = t.table[mask][\"clusters\"][0]\n",
    "    j = 0\n",
    "    for i, table in enumerate(t.table[~mask]):\n",
    "        if table[\"clusters\"] != former_cluster:\n",
    "            former_cluster = table[\"clusters\"]\n",
    "            j += 1\n",
    "        table[\"flags\"][flag_name] = str(j)\n",
    "    t.write_TOA_file(output_timfile)\n",
    "\n",
    "    # model.jump_flags_to_params(t) doesn't currently work (need flag name to be \"tim_jump\" and even then it still won't work),\n",
    "    # so the following is a workaround. This is likely related to issue 1294.\n",
    "    ### (workaround surrounded in ###)\n",
    "    with open(output_parfile, \"w\") as parfile:\n",
    "        parfile.write(model.as_parfile())\n",
    "        for i in range(1, j + 1):\n",
    "            parfile.write(f\"JUMP\\t\\t-{flag_name} {i}\\t0 1 0\\n\")\n",
    "    model = mb.get_model(output_parfile)\n",
    "    ###\n",
    "\n",
    "    return model, t"
   ]
  },
  {
   "cell_type": "code",
   "execution_count": 43,
   "metadata": {},
   "outputs": [
    {
     "data": {
      "text/plain": [
       "array([   0.40726644, -215.77663308])"
      ]
     },
     "execution_count": 43,
     "metadata": {},
     "output_type": "execute_result"
    }
   ],
   "source": [
    "f = pint.fitter.WLSFitter(t, m)\n",
    "\n",
    "f.get_designmatrix()"
   ]
  },
  {
   "cell_type": "code",
   "execution_count": 85,
   "metadata": {},
   "outputs": [
    {
     "name": "stderr",
     "output_type": "stream",
     "text": [
      "2022-06-24 14:38:49.660 | DEBUG    | pint.toa:__init__:1304 - No pulse number flags found in the TOAs\n",
      "2022-06-24 14:38:49.662 | DEBUG    | pint.toa:apply_clock_corrections:2085 - Applying clock corrections (include_gps = True, include_bipm = True)\n",
      "2022-06-24 14:38:49.679 | INFO     | pint.observatory.topo_obs:clock_corrections:258 - Applying observatory clock corrections.\n",
      "2022-06-24 14:38:49.681 | INFO     | pint.observatory.topo_obs:clock_corrections:263 - Applying GPS to UTC clock correction (~few nanoseconds)\n",
      "2022-06-24 14:38:49.683 | INFO     | pint.observatory.topo_obs:clock_corrections:268 - Applying TT(TAI) to TT(BIPM2021) clock correction (~27 us)\n",
      "2022-06-24 14:38:49.793 | DEBUG    | pint.toa:compute_TDBs:2148 - Computing TDB columns.\n",
      "2022-06-24 14:38:49.794 | WARNING  | pint.toa:compute_TDBs:2160 - No ephemeris provided to TOAs object or compute_TDBs. Using DE421\n",
      "2022-06-24 14:38:49.795 | DEBUG    | pint.toa:compute_TDBs:2173 - Using EPHEM = DE421 for TDB calculation.\n",
      "2022-06-24 14:38:50.130 | DEBUG    | pint.toa:compute_posvels:2267 - Computing PosVels of observatories and Earth, using DE421\n",
      "2022-06-24 14:38:50.138 | INFO     | pint.solar_system_ephemerides:_load_kernel_link:54 - Set solar system ephemeris to de421 from download\n",
      "2022-06-24 14:38:50.189 | DEBUG    | pint.toa:compute_posvels:2325 - SSB obs pos [-1.48252269e+11  1.48939728e+10  6.45764512e+09] m\n",
      "2022-06-24 14:38:50.191 | INFO     | pint.solar_system_ephemerides:_load_kernel_link:54 - Set solar system ephemeris to de421 from download\n",
      "2022-06-24 14:38:50.194 | DEBUG    | pint.toa:compute_posvels:2339 - Adding columns ssb_obs_pos ssb_obs_vel obs_sun_pos\n"
     ]
    },
    {
     "data": {
      "text/plain": [
       "pint.models.timing_model.TimingModel"
      ]
     },
     "execution_count": 85,
     "metadata": {},
     "output_type": "execute_result"
    }
   ],
   "source": [
    "from APT_binary import JUMP_adder_begginning, starting_points\n",
    "os.chdir(\"/Users/jackson/Desktop/Pint_Personal/APT/binary_test_data/binary3_1\")\n",
    "#os.chdir(\"/users/jdtaylor/Jackson/APT/binary3_4\")\n",
    "\n",
    "parfile = Path(\"fake_1.par\")\n",
    "timfile = Path(\"fake_1.tim\")\n",
    "m, t = mb.get_model_and_toas(parfile, timfile)\n",
    "t.table[\"clusters\"] = t.get_clusters()\n",
    "masks = starting_points(toas = t)[0]\n",
    "mask = masks[0]\n",
    "t, m = JUMP_adder_begginning(mask, t, m, \"start.tim\", \"start.par\")\n",
    "t.table['flags']\n",
    "type(m)"
   ]
  },
  {
   "cell_type": "code",
   "execution_count": 3,
   "metadata": {},
   "outputs": [],
   "source": [
    "m.as_parfile() # adding jumps natively gives errors so I will add them manually\n",
    "with open(\"thisisatest1.par\", \"w\") as parfile:\n",
    "    parfile.write(m.as_parfile())\n",
    "    for i in range(1, 31):\n",
    "        parfile.write(f\"JUMP\\t\\t-jump_tim {i}\\t0 1 0\\n\")\n",
    "    "
   ]
  },
  {
   "cell_type": "code",
   "execution_count": 13,
   "metadata": {},
   "outputs": [
    {
     "name": "stderr",
     "output_type": "stream",
     "text": [
      "2022-06-23 15:29:14.901 | DEBUG    | pint.toa:__init__:1304 - No pulse number flags found in the TOAs\n",
      "2022-06-23 15:29:14.902 | DEBUG    | pint.toa:apply_clock_corrections:2085 - Applying clock corrections (include_gps = True, include_bipm = True)\n",
      "2022-06-23 15:29:14.919 | INFO     | pint.observatory.topo_obs:clock_corrections:258 - Applying observatory clock corrections.\n",
      "2022-06-23 15:29:14.920 | INFO     | pint.observatory.topo_obs:clock_corrections:263 - Applying GPS to UTC clock correction (~few nanoseconds)\n",
      "2022-06-23 15:29:14.922 | INFO     | pint.observatory.topo_obs:clock_corrections:268 - Applying TT(TAI) to TT(BIPM2021) clock correction (~27 us)\n",
      "2022-06-23 15:29:15.008 | DEBUG    | pint.toa:compute_TDBs:2148 - Computing TDB columns.\n",
      "2022-06-23 15:29:15.009 | WARNING  | pint.toa:compute_TDBs:2160 - No ephemeris provided to TOAs object or compute_TDBs. Using DE421\n",
      "2022-06-23 15:29:15.010 | DEBUG    | pint.toa:compute_TDBs:2173 - Using EPHEM = DE421 for TDB calculation.\n",
      "2022-06-23 15:29:15.048 | DEBUG    | pint.toa:compute_posvels:2267 - Computing PosVels of observatories and Earth, using DE421\n",
      "2022-06-23 15:29:15.056 | INFO     | pint.solar_system_ephemerides:_load_kernel_link:54 - Set solar system ephemeris to de421 from download\n",
      "2022-06-23 15:29:15.106 | DEBUG    | pint.toa:compute_posvels:2325 - SSB obs pos [-1.48252269e+11  1.48939728e+10  6.45764512e+09] m\n",
      "2022-06-23 15:29:15.109 | INFO     | pint.solar_system_ephemerides:_load_kernel_link:54 - Set solar system ephemeris to de421 from download\n",
      "2022-06-23 15:29:15.111 | DEBUG    | pint.toa:compute_posvels:2339 - Adding columns ssb_obs_pos ssb_obs_vel obs_sun_pos\n"
     ]
    }
   ],
   "source": [
    "from APT_binary import JUMP_adder_begginning, starting_points\n",
    "os.chdir(\"/Users/jackson/Desktop/Pint_Personal/APT/binary3_1\")\n",
    "\n",
    "parfile = Path(\"fake_1.par\")\n",
    "timfile = Path(\"fake_1.tim\")\n",
    "m, t = mb.get_model_and_toas(parfile, timfile)\n",
    "t.table[\"clusters\"] = t.get_clusters()\n",
    "mask, clusters = starting_points(toas = t)\n",
    "t, m = JUMP_adder_begginning(mask[0], t, m, \"thisisatest.tim\", \"thisisatest.par\")"
   ]
  },
  {
   "cell_type": "code",
   "execution_count": 3,
   "metadata": {},
   "outputs": [
    {
     "data": {
      "text/plain": [
       "{'AbsPhase': AbsPhase(\n",
       "     MJDParameter(   TZRMJD              56000.0000000000000000 (d) frozen=True),\n",
       "     strParameter(   TZRSITE             GBT               frozen=True),\n",
       "     floatParameter( TZRFRQ              1400.0            (MHz) frozen=True)),\n",
       " 'Spindown': Spindown(\n",
       "     floatParameter( F0                  2.4553950186475038 (Hz) +/- 1e-06 Hz frozen=False),\n",
       "     MJDParameter(   PEPOCH              56000.0000000000000000 (d) frozen=True),\n",
       "     floatParameter( F1                  0.0               (Hz / s) +/- 0.0 Hz / s frozen=True)),\n",
       " 'PhaseJump': PhaseJump(\n",
       "     maskParameter(JUMP1 -jump_tim 1 0.0 +/- 0.0 s (s)),\n",
       "     maskParameter(JUMP2 -jump_tim 2 0.0 +/- 0.0 s (s)),\n",
       "     maskParameter(JUMP3 -jump_tim 3 0.0 +/- 0.0 s (s)),\n",
       "     maskParameter(JUMP4 -jump_tim 4 0.0 +/- 0.0 s (s)),\n",
       "     maskParameter(JUMP5 -jump_tim 5 0.0 +/- 0.0 s (s)),\n",
       "     maskParameter(JUMP6 -jump_tim 6 0.0 +/- 0.0 s (s)),\n",
       "     maskParameter(JUMP7 -jump_tim 7 0.0 +/- 0.0 s (s)),\n",
       "     maskParameter(JUMP8 -jump_tim 8 0.0 +/- 0.0 s (s)),\n",
       "     maskParameter(JUMP9 -jump_tim 9 0.0 +/- 0.0 s (s)),\n",
       "     maskParameter(JUMP10 -jump_tim 10 0.0 +/- 0.0 s (s)),\n",
       "     maskParameter(JUMP11 -jump_tim 11 0.0 +/- 0.0 s (s)),\n",
       "     maskParameter(JUMP12 -jump_tim 12 0.0 +/- 0.0 s (s)),\n",
       "     maskParameter(JUMP13 -jump_tim 13 0.0 +/- 0.0 s (s)),\n",
       "     maskParameter(JUMP14 -jump_tim 14 0.0 +/- 0.0 s (s)),\n",
       "     maskParameter(JUMP15 -jump_tim 15 0.0 +/- 0.0 s (s)),\n",
       "     maskParameter(JUMP16 -jump_tim 16 0.0 +/- 0.0 s (s)),\n",
       "     maskParameter(JUMP17 -jump_tim 17 0.0 +/- 0.0 s (s)),\n",
       "     maskParameter(JUMP18 -jump_tim 18 0.0 +/- 0.0 s (s)),\n",
       "     maskParameter(JUMP19 -jump_tim 19 0.0 +/- 0.0 s (s)),\n",
       "     maskParameter(JUMP20 -jump_tim 20 0.0 +/- 0.0 s (s)),\n",
       "     maskParameter(JUMP21 -jump_tim 21 0.0 +/- 0.0 s (s)),\n",
       "     maskParameter(JUMP22 -jump_tim 22 0.0 +/- 0.0 s (s)),\n",
       "     maskParameter(JUMP23 -jump_tim 23 0.0 +/- 0.0 s (s)),\n",
       "     maskParameter(JUMP24 -jump_tim 24 0.0 +/- 0.0 s (s)),\n",
       "     maskParameter(JUMP25 -jump_tim 25 0.0 +/- 0.0 s (s)),\n",
       "     maskParameter(JUMP26 -jump_tim 26 0.0 +/- 0.0 s (s)),\n",
       "     maskParameter(JUMP27 -jump_tim 27 0.0 +/- 0.0 s (s)),\n",
       "     maskParameter(JUMP28 -jump_tim 28 0.0 +/- 0.0 s (s)),\n",
       "     maskParameter(JUMP29 -jump_tim 29 0.0 +/- 0.0 s (s)),\n",
       "     maskParameter(JUMP30 -jump_tim 30 0.0 +/- 0.0 s (s))),\n",
       " 'AstrometryEquatorial': AstrometryEquatorial(\n",
       "     MJDParameter(   POSEPOCH            UNSET,\n",
       "     floatParameter( PX                  0.0               (mas) frozen=True),\n",
       "     AngleParameter( RAJ                 13:00:37.92671716 (hourangle) +/- 0h00m00.01s frozen=True),\n",
       "     AngleParameter( DECJ                7:38:43.37778699  (deg) +/- 0d00m00.01s frozen=True),\n",
       "     floatParameter( PMRA                0.0               (mas / yr) frozen=True),\n",
       "     floatParameter( PMDEC               0.0               (mas / yr) frozen=True)),\n",
       " 'SolarSystemShapiro': SolarSystemShapiro(\n",
       "     boolParameter(  PLANET_SHAPIRO      N                 frozen=True)),\n",
       " 'DispersionDM': DispersionDM(\n",
       "     floatParameter( DM                  0.0               (pc / cm3) +/- 0.0 pc / cm3 frozen=True),\n",
       "     floatParameter( DM1                 UNSET,\n",
       "     MJDParameter(   DMEPOCH             UNSET),\n",
       " 'BinaryELL1': BinaryELL1(\n",
       "     floatParameter( PB                  17.198013331210483 (d) +/- 0.1 d frozen=True),\n",
       "     floatParameter( PBDOT               UNSET,\n",
       "     floatParameter( A1                  0.7480623513143103 (ls) +/- 0.1 ls frozen=True),\n",
       "     floatParameter( A1DOT               UNSET,\n",
       "     floatParameter( EDOT                UNSET,\n",
       "     floatParameter( OMDOT               UNSET,\n",
       "     floatParameter( M2                  UNSET,\n",
       "     floatParameter( SINI                UNSET,\n",
       "     floatParameter( FB0                 UNSET,\n",
       "     MJDParameter(   TASC                56298.6401990979300000 (d) +/- 0.1 d frozen=True),\n",
       "     floatParameter( EPS1                0.0               () +/- 0.0 frozen=True),\n",
       "     floatParameter( EPS2                0.0               () +/- 0.0 frozen=True),\n",
       "     floatParameter( EPS1DOT             UNSET,\n",
       "     floatParameter( EPS2DOT             UNSET)}"
      ]
     },
     "execution_count": 3,
     "metadata": {},
     "output_type": "execute_result"
    }
   ],
   "source": [
    "m.components"
   ]
  },
  {
   "cell_type": "code",
   "execution_count": 36,
   "metadata": {},
   "outputs": [
    {
     "ename": "AttributeError",
     "evalue": "Attribute JUMP not found in TimingModel or any Component",
     "output_type": "error",
     "traceback": [
      "\u001b[0;31m---------------------------------------------------------------------------\u001b[0m",
      "\u001b[0;31mAttributeError\u001b[0m                            Traceback (most recent call last)",
      "\u001b[1;32m/Users/jackson/Desktop/Pint_Personal/APT/APT_tests.ipynb Cell 7'\u001b[0m in \u001b[0;36m<cell line: 9>\u001b[0;34m()\u001b[0m\n\u001b[1;32m      <a href='vscode-notebook-cell:/Users/jackson/Desktop/Pint_Personal/APT/APT_tests.ipynb#ch0000007?line=5'>6</a>\u001b[0m f1 \u001b[39m=\u001b[39m pint\u001b[39m.\u001b[39mfitter\u001b[39m.\u001b[39mWLSFitter(t1, m1)\n\u001b[1;32m      <a href='vscode-notebook-cell:/Users/jackson/Desktop/Pint_Personal/APT/APT_tests.ipynb#ch0000007?line=6'>7</a>\u001b[0m \u001b[39m# f = pint.fitter.WLSFitter(t, m)\u001b[39;00m\n\u001b[1;32m      <a href='vscode-notebook-cell:/Users/jackson/Desktop/Pint_Personal/APT/APT_tests.ipynb#ch0000007?line=7'>8</a>\u001b[0m \u001b[39m# f.get_designmatrix()\u001b[39;00m\n\u001b[0;32m----> <a href='vscode-notebook-cell:/Users/jackson/Desktop/Pint_Personal/APT/APT_tests.ipynb#ch0000007?line=8'>9</a>\u001b[0m m1\u001b[39m.\u001b[39;49mJUMP\n",
      "File \u001b[0;32m~/Desktop/Pint_Personal/PINT/src/pint/models/timing_model.py:408\u001b[0m, in \u001b[0;36mTimingModel.__getattr__\u001b[0;34m(self, name)\u001b[0m\n\u001b[1;32m    406\u001b[0m     \u001b[39mexcept\u001b[39;00m \u001b[39mAttributeError\u001b[39;00m:\n\u001b[1;32m    407\u001b[0m         \u001b[39mcontinue\u001b[39;00m\n\u001b[0;32m--> 408\u001b[0m \u001b[39mraise\u001b[39;00m \u001b[39mAttributeError\u001b[39;00m(\n\u001b[1;32m    409\u001b[0m     \u001b[39mf\u001b[39m\u001b[39m\"\u001b[39m\u001b[39mAttribute \u001b[39m\u001b[39m{\u001b[39;00mname\u001b[39m}\u001b[39;00m\u001b[39m not found in TimingModel or any Component\u001b[39m\u001b[39m\"\u001b[39m\n\u001b[1;32m    410\u001b[0m )\n",
      "\u001b[0;31mAttributeError\u001b[0m: Attribute JUMP not found in TimingModel or any Component"
     ]
    }
   ],
   "source": [
    "# Now to test out the design matrix\n",
    "\n",
    "m1 = deepcopy(m)\n",
    "t1 = deepcopy(t)\n",
    "\n",
    "f1 = pint.fitter.WLSFitter(t1, m1)\n",
    "# f = pint.fitter.WLSFitter(t, m)\n",
    "# f.get_designmatrix()\n",
    "m1.components"
   ]
  },
  {
   "cell_type": "code",
   "execution_count": 60,
   "metadata": {},
   "outputs": [
    {
     "name": "stderr",
     "output_type": "stream",
     "text": [
      "2022-06-24 11:25:43.132 | DEBUG    | pint.toa:__init__:1304 - No pulse number flags found in the TOAs\n",
      "2022-06-24 11:25:43.139 | DEBUG    | pint.toa:apply_clock_corrections:2085 - Applying clock corrections (include_gps = True, include_bipm = True)\n",
      "2022-06-24 11:25:43.155 | INFO     | pint.observatory.topo_obs:clock_corrections:258 - Applying observatory clock corrections.\n",
      "2022-06-24 11:25:43.158 | INFO     | pint.observatory.topo_obs:clock_corrections:263 - Applying GPS to UTC clock correction (~few nanoseconds)\n",
      "2022-06-24 11:25:43.160 | INFO     | pint.observatory.topo_obs:clock_corrections:268 - Applying TT(TAI) to TT(BIPM2021) clock correction (~27 us)\n",
      "2022-06-24 11:25:43.238 | DEBUG    | pint.toa:compute_TDBs:2148 - Computing TDB columns.\n",
      "2022-06-24 11:25:43.239 | WARNING  | pint.toa:compute_TDBs:2160 - No ephemeris provided to TOAs object or compute_TDBs. Using DE421\n",
      "2022-06-24 11:25:43.240 | DEBUG    | pint.toa:compute_TDBs:2173 - Using EPHEM = DE421 for TDB calculation.\n",
      "2022-06-24 11:25:43.279 | DEBUG    | pint.toa:compute_posvels:2267 - Computing PosVels of observatories and Earth, using DE421\n",
      "2022-06-24 11:25:43.292 | INFO     | pint.solar_system_ephemerides:_load_kernel_link:54 - Set solar system ephemeris to de421 from download\n",
      "2022-06-24 11:25:43.350 | DEBUG    | pint.toa:compute_posvels:2325 - SSB obs pos [-1.48252269e+11  1.48939728e+10  6.45764512e+09] m\n",
      "2022-06-24 11:25:43.353 | INFO     | pint.solar_system_ephemerides:_load_kernel_link:54 - Set solar system ephemeris to de421 from download\n",
      "2022-06-24 11:25:43.355 | DEBUG    | pint.toa:compute_posvels:2339 - Adding columns ssb_obs_pos ssb_obs_vel obs_sun_pos\n"
     ]
    }
   ],
   "source": [
    "def JUMP_adder_begginning_cluster(\n",
    "    mask: np.ndarray, toas, model, output_timfile, output_parfile\n",
    "):\n",
    "    \"\"\"\n",
    "    Adds JUMPs to a timfile as the begginning of analysis.\n",
    "\n",
    "    mask : a mask to select which toas will not be jumped\n",
    "    toas : TOA object\n",
    "    output_timfile : name for the tim file to be written\n",
    "    output_parfile : name for par file to be written\n",
    "    \"\"\"\n",
    "    t = deepcopy(toas)\n",
    "    flag_name = \"tim_jump\"\n",
    "\n",
    "    former_cluster = t.table[mask][\"clusters\"][0]\n",
    "    j = 0\n",
    "    for i, table in enumerate(t.table[~mask]):\n",
    "        # if table[\"clusters\"] != former_cluster:\n",
    "        #     former_cluster = table[\"clusters\"]\n",
    "        #     j += 1\n",
    "        table[\"flags\"][flag_name] = str(table[\"clusters\"])\n",
    "    t.write_TOA_file(output_timfile)\n",
    "\n",
    "    # model.jump_flags_to_params(t) doesn't currently work (need flag name to be \"tim_jump\" and even then it still won't work),\n",
    "    # so the following is a workaround. This is likely related to issue 1294.\n",
    "    ### (workaround surrounded in ###)\n",
    "    # with open(output_parfile, \"w\") as parfile:\n",
    "    #     parfile.write(model.as_parfile())\n",
    "    #     for i in set(t.table[~mask][\"clusters\"]):\n",
    "    #         parfile.write(f\"JUMP\\t\\t-{flag_name} {i}\\t0 1 0\\n\")\n",
    "    # model = mb.get_model(output_parfile)\n",
    "    ###\n",
    "\n",
    "    return t, model\n",
    "\n",
    "#os.chdir(\"/Users/jackson/Desktop/Pint_Personal/APT/binary3_1\")\n",
    "os.chdir(Path(\"/users/jdtaylor/Jackson/APT/binary_test_data/binary4_100\"))\n",
    "\n",
    "parfile = Path(\"fake_100.par\")\n",
    "timfile = Path(\"fake_100.tim\")\n",
    "m, t = mb.get_model_and_toas(parfile, timfile)\n",
    "t.table[\"clusters\"] = t.get_clusters()\n",
    "masks, clusters = starting_points(toas = t)\n",
    "mask = masks[0]\n",
    "t, m = JUMP_adder_begginning_cluster(mask, t, m, \"start.tim\", \"start.par\")"
   ]
  },
  {
   "cell_type": "code",
   "execution_count": 75,
   "metadata": {},
   "outputs": [
    {
     "name": "stderr",
     "output_type": "stream",
     "text": [
      "2022-06-23 16:16:31.503 | DEBUG    | pint.models.absolute_phase:get_TZR_toa:97 - Creating and dealing with the single TZR_toa for absolute phase\n",
      "2022-06-23 16:16:31.507 | DEBUG    | pint.toa:__init__:1304 - No pulse number flags found in the TOAs\n",
      "2022-06-23 16:16:31.508 | DEBUG    | pint.toa:apply_clock_corrections:2085 - Applying clock corrections (include_gps = True, include_bipm = True)\n",
      "2022-06-23 16:16:31.510 | INFO     | pint.observatory.topo_obs:clock_corrections:258 - Applying observatory clock corrections.\n",
      "2022-06-23 16:16:31.511 | INFO     | pint.observatory.topo_obs:clock_corrections:263 - Applying GPS to UTC clock correction (~few nanoseconds)\n",
      "2022-06-23 16:16:31.512 | INFO     | pint.observatory.topo_obs:clock_corrections:268 - Applying TT(TAI) to TT(BIPM2021) clock correction (~27 us)\n",
      "2022-06-23 16:16:31.515 | DEBUG    | pint.toa:compute_TDBs:2148 - Computing TDB columns.\n",
      "2022-06-23 16:16:31.515 | DEBUG    | pint.toa:compute_TDBs:2173 - Using EPHEM = DE421 for TDB calculation.\n",
      "2022-06-23 16:16:31.519 | DEBUG    | pint.toa:compute_posvels:2267 - Computing PosVels of observatories and Earth, using DE421\n",
      "2022-06-23 16:16:31.522 | INFO     | pint.solar_system_ephemerides:_load_kernel_link:54 - Set solar system ephemeris to de421 from download\n",
      "2022-06-23 16:16:31.556 | DEBUG    | pint.toa:compute_posvels:2325 - SSB obs pos [-1.48252269e+11  1.48939730e+10  6.45764523e+09] m\n",
      "2022-06-23 16:16:31.560 | INFO     | pint.solar_system_ephemerides:_load_kernel_link:54 - Set solar system ephemeris to de421 from download\n",
      "2022-06-23 16:16:31.562 | DEBUG    | pint.toa:compute_posvels:2339 - Adding columns ssb_obs_pos ssb_obs_vel obs_sun_pos\n",
      "2022-06-23 16:16:31.563 | DEBUG    | pint.models.absolute_phase:get_TZR_toa:110 - Done with TZR_toa\n",
      "2022-06-23 16:16:31.950 | DEBUG    | pint.models.absolute_phase:get_TZR_toa:97 - Creating and dealing with the single TZR_toa for absolute phase\n",
      "2022-06-23 16:16:31.955 | DEBUG    | pint.toa:__init__:1304 - No pulse number flags found in the TOAs\n",
      "2022-06-23 16:16:31.956 | DEBUG    | pint.toa:apply_clock_corrections:2085 - Applying clock corrections (include_gps = True, include_bipm = True)\n",
      "2022-06-23 16:16:31.957 | INFO     | pint.observatory.topo_obs:clock_corrections:258 - Applying observatory clock corrections.\n",
      "2022-06-23 16:16:31.960 | INFO     | pint.observatory.topo_obs:clock_corrections:263 - Applying GPS to UTC clock correction (~few nanoseconds)\n",
      "2022-06-23 16:16:31.961 | INFO     | pint.observatory.topo_obs:clock_corrections:268 - Applying TT(TAI) to TT(BIPM2021) clock correction (~27 us)\n",
      "2022-06-23 16:16:31.963 | DEBUG    | pint.toa:compute_TDBs:2148 - Computing TDB columns.\n",
      "2022-06-23 16:16:31.964 | DEBUG    | pint.toa:compute_TDBs:2173 - Using EPHEM = DE421 for TDB calculation.\n",
      "2022-06-23 16:16:31.967 | DEBUG    | pint.toa:compute_posvels:2267 - Computing PosVels of observatories and Earth, using DE421\n",
      "2022-06-23 16:16:31.971 | INFO     | pint.solar_system_ephemerides:_load_kernel_link:54 - Set solar system ephemeris to de421 from download\n",
      "2022-06-23 16:16:32.010 | DEBUG    | pint.toa:compute_posvels:2325 - SSB obs pos [-1.48252269e+11  1.48939730e+10  6.45764523e+09] m\n",
      "2022-06-23 16:16:32.014 | INFO     | pint.solar_system_ephemerides:_load_kernel_link:54 - Set solar system ephemeris to de421 from download\n",
      "2022-06-23 16:16:32.037 | DEBUG    | pint.toa:compute_posvels:2339 - Adding columns ssb_obs_pos ssb_obs_vel obs_sun_pos\n"
     ]
    },
    {
     "name": "stdout",
     "output_type": "stream",
     "text": [
      "(array([[ 4.07266445e-01, -2.15776633e+02, -0.00000000e+00, ...,\n",
      "        -0.00000000e+00, -0.00000000e+00, -0.00000000e+00],\n",
      "       [ 4.07266445e-01, -4.17804368e+02, -0.00000000e+00, ...,\n",
      "        -0.00000000e+00, -0.00000000e+00, -0.00000000e+00],\n",
      "       [ 4.07266445e-01, -6.19666176e+02, -0.00000000e+00, ...,\n",
      "        -0.00000000e+00, -0.00000000e+00, -0.00000000e+00],\n",
      "       ...,\n",
      "       [ 4.07266445e-01, -2.20250723e+07, -0.00000000e+00, ...,\n",
      "        -0.00000000e+00, -0.00000000e+00, -1.00000000e+00],\n",
      "       [ 4.07266445e-01, -2.20252741e+07, -0.00000000e+00, ...,\n",
      "        -0.00000000e+00, -0.00000000e+00, -1.00000000e+00],\n",
      "       [ 4.07266445e-01, -2.20254762e+07, -0.00000000e+00, ...,\n",
      "        -0.00000000e+00, -0.00000000e+00, -1.00000000e+00]]), ['Offset', 'F0', 'JUMP1', 'JUMP2', 'JUMP3', 'JUMP4', 'JUMP5', 'JUMP6', 'JUMP7', 'JUMP8', 'JUMP9', 'JUMP10', 'JUMP11', 'JUMP12', 'JUMP13', 'JUMP14', 'JUMP15', 'JUMP16', 'JUMP17', 'JUMP18', 'JUMP19', 'JUMP20', 'JUMP21', 'JUMP22', 'JUMP23', 'JUMP24', 'JUMP25', 'JUMP26', 'JUMP27', 'JUMP28', 'JUMP29', 'JUMP30'], [Unit(dimensionless), Unit(\"1 / Hz2\"), Unit(\"1 / (Hz s)\"), Unit(\"1 / (Hz s)\"), Unit(\"1 / (Hz s)\"), Unit(\"1 / (Hz s)\"), Unit(\"1 / (Hz s)\"), Unit(\"1 / (Hz s)\"), Unit(\"1 / (Hz s)\"), Unit(\"1 / (Hz s)\"), Unit(\"1 / (Hz s)\"), Unit(\"1 / (Hz s)\"), Unit(\"1 / (Hz s)\"), Unit(\"1 / (Hz s)\"), Unit(\"1 / (Hz s)\"), Unit(\"1 / (Hz s)\"), Unit(\"1 / (Hz s)\"), Unit(\"1 / (Hz s)\"), Unit(\"1 / (Hz s)\"), Unit(\"1 / (Hz s)\"), Unit(\"1 / (Hz s)\"), Unit(\"1 / (Hz s)\"), Unit(\"1 / (Hz s)\"), Unit(\"1 / (Hz s)\"), Unit(\"1 / (Hz s)\"), Unit(\"1 / (Hz s)\"), Unit(\"1 / (Hz s)\"), Unit(\"1 / (Hz s)\"), Unit(\"1 / (Hz s)\"), Unit(\"1 / (Hz s)\"), Unit(\"1 / (Hz s)\"), Unit(\"1 / (Hz s)\")])\n"
     ]
    },
    {
     "name": "stderr",
     "output_type": "stream",
     "text": [
      "2022-06-23 16:16:32.038 | DEBUG    | pint.models.absolute_phase:get_TZR_toa:110 - Done with TZR_toa\n"
     ]
    },
    {
     "name": "stdout",
     "output_type": "stream",
     "text": [
      "####################################################################################################\n",
      "(array([[ 4.07263201e-01, -2.15774914e+02, -0.00000000e+00, ...,\n",
      "        -0.00000000e+00, -0.00000000e+00, -0.00000000e+00],\n",
      "       [ 4.07263201e-01, -4.17801040e+02, -0.00000000e+00, ...,\n",
      "        -0.00000000e+00, -0.00000000e+00, -0.00000000e+00],\n",
      "       [ 4.07263201e-01, -6.19661240e+02, -0.00000000e+00, ...,\n",
      "        -0.00000000e+00, -0.00000000e+00, -0.00000000e+00],\n",
      "       ...,\n",
      "       [ 4.07263201e-01, -2.20248968e+07, -0.00000000e+00, ...,\n",
      "        -0.00000000e+00, -0.00000000e+00, -1.00000000e+00],\n",
      "       [ 4.07263201e-01, -2.20250987e+07, -0.00000000e+00, ...,\n",
      "        -0.00000000e+00, -0.00000000e+00, -1.00000000e+00],\n",
      "       [ 4.07263201e-01, -2.20253007e+07, -0.00000000e+00, ...,\n",
      "        -0.00000000e+00, -0.00000000e+00, -1.00000000e+00]]), ['Offset', 'F0', 'JUMP1', 'JUMP2', 'JUMP3', 'JUMP4', 'JUMP5', 'JUMP6', 'JUMP7', 'JUMP8', 'JUMP9', 'JUMP10', 'JUMP11', 'JUMP12', 'JUMP13', 'JUMP14', 'JUMP15', 'JUMP16', 'JUMP17', 'JUMP18', 'JUMP19', 'JUMP20', 'JUMP21', 'JUMP22', 'JUMP23', 'JUMP24', 'JUMP25', 'JUMP26', 'JUMP27', 'JUMP28', 'JUMP29', 'JUMP30'], [Unit(dimensionless), Unit(\"1 / Hz2\"), Unit(\"1 / (Hz s)\"), Unit(\"1 / (Hz s)\"), Unit(\"1 / (Hz s)\"), Unit(\"1 / (Hz s)\"), Unit(\"1 / (Hz s)\"), Unit(\"1 / (Hz s)\"), Unit(\"1 / (Hz s)\"), Unit(\"1 / (Hz s)\"), Unit(\"1 / (Hz s)\"), Unit(\"1 / (Hz s)\"), Unit(\"1 / (Hz s)\"), Unit(\"1 / (Hz s)\"), Unit(\"1 / (Hz s)\"), Unit(\"1 / (Hz s)\"), Unit(\"1 / (Hz s)\"), Unit(\"1 / (Hz s)\"), Unit(\"1 / (Hz s)\"), Unit(\"1 / (Hz s)\"), Unit(\"1 / (Hz s)\"), Unit(\"1 / (Hz s)\"), Unit(\"1 / (Hz s)\"), Unit(\"1 / (Hz s)\"), Unit(\"1 / (Hz s)\"), Unit(\"1 / (Hz s)\"), Unit(\"1 / (Hz s)\"), Unit(\"1 / (Hz s)\"), Unit(\"1 / (Hz s)\"), Unit(\"1 / (Hz s)\"), Unit(\"1 / (Hz s)\"), Unit(\"1 / (Hz s)\")])\n"
     ]
    }
   ],
   "source": [
    "# Now to test out the design matrix\n",
    "f = pint.fitter.WLSFitter(t, m)\n",
    "m1 = deepcopy(m)\n",
    "t1 = deepcopy(t)\n",
    "\n",
    "f1 = pint.fitter.WLSFitter(t1, m1)\n",
    "# f = pint.fitter.WLSFitter(t, m)\n",
    "# f.get_designmatrix()\n",
    "\n",
    "#print(f1.model.as_parfile())\n",
    "#print(pint.residuals.Residuals(t, f1.model).chi2_reduced)\n",
    "print(f1.get_designmatrix())\n",
    "f1.fit_toas()\n",
    "print(\"#\"*100)\n",
    "print(f1.get_designmatrix())\n",
    "#print(pint.residuals.Residuals(t, f1.model).chi2_reduced)\n",
    "#print(f1.model.as_parfile())\n"
   ]
  },
  {
   "cell_type": "code",
   "execution_count": 79,
   "metadata": {},
   "outputs": [
    {
     "name": "stdout",
     "output_type": "stream",
     "text": [
      "149\n",
      "32\n",
      "[   0.4072632 -215.7749143   -0.          -0.          -0.\n",
      "   -0.          -0.          -0.          -0.          -0.\n",
      "   -0.          -0.          -0.          -0.          -0.\n",
      "   -0.          -0.          -0.          -0.          -0.\n",
      "   -0.          -0.          -0.          -0.          -0.\n",
      "   -0.          -0.          -0.          -0.          -0.\n",
      "   -0.          -0.       ]\n",
      "[   0.40726644 -215.77663308   -0.           -0.           -0.\n",
      "   -0.           -0.           -0.           -0.           -0.\n",
      "   -0.           -0.           -0.           -0.           -0.\n",
      "   -0.           -0.           -0.           -0.           -0.\n",
      "   -0.           -0.           -0.           -0.           -0.\n",
      "   -0.           -0.           -0.           -0.           -0.\n",
      "   -0.           -0.        ]\n",
      "['Offset', 'F0', 'JUMP1', 'JUMP2', 'JUMP3', 'JUMP4', 'JUMP5', 'JUMP6', 'JUMP7', 'JUMP8', 'JUMP9', 'JUMP10', 'JUMP11', 'JUMP12', 'JUMP13', 'JUMP14', 'JUMP15', 'JUMP16', 'JUMP17', 'JUMP18', 'JUMP19', 'JUMP20', 'JUMP21', 'JUMP22', 'JUMP23', 'JUMP24', 'JUMP25', 'JUMP26', 'JUMP27', 'JUMP28', 'JUMP29', 'JUMP30']\n"
     ]
    }
   ],
   "source": [
    "print(len(f1.get_designmatrix()[0]))\n",
    "print(len(f1.get_designmatrix()[0][0]))\n",
    "print(f1.get_designmatrix()[0][0])\n",
    "print(f.get_designmatrix()[0][0])\n",
    "print(f.get_designmatrix()[1])"
   ]
  },
  {
   "cell_type": "code",
   "execution_count": 67,
   "metadata": {},
   "outputs": [
    {
     "name": "stderr",
     "output_type": "stream",
     "text": [
      "2022-06-24 14:29:31.391 | DEBUG    | pint.toa:__init__:1304 - No pulse number flags found in the TOAs\n",
      "2022-06-24 14:29:31.393 | DEBUG    | pint.toa:apply_clock_corrections:2085 - Applying clock corrections (include_gps = True, include_bipm = True)\n",
      "2022-06-24 14:29:31.408 | INFO     | pint.observatory.topo_obs:clock_corrections:258 - Applying observatory clock corrections.\n",
      "2022-06-24 14:29:31.410 | INFO     | pint.observatory.topo_obs:clock_corrections:263 - Applying GPS to UTC clock correction (~few nanoseconds)\n",
      "2022-06-24 14:29:31.412 | INFO     | pint.observatory.topo_obs:clock_corrections:268 - Applying TT(TAI) to TT(BIPM2021) clock correction (~27 us)\n",
      "2022-06-24 14:29:31.493 | DEBUG    | pint.toa:compute_TDBs:2148 - Computing TDB columns.\n",
      "2022-06-24 14:29:31.494 | WARNING  | pint.toa:compute_TDBs:2160 - No ephemeris provided to TOAs object or compute_TDBs. Using DE421\n",
      "2022-06-24 14:29:31.495 | DEBUG    | pint.toa:compute_TDBs:2173 - Using EPHEM = DE421 for TDB calculation.\n",
      "2022-06-24 14:29:31.533 | DEBUG    | pint.toa:compute_posvels:2267 - Computing PosVels of observatories and Earth, using DE421\n",
      "2022-06-24 14:29:31.544 | INFO     | pint.solar_system_ephemerides:_load_kernel_link:54 - Set solar system ephemeris to de421 from download\n",
      "2022-06-24 14:29:31.601 | DEBUG    | pint.toa:compute_posvels:2325 - SSB obs pos [-1.48252269e+11  1.48939728e+10  6.45764512e+09] m\n",
      "2022-06-24 14:29:31.604 | INFO     | pint.solar_system_ephemerides:_load_kernel_link:54 - Set solar system ephemeris to de421 from download\n",
      "2022-06-24 14:29:31.606 | DEBUG    | pint.toa:compute_posvels:2339 - Adding columns ssb_obs_pos ssb_obs_vel obs_sun_pos\n",
      "2022-06-24 14:29:31.634 | DEBUG    | pint.models.absolute_phase:get_TZR_toa:97 - Creating and dealing with the single TZR_toa for absolute phase\n",
      "2022-06-24 14:29:31.638 | DEBUG    | pint.toa:__init__:1304 - No pulse number flags found in the TOAs\n",
      "2022-06-24 14:29:31.639 | DEBUG    | pint.toa:apply_clock_corrections:2085 - Applying clock corrections (include_gps = True, include_bipm = True)\n",
      "2022-06-24 14:29:31.640 | INFO     | pint.observatory.topo_obs:clock_corrections:258 - Applying observatory clock corrections.\n",
      "2022-06-24 14:29:31.642 | INFO     | pint.observatory.topo_obs:clock_corrections:263 - Applying GPS to UTC clock correction (~few nanoseconds)\n",
      "2022-06-24 14:29:31.644 | INFO     | pint.observatory.topo_obs:clock_corrections:268 - Applying TT(TAI) to TT(BIPM2021) clock correction (~27 us)\n",
      "2022-06-24 14:29:31.646 | DEBUG    | pint.toa:compute_TDBs:2148 - Computing TDB columns.\n",
      "2022-06-24 14:29:31.647 | DEBUG    | pint.toa:compute_TDBs:2173 - Using EPHEM = DE421 for TDB calculation.\n",
      "2022-06-24 14:29:31.651 | DEBUG    | pint.toa:compute_posvels:2267 - Computing PosVels of observatories and Earth, using DE421\n",
      "2022-06-24 14:29:31.655 | INFO     | pint.solar_system_ephemerides:_load_kernel_link:54 - Set solar system ephemeris to de421 from download\n",
      "2022-06-24 14:29:31.664 | DEBUG    | pint.toa:compute_posvels:2325 - SSB obs pos [-1.48252269e+11  1.48939730e+10  6.45764523e+09] m\n",
      "2022-06-24 14:29:31.667 | INFO     | pint.solar_system_ephemerides:_load_kernel_link:54 - Set solar system ephemeris to de421 from download\n",
      "2022-06-24 14:29:31.669 | DEBUG    | pint.toa:compute_posvels:2339 - Adding columns ssb_obs_pos ssb_obs_vel obs_sun_pos\n",
      "2022-06-24 14:29:31.670 | DEBUG    | pint.models.absolute_phase:get_TZR_toa:110 - Done with TZR_toa\n"
     ]
    },
    {
     "data": {
      "text/plain": [
       "pint.toa.TOAs"
      ]
     },
     "execution_count": 67,
     "metadata": {},
     "output_type": "execute_result"
    }
   ],
   "source": [
    "os.chdir(Path(\"/users/jdtaylor/Jackson/APT/binary_test_data/binary4_100\"))\n",
    "\n",
    "parfile = \"fake_100edit.par\"\n",
    "timfile = \"fake_100.timJUMP\"\n",
    "m, t = pint.models.get_model_and_toas(parfile, timfile)\n",
    "\n",
    "x = t.get_mjds().value\n",
    "resid = pint.residuals.Residuals(t, m).calc_phase_resids()\n",
    "\n",
    "# fig, ax = plt.subplots(1,1,figsize=(15,10))\n",
    "# ax.plot(x, resid, \"o\")\n",
    "\n",
    "t.get_clusters() == 5\n",
    "type(t)"
   ]
  },
  {
   "cell_type": "code",
   "execution_count": 52,
   "metadata": {},
   "outputs": [],
   "source": [
    "import pint.models as pm\n",
    "if socket.gethostname()[0] == \"J\":\n",
    "    os.chdir(\"/Users/jackson/Desktop/Pint_Personal/APT/binary_test_data/binary4_100\")\n",
    "else:\n",
    "    os.chdir(\"/users/jdtaylor/Jackson/APT/binary_test_data/binary4_100\")\n",
    "m1, t1 = pm.get_model_and_toas(\"fake_100sol.par\", \"fake_100.tim\")\n",
    "# t1.compute_pulse_numbers(m1)\n",
    "# pn1 = t1.table[\"pulse_number\"]\n",
    "\n",
    "# m2, t2 = pm.get_model_and_toas(\"solved_100.par\", \"fake_100.tim\")\n",
    "# t2.compute_pulse_numbers(m2)\n",
    "# pn2 = t2.table[\"pulse_number\"]\n",
    "\n"
   ]
  },
  {
   "cell_type": "code",
   "execution_count": 76,
   "metadata": {},
   "outputs": [
    {
     "data": {
      "text/plain": [
       "array([1, 2, 3, 1, 2])"
      ]
     },
     "execution_count": 76,
     "metadata": {},
     "output_type": "execute_result"
    }
   ],
   "source": [
    "# t3 = deepcopy(t2)\n",
    "# dpn = pn2 - pn1\n",
    "# t3.table[\"delta_pulse_number\"] = dpn\n",
    "# pn3 = t3.table[\"pulse_number\"]\n",
    "x = np.array([1,2,3])\n",
    "y = np.array([1,2])\n",
    "np.concatenate((x,y))"
   ]
  },
  {
   "cell_type": "code",
   "execution_count": 58,
   "metadata": {},
   "outputs": [
    {
     "data": {
      "text/plain": [
       "[<matplotlib.lines.Line2D at 0x7f3c1ce30280>]"
      ]
     },
     "execution_count": 58,
     "metadata": {},
     "output_type": "execute_result"
    },
    {
     "data": {
      "image/png": "[encoded data removed]",
      "text/plain": [
       "<Figure size 432x288 with 1 Axes>"
      ]
     },
     "metadata": {
      "needs_background": "light"
     },
     "output_type": "display_data"
    }
   ],
   "source": [
    "y3 = pint.residuals.Residuals(t3, m1).calc_phase_resids()\n",
    "y1 = pint.residuals.Residuals(t1, m1).calc_phase_resids()\n",
    "x1 = t1.get_mjds().value\n",
    "x3 = t3.get_mjds().value\n",
    "\n",
    "plt.plot(x3, y3, 'o')\n",
    "plt.plot(x1, y1, 'o')"
   ]
  },
  {
   "cell_type": "code",
   "execution_count": 59,
   "metadata": {},
   "outputs": [
    {
     "data": {
      "text/html": [
       "&lt;Column name=&apos;pulse_number&apos; dtype=&apos;float128&apos; unit=&apos;&apos; length=51&gt;\n",
       "<table>\n",
       "<tr><td>0.0</td></tr>\n",
       "<tr><td>0.0</td></tr>\n",
       "<tr><td>0.0</td></tr>\n",
       "<tr><td>0.0</td></tr>\n",
       "<tr><td>0.0</td></tr>\n",
       "<tr><td>0.0</td></tr>\n",
       "<tr><td>0.0</td></tr>\n",
       "<tr><td>0.0</td></tr>\n",
       "<tr><td>0.0</td></tr>\n",
       "<tr><td>0.0</td></tr>\n",
       "<tr><td>0.0</td></tr>\n",
       "<tr><td>0.0</td></tr>\n",
       "<tr><td>...</td></tr>\n",
       "<tr><td>-1.0</td></tr>\n",
       "<tr><td>-1.0</td></tr>\n",
       "<tr><td>-1.0</td></tr>\n",
       "<tr><td>-1.0</td></tr>\n",
       "<tr><td>-2.0</td></tr>\n",
       "<tr><td>-2.0</td></tr>\n",
       "<tr><td>-2.0</td></tr>\n",
       "<tr><td>-2.0</td></tr>\n",
       "<tr><td>-2.0</td></tr>\n",
       "<tr><td>-2.0</td></tr>\n",
       "<tr><td>5.0</td></tr>\n",
       "<tr><td>19.0</td></tr>\n",
       "</table>"
      ],
      "text/plain": [
       "<Column name='pulse_number' dtype='float128' unit='' length=51>\n",
       " 0.0\n",
       " 0.0\n",
       " 0.0\n",
       " 0.0\n",
       " 0.0\n",
       " 0.0\n",
       " 0.0\n",
       " 0.0\n",
       " 0.0\n",
       " 0.0\n",
       " 0.0\n",
       " 0.0\n",
       " ...\n",
       "-1.0\n",
       "-1.0\n",
       "-1.0\n",
       "-1.0\n",
       "-2.0\n",
       "-2.0\n",
       "-2.0\n",
       "-2.0\n",
       "-2.0\n",
       "-2.0\n",
       " 5.0\n",
       "19.0"
      ]
     },
     "execution_count": 59,
     "metadata": {},
     "output_type": "execute_result"
    }
   ],
   "source": [
    "t3.table[\"pulse_number\"] - t1.table[\"pulse_number\"] "
   ]
  },
  {
   "cell_type": "code",
   "execution_count": 56,
   "metadata": {},
   "outputs": [
    {
     "data": {
      "text/plain": [
       "True"
      ]
     },
     "execution_count": 56,
     "metadata": {},
     "output_type": "execute_result"
    }
   ],
   "source": [
    "\"mjd\" in t1.table.columns"
   ]
  },
  {
   "cell_type": "code",
   "execution_count": null,
   "metadata": {},
   "outputs": [],
   "source": []
  },
  {
   "cell_type": "code",
   "execution_count": 8,
   "metadata": {},
   "outputs": [
    {
     "name": "stdout",
     "output_type": "stream",
     "text": [
      "[   9.68426057   10.37830253   11.42478626    9.95216014 -153.31018032]\n",
      "[ True  True  True  True False]\n",
      "0: 1\n",
      "1: 2\n",
      "2: 3\n",
      "3: 4\n",
      "flipped\n",
      "biggest is 4. location of biggest is 3\n",
      "[ 9.68426057 10.37830253 11.42478626  9.95216014]\n",
      "\n",
      "[]\n",
      "[-0.43294805]\n"
     ]
    }
   ],
   "source": [
    "#residuals = np.array([1,2,3,4,2])\n",
    "residuals = np.array([0.24963299, 0.30871647, 0.37203439, 0.44167943, 0.50239736, -0.43294805])\n",
    "mjds = np.array([56054.33430246, 56054.34040344, 56054.34650443, 56054.35260039,\n",
    "       56054.35870137, 56054.36480237])\n",
    "residualsdif_dif = np.concatenate(\n",
    "    (np.zeros(1), residuals)\n",
    ") - np.concatenate((residuals, np.zeros(1)))\n",
    "mjds_dif = np.concatenate((np.zeros(1), mjds)) - np.concatenate(\n",
    "    (mjds, np.zeros(1))\n",
    ")\n",
    "toa_slopes = (residualsdif_dif / mjds_dif)[1:-1]\n",
    "print(toa_slopes)\n",
    "print(toa_slopes > 0)\n",
    "# want to establish the correct slope direction as that with the longest\n",
    "# series of adjacent slopes\n",
    "biggest = 0\n",
    "location_of_biggest = -1\n",
    "biggest_is_pos = True\n",
    "was_pos = True\n",
    "count = 0\n",
    "for i, is_pos in enumerate(toa_slopes >= 0):\n",
    "    if is_pos and was_pos or (not is_pos and not was_pos):\n",
    "        count += 1\n",
    "        print(f\"{i}: {count}\")\n",
    "        was_pos = is_pos\n",
    "    elif is_pos or was_pos:\n",
    "        print(\"flipped\")\n",
    "        if count > biggest:\n",
    "            biggest = count\n",
    "            location_of_biggest = i - 1\n",
    "            biggest_is_pos = is_pos\n",
    "        count = 1\n",
    "        was_pos = is_pos\n",
    "    # do this check one last time in case the last point is part of the\n",
    "    # longest series of adjacent slopes\n",
    "    if count > biggest:\n",
    "            biggest = count\n",
    "            location_of_biggest = i # not i - 1 because that last point is like the (i + 1)th element\n",
    "                                    # flipping slopes\n",
    "            biggest_is_pos = is_pos\n",
    "\n",
    "print(f\"biggest is {biggest}. location of biggest is {location_of_biggest}\")\n",
    "print(toa_slopes[location_of_biggest-biggest+1:location_of_biggest+1])\n",
    "print()\n",
    "print(residuals[:location_of_biggest-biggest+1])\n",
    "print(residuals[location_of_biggest+2:])\n",
    "\n",
    "\n"
   ]
  },
  {
   "cell_type": "code",
   "execution_count": 2,
   "metadata": {},
   "outputs": [
    {
     "data": {
      "text/plain": [
       "1"
      ]
     },
     "execution_count": 2,
     "metadata": {},
     "output_type": "execute_result"
    }
   ],
   "source": [
    "import pint.logging\n",
    "pint.logging.setup(level = \"ERROR\")"
   ]
  },
  {
   "cell_type": "code",
   "execution_count": 2,
   "metadata": {},
   "outputs": [
    {
     "name": "stdout",
     "output_type": "stream",
     "text": [
      "cluster 9\n",
      "that took 0.002881623000007494 seconds\n"
     ]
    },
    {
     "data": {
      "text/plain": [
       "[<matplotlib.lines.Line2D at 0x7ff3e156afa0>]"
      ]
     },
     "execution_count": 2,
     "metadata": {},
     "output_type": "execute_result"
    },
    {
     "data": {
      "image/png": "[encoded data removed]",
      "text/plain": [
       "<Figure size 1080x1440 with 2 Axes>"
      ]
     },
     "metadata": {
      "needs_background": "light"
     },
     "output_type": "display_data"
    }
   ],
   "source": [
    "import pint.logging, socket, numpy as np, matplotlib.pyplot as plt, time\n",
    "from copy import deepcopy\n",
    "pint.logging.setup(level = \"ERROR\")\n",
    "\n",
    "import pint.models as pm\n",
    "from APT_binary import phase_connector\n",
    "data_path = \"binary6_1\"\n",
    "if socket.gethostname()[0] == \"J\":\n",
    "    os.chdir(f\"/Users/jackson/Desktop/Pint_Personal/APT/binary_test_data/{data_path}\")\n",
    "else:\n",
    "    os.chdir(f\"/users/jdtaylor/Jackson/APT/binary_test_data/{data_path}\")\n",
    "m, t = pm.get_model_and_toas(f\"fake_{data_path.split('_')[-1]}.par\", f\"fake_{data_path.split('_')[-1]}.tim\")\n",
    "if \"clusters\" not in t.table.columns:\n",
    "        t.table[\"clusters\"] = t.get_clusters()\n",
    "if \"pulse_number\" not in t.table.colnames:\n",
    "    t.compute_pulse_numbers(m)\n",
    "\n",
    "y = pint.residuals.Residuals(t, m).calc_phase_resids()\n",
    "#y1 = pint.residuals.Residuals(t1, m1).calc_phase_resids()\n",
    "x = t.get_mjds().value\n",
    "\n",
    "# cluster= 0\n",
    "# cluster_mask1 = t.table[\"clusters\"] == 0\n",
    "# cluster_mask2 = t.table[\"clusters\"] == 1\n",
    "# cluster_mask = np.zeros(len(t.table), dtype=bool)\n",
    "cluster_mask = t.table[\"clusters\"] == 9\n",
    "# for i in range(len(cluster_mask1)):\n",
    "#     if cluster_mask1[i] or cluster_mask2[i]:\n",
    "#         cluster_mask[i] = True\n",
    "#t_copy = deepcopy(t)\n",
    "#t.select(cluster_mask)\n",
    "t1 = time.monotonic()\n",
    "phase_connector(t, m, \"linear\", cluster = 9, wraps = True, mjds_total=x, residuals_total=y)\n",
    "t2 = time.monotonic()\n",
    "print(f\"that took {t2 - t1} seconds\")\n",
    "\n",
    "# t1 = time.monotonic()\n",
    "# phase_connector(t, m, \"linear\", cluster = \"all\", wraps = True)\n",
    "# t2 = time.monotonic()\n",
    "# print(f\"that took {t2 - t1} seconds\")\n",
    "# x1 = x[cluster_mask]\n",
    "# y1 = y[cluster_mask]\n",
    "#t.table[\"delta_pulse_number\"][-1] = 0\n",
    "#t_copy.table[cluster_mask] = t.table\n",
    "x1 = t.get_mjds().value\n",
    "x1 = x1[cluster_mask]\n",
    "y1 = pint.residuals.Residuals(t, m).calc_phase_resids()\n",
    "y1 = y1[cluster_mask]\n",
    "\n",
    "fig, ax = plt.subplots(2, figsize = (15,20))\n",
    "ax[0].plot(x, y, 'o')\n",
    "ax[1].plot(x1, y1, 'o')\n",
    "\n",
    "\n",
    "# t.compute_pulse_numbers(m)\n",
    "# t.write_TOA_file(\"zzz.tim\")"
   ]
  },
  {
   "cell_type": "code",
   "execution_count": 7,
   "metadata": {},
   "outputs": [
    {
     "ename": "NameError",
     "evalue": "name 't_copy' is not defined",
     "output_type": "error",
     "traceback": [
      "\u001b[0;31m---------------------------------------------------------------------------\u001b[0m",
      "\u001b[0;31mNameError\u001b[0m                                 Traceback (most recent call last)",
      "\u001b[1;32m/Users/jackson/Desktop/Pint_Personal/APT/APT_tests.ipynb Cell 23'\u001b[0m in \u001b[0;36m<cell line: 1>\u001b[0;34m()\u001b[0m\n\u001b[0;32m----> <a href='vscode-notebook-cell:/Users/jackson/Desktop/Pint_Personal/APT/APT_tests.ipynb#ch0000022?line=0'>1</a>\u001b[0m mask \u001b[39m=\u001b[39m np\u001b[39m.\u001b[39mzeros(\u001b[39mlen\u001b[39m(t_copy), dtype\u001b[39m=\u001b[39m\u001b[39mbool\u001b[39m)\n\u001b[1;32m      <a href='vscode-notebook-cell:/Users/jackson/Desktop/Pint_Personal/APT/APT_tests.ipynb#ch0000022?line=1'>2</a>\u001b[0m mask[\u001b[39m0\u001b[39m:\u001b[39m2\u001b[39m] \u001b[39m=\u001b[39m \u001b[39mTrue\u001b[39;00m\n\u001b[1;32m      <a href='vscode-notebook-cell:/Users/jackson/Desktop/Pint_Personal/APT/APT_tests.ipynb#ch0000022?line=2'>3</a>\u001b[0m t_copy\u001b[39m.\u001b[39mtable\n",
      "\u001b[0;31mNameError\u001b[0m: name 't_copy' is not defined"
     ]
    }
   ],
   "source": [
    "mask = np.zeros(len(t_copy), dtype=bool)\n",
    "mask[0:2] = True\n",
    "t_copy.table\n",
    "t=deepcopy(t_copy)\n",
    "t.select(mask)\n",
    "t.table[\"delta_pulse_number\"][0:2] = 1\n",
    "t_copy.table[mask] = t.table\n"
   ]
  },
  {
   "cell_type": "code",
   "execution_count": 27,
   "metadata": {},
   "outputs": [
    {
     "name": "stdout",
     "output_type": "stream",
     "text": [
      "82045.0\n",
      "-1.0\n",
      "\n",
      "82044.0\n",
      "-1.0\n",
      "\n",
      "82043.0\n",
      "-2.0\n"
     ]
    }
   ],
   "source": [
    "print(t.table[6][\"pulse_number\"])\n",
    "print(t.table[6][\"delta_pulse_number\"])\n",
    "print()\n",
    "\n",
    "t.compute_pulse_numbers(m)\n",
    "print(t.table[6][\"pulse_number\"])\n",
    "print(t.table[6][\"delta_pulse_number\"])\n",
    "print()\n",
    "\n",
    "t.table[6][\"delta_pulse_number\"] = -2\n",
    "resid = pint.residuals.Residuals(t, m).calc_phase_resids()\n",
    "t.compute_pulse_numbers(m)\n",
    "print(t.table[6][\"pulse_number\"])\n",
    "print(t.table[6][\"delta_pulse_number\"])"
   ]
  },
  {
   "cell_type": "code",
   "execution_count": 1,
   "metadata": {},
   "outputs": [
    {
     "ename": "NameError",
     "evalue": "name 'y1' is not defined",
     "output_type": "error",
     "traceback": [
      "\u001b[0;31m---------------------------------------------------------------------------\u001b[0m",
      "\u001b[0;31mNameError\u001b[0m                                 Traceback (most recent call last)",
      "\u001b[1;32m/Users/jackson/Desktop/Pint_Personal/APT/APT_tests.ipynb Cell 1'\u001b[0m in \u001b[0;36m<cell line: 1>\u001b[0;34m()\u001b[0m\n\u001b[0;32m----> <a href='vscode-notebook-cell:/Users/jackson/Desktop/Pint_Personal/APT/APT_tests.ipynb#ch0000000?line=0'>1</a>\u001b[0m y1\n",
      "\u001b[0;31mNameError\u001b[0m: name 'y1' is not defined"
     ]
    }
   ],
   "source": [
    "y1\n"
   ]
  },
  {
   "cell_type": "code",
   "execution_count": 5,
   "metadata": {},
   "outputs": [
    {
     "data": {
      "text/plain": [
       "[<matplotlib.lines.Line2D at 0x7f874ca54430>]"
      ]
     },
     "execution_count": 5,
     "metadata": {},
     "output_type": "execute_result"
    },
    {
     "data": {
      "image/png": "[encoded data removed]",
      "text/plain": [
       "<Figure size 432x288 with 1 Axes>"
      ]
     },
     "metadata": {
      "needs_background": "light"
     },
     "output_type": "display_data"
    }
   ],
   "source": [
    "import numpy as np, matplotlib.pyplot as plt\n",
    "x = np.array([1,2,4,5,-4,-5,5,4])\n",
    "x1 = np.unwrap(x, period = 10)\n",
    "plt.plot(np.arange(len(x)), x, \"o\")\n",
    "plt.plot(np.arange(len(x1)), x1, \"o\")"
   ]
  },
  {
   "cell_type": "code",
   "execution_count": 10,
   "metadata": {},
   "outputs": [
    {
     "data": {
      "text/plain": [
       "[<matplotlib.lines.Line2D at 0x7fe681e3bf70>]"
      ]
     },
     "execution_count": 10,
     "metadata": {},
     "output_type": "execute_result"
    },
    {
     "data": {
      "image/png": "[encoded data removed]",
      "text/plain": [
       "<Figure size 432x288 with 1 Axes>"
      ]
     },
     "metadata": {
      "needs_background": "light"
     },
     "output_type": "display_data"
    }
   ],
   "source": [
    "residuals = np.array([0.24963299, 0.30871647, 0.37203439, 0.44167943, 0.50239736, -0.43294805])\n",
    "mjds = np.array([56054.33430246, 56054.34040344, 56054.34650443, 56054.35260039,\n",
    "       56054.35870137, 56054.36480237])\n",
    "\n",
    "residuals_unwrapped = np.unwrap(residuals, period = 1)\n",
    "plt.plot(mjds, residuals, \"o\")\n",
    "plt.plot(mjds, residuals_unwrapped, 'o')"
   ]
  },
  {
   "cell_type": "code",
   "execution_count": 16,
   "metadata": {},
   "outputs": [
    {
     "data": {
      "text/plain": [
       "[<matplotlib.lines.Line2D at 0x7fe69dca20d0>]"
      ]
     },
     "execution_count": 16,
     "metadata": {},
     "output_type": "execute_result"
    },
    {
     "data": {
      "image/png": "[encoded data removed]",
      "text/plain": [
       "<Figure size 1080x1440 with 2 Axes>"
      ]
     },
     "metadata": {
      "needs_background": "light"
     },
     "output_type": "display_data"
    }
   ],
   "source": [
    "import pint.logging, socket, numpy as np, matplotlib.pyplot as plt, time\n",
    "from copy import deepcopy\n",
    "pint.logging.setup(level = \"ERROR\")\n",
    "\n",
    "import pint.models as pm\n",
    "from APT_binary import phase_connector\n",
    "data_path = \"binary4_100\"\n",
    "if socket.gethostname()[0] == \"J\":\n",
    "    os.chdir(f\"/Users/jackson/Desktop/Pint_Personal/APT/binary_test_data/{data_path}\")\n",
    "else:\n",
    "    os.chdir(f\"/users/jdtaylor/Jackson/APT/binary_test_data/{data_path}\")\n",
    "m, t = pm.get_model_and_toas(f\"fake_{data_path.split('_')[-1]}.par\", f\"fake_{data_path.split('_')[-1]}.tim\")\n",
    "if \"clusters\" not in t.table.columns:\n",
    "        t.table[\"clusters\"] = t.get_clusters()\n",
    "if \"pulse_number\" not in t.table.colnames:\n",
    "    t.compute_pulse_numbers(m)\n",
    "\n",
    "y = pint.residuals.Residuals(t, m).calc_phase_resids()\n",
    "x = t.get_mjds()\n",
    "y = np.array(y)\n",
    "fig, ax = plt.subplots(2, figsize = (15,20))\n",
    "y_unwrapped = np.unwrap(y, period = 1)\n",
    "ax[0].plot(x, y, 'o')\n",
    "ax[1].plot(x, y_unwrapped, 'o')"
   ]
  },
  {
   "cell_type": "code",
   "execution_count": 20,
   "metadata": {},
   "outputs": [
    {
     "data": {
      "text/plain": [
       "[<matplotlib.lines.Line2D at 0x7fe6828e9ee0>]"
      ]
     },
     "execution_count": 20,
     "metadata": {},
     "output_type": "execute_result"
    },
    {
     "data": {
      "image/png": "[encoded data removed]",
      "text/plain": [
       "<Figure size 1080x1440 with 2 Axes>"
      ]
     },
     "metadata": {
      "needs_background": "light"
     },
     "output_type": "display_data"
    }
   ],
   "source": [
    "dpn = y_unwrapped - pint.residuals.Residuals(t, m).calc_phase_resids()\n",
    "t.table[\"delta_pulse_number\"] = dpn\n",
    "y3 = pint.residuals.Residuals(t, m).calc_phase_resids()\n",
    "\n",
    "fig, ax = plt.subplots(2, figsize = (15,20))\n",
    "ax[0].plot(x, y, 'o')\n",
    "ax[1].plot(x, y3, 'o')\n"
   ]
  },
  {
   "cell_type": "code",
   "execution_count": 9,
   "metadata": {},
   "outputs": [
    {
     "data": {
      "text/plain": [
       "floatParameter( A1                  0.030438545804327873 (ls) +/- 0.1 ls frozen=True)"
      ]
     },
     "execution_count": 9,
     "metadata": {},
     "output_type": "execute_result"
    }
   ],
   "source": [
    "getattr(m, \"A1\")"
   ]
  },
  {
   "cell_type": "code",
   "execution_count": 36,
   "metadata": {},
   "outputs": [
    {
     "ename": "ValueError",
     "evalue": "Invalid format specifier",
     "output_type": "error",
     "traceback": [
      "\u001b[0;31m---------------------------------------------------------------------------\u001b[0m",
      "\u001b[0;31mValueError\u001b[0m                                Traceback (most recent call last)",
      "\u001b[1;32m/Users/jackson/Desktop/Pint_Personal/APT/APT_tests.ipynb Cell 7'\u001b[0m in \u001b[0;36m<cell line: 12>\u001b[0;34m()\u001b[0m\n\u001b[1;32m     <a href='vscode-notebook-cell:/Users/jackson/Desktop/Pint_Personal/APT/APT_tests.ipynb#ch0000006?line=9'>10</a>\u001b[0m clusters \u001b[39m=\u001b[39m t\u001b[39m.\u001b[39mget_clusters()\n\u001b[1;32m     <a href='vscode-notebook-cell:/Users/jackson/Desktop/Pint_Personal/APT/APT_tests.ipynb#ch0000006?line=10'>11</a>\u001b[0m j \u001b[39m=\u001b[39m \u001b[39m0\u001b[39m\n\u001b[0;32m---> <a href='vscode-notebook-cell:/Users/jackson/Desktop/Pint_Personal/APT/APT_tests.ipynb#ch0000006?line=11'>12</a>\u001b[0m test \u001b[39m=\u001b[39m [\u001b[39mf\u001b[39m\u001b[39m\"\u001b[39m\u001b[39mJUMP\u001b[39m\u001b[39m{\u001b[39;00mj\u001b[39m:\u001b[39;00m\u001b[39m=j+1\u001b[39m\u001b[39m}\u001b[39;00m\u001b[39m\"\u001b[39m \u001b[39mif\u001b[39;00m i \u001b[39m!=\u001b[39m \u001b[39m22\u001b[39m\u001b[39m+\u001b[39m\u001b[39m1\u001b[39m \u001b[39melse\u001b[39;00m \u001b[39m\"\u001b[39m\u001b[39m\"\u001b[39m \u001b[39mfor\u001b[39;00m i \u001b[39min\u001b[39;00m \u001b[39mrange\u001b[39m(\u001b[39m1\u001b[39m, clusters[\u001b[39m-\u001b[39m\u001b[39m1\u001b[39m]\u001b[39m+\u001b[39m\u001b[39m2\u001b[39m)]\n\u001b[1;32m     <a href='vscode-notebook-cell:/Users/jackson/Desktop/Pint_Personal/APT/APT_tests.ipynb#ch0000006?line=12'>13</a>\u001b[0m \u001b[39m#m.components\u001b[39;00m\n\u001b[1;32m     <a href='vscode-notebook-cell:/Users/jackson/Desktop/Pint_Personal/APT/APT_tests.ipynb#ch0000006?line=13'>14</a>\u001b[0m test[\u001b[39m22\u001b[39m]\n",
      "\u001b[1;32m/Users/jackson/Desktop/Pint_Personal/APT/APT_tests.ipynb Cell 7'\u001b[0m in \u001b[0;36m<listcomp>\u001b[0;34m(.0)\u001b[0m\n\u001b[1;32m     <a href='vscode-notebook-cell:/Users/jackson/Desktop/Pint_Personal/APT/APT_tests.ipynb#ch0000006?line=9'>10</a>\u001b[0m clusters \u001b[39m=\u001b[39m t\u001b[39m.\u001b[39mget_clusters()\n\u001b[1;32m     <a href='vscode-notebook-cell:/Users/jackson/Desktop/Pint_Personal/APT/APT_tests.ipynb#ch0000006?line=10'>11</a>\u001b[0m j \u001b[39m=\u001b[39m \u001b[39m0\u001b[39m\n\u001b[0;32m---> <a href='vscode-notebook-cell:/Users/jackson/Desktop/Pint_Personal/APT/APT_tests.ipynb#ch0000006?line=11'>12</a>\u001b[0m test \u001b[39m=\u001b[39m [\u001b[39mf\u001b[39m\u001b[39m\"\u001b[39m\u001b[39mJUMP\u001b[39m\u001b[39m{\u001b[39;00mj\u001b[39m:\u001b[39;00m\u001b[39m=j+1\u001b[39m\u001b[39m}\u001b[39;00m\u001b[39m\"\u001b[39m \u001b[39mif\u001b[39;00m i \u001b[39m!=\u001b[39m \u001b[39m22\u001b[39m\u001b[39m+\u001b[39m\u001b[39m1\u001b[39m \u001b[39melse\u001b[39;00m \u001b[39m\"\u001b[39m\u001b[39m\"\u001b[39m \u001b[39mfor\u001b[39;00m i \u001b[39min\u001b[39;00m \u001b[39mrange\u001b[39m(\u001b[39m1\u001b[39m, clusters[\u001b[39m-\u001b[39m\u001b[39m1\u001b[39m]\u001b[39m+\u001b[39m\u001b[39m2\u001b[39m)]\n\u001b[1;32m     <a href='vscode-notebook-cell:/Users/jackson/Desktop/Pint_Personal/APT/APT_tests.ipynb#ch0000006?line=12'>13</a>\u001b[0m \u001b[39m#m.components\u001b[39;00m\n\u001b[1;32m     <a href='vscode-notebook-cell:/Users/jackson/Desktop/Pint_Personal/APT/APT_tests.ipynb#ch0000006?line=13'>14</a>\u001b[0m test[\u001b[39m22\u001b[39m]\n",
      "\u001b[0;31mValueError\u001b[0m: Invalid format specifier"
     ]
    }
   ],
   "source": [
    "import pint.models.model_builder as mb, matplotlib.pyplot as plt, numpy as np\n",
    "import pint\n",
    "from pathlib import Path\n",
    "pint.logging.setup(level = \"ERROR\")\n",
    "os.chdir(Path(\"/Users/jackson/Desktop/Pint_Personal/APT/binary_test_data/binary6_1\"))\n",
    "m = mb.get_model(\"fake_1.par\")\n",
    "t = pint.toa.get_TOAs(\"fake_1.tim\")\n",
    "# getattr(m, \"jump_tim 20\")\n",
    "# print(m.as_parfile())\n",
    "clusters = t.get_clusters()\n",
    "j = 0\n",
    "test = [f\"JUMP{j:=j+1}\" if i != 22+1 else \"\" for i in range(1, clusters[-1]+2)]\n",
    "#m.components\n",
    "test[22]\n",
    "\n",
    "from APT_binary import phase_connector\n",
    "t.compute_pulse_numbers(m)\n",
    "t.table[\"clusters\"] = t.get_clusters()\n",
    "residuals = pint.residuals.Residuals(t, m).calc_phase_resids()\n",
    "mjds_total=t.get_mjds().value\n",
    "\n",
    "fig, ax = plt.subplots(2,1, figsize = (10,15))\n",
    "\n",
    "ax[0].plot(mjds_total, residuals, 'o')\n",
    "\n",
    "mask_with_closest = np.logical_or(t.table[\"clusters\"] == 23, t.table[\"clusters\"] == 22)\n",
    "\n",
    "phase_connector(t, m, \"np.unwrap\", clusters=\"all\", mjds_total=mjds_total, residuals = residuals, mask_with_closest = mask_with_closest)\n",
    "\n",
    "residuals = pint.residuals.Residuals(t, m).calc_phase_resids()\n",
    "ax[1].plot(mjds_total, residuals, 'o')"
   ]
  },
  {
   "cell_type": "code",
   "execution_count": 82,
   "metadata": {},
   "outputs": [
    {
     "data": {
      "text/plain": [
       "maskParameter(JUMP2 -jump_tim 2 0.0 +/- 0.0 s (s))"
      ]
     },
     "execution_count": 82,
     "metadata": {},
     "output_type": "execute_result"
    }
   ],
   "source": [
    "# j = 0\n",
    "# #print(j:=j+1)\n",
    "# test = [f\"JUMP{(j:=j+1)}\" if i != 22 else \"\" for i in range(clusters[-1]+1)]\n",
    "# print(test)\n",
    "# for i,j in enumerate(test):\n",
    "#     print(i, j)\n",
    "m = mb.get_model(\"./alg_saves/fake_1/mask1_cluster0/fake_1_1.par\")\n",
    "getattr(m, \"JUMP2\").value = 0\n",
    "getattr(m, \"JUMP2\").frozen = True\n",
    "getattr(m, \"JUMP2\").uncertainty = 0\n",
    "getattr(m, \"JUMP2\")"
   ]
  },
  {
   "cell_type": "code",
   "execution_count": 83,
   "metadata": {},
   "outputs": [],
   "source": [
    "for i in range(0):\n",
    "    print(\"hi\")"
   ]
  },
  {
   "cell_type": "code",
   "execution_count": 84,
   "metadata": {},
   "outputs": [
    {
     "data": {
      "text/plain": [
       "{'AbsPhase': AbsPhase(\n",
       "     MJDParameter(   TZRMJD              56000.0000000000000000 (d) frozen=True),\n",
       "     strParameter(   TZRSITE             GBT               frozen=True),\n",
       "     floatParameter( TZRFRQ              1400.0            (MHz) frozen=True)),\n",
       " 'Spindown': Spindown(\n",
       "     floatParameter( F0                  7.3536813633543072466 (Hz) +/- 7.480096906686835e-07 Hz frozen=False),\n",
       "     MJDParameter(   PEPOCH              56000.0000000000000000 (d) frozen=True),\n",
       "     floatParameter( F1                  0.0               (Hz / s) +/- 0.0 Hz / s frozen=True)),\n",
       " 'PhaseJump': PhaseJump(\n",
       "     maskParameter(JUMP1 -jump_tim 1 0.12759017639708167 +/- 0.012484070555973687 s (s)),\n",
       "     maskParameter(JUMP2 -jump_tim 2 0.0 +/- 0.0 s (s)),\n",
       "     maskParameter(JUMP3 -jump_tim 3 0.36552323802824715 +/- 0.02662340729810784 s (s)),\n",
       "     maskParameter(JUMP4 -jump_tim 4 0.6046937480895088 +/- 0.050719015202058036 s (s)),\n",
       "     maskParameter(JUMP5 -jump_tim 5 1.4682126918307705 +/- 0.10271096792614054 s (s)),\n",
       "     maskParameter(JUMP6 -jump_tim 6 2.1885307209045393 +/- 0.1494891149009823 s (s)),\n",
       "     maskParameter(JUMP7 -jump_tim 7 2.795882248317593 +/- 0.18123862415279376 s (s)),\n",
       "     maskParameter(JUMP8 -jump_tim 8 4.706193737551973 +/- 0.30872887612293015 s (s)),\n",
       "     maskParameter(JUMP9 -jump_tim 9 8.964830250657366 +/- 0.5709834619009756 s (s)),\n",
       "     maskParameter(JUMP10 -jump_tim 10 13.07349858587677 +/- 0.8244479213775249 s (s)),\n",
       "     maskParameter(JUMP11 -jump_tim 11 16.210350881601826 +/- 1.0241217912063567 s (s)),\n",
       "     maskParameter(JUMP12 -jump_tim 12 21.761454531504494 +/- 1.3685079894050884 s (s)),\n",
       "     maskParameter(JUMP13 -jump_tim 13 26.585525111633892 +/- 1.6721132923628577 s (s)),\n",
       "     maskParameter(JUMP14 -jump_tim 14 31.646041227370254 +/- 1.989168576234318 s (s)),\n",
       "     maskParameter(JUMP15 -jump_tim 15 35.665944805935005 +/- 2.238501230996403 s (s)),\n",
       "     maskParameter(JUMP16 -jump_tim 16 38.75858749273086 +/- 2.430425670241769 s (s)),\n",
       "     maskParameter(JUMP17 -jump_tim 17 42.165104061849206 +/- 2.6388615664837287 s (s)),\n",
       "     maskParameter(JUMP18 -jump_tim 18 45.48693414712865 +/- 2.8437654121650615 s (s)),\n",
       "     maskParameter(JUMP19 -jump_tim 19 50.518691330429164 +/- 3.1536884414235407 s (s)),\n",
       "     maskParameter(JUMP20 -jump_tim 20 54.69764516840227 +/- 3.412147321594126 s (s)),\n",
       "     maskParameter(JUMP21 -jump_tim 21 60.26357603027695 +/- 3.7643503722671547 s (s)),\n",
       "     maskParameter(JUMP22 -jump_tim 22 63.24082385835787 +/- 3.9498404049804416 s (s)),\n",
       "     maskParameter(JUMP23 -jump_tim 23 68.75279538261132 +/- 4.287810246562943 s (s))),\n",
       " 'AstrometryEquatorial': AstrometryEquatorial(\n",
       "     MJDParameter(   POSEPOCH            UNSET,\n",
       "     floatParameter( PX                  0.0               (mas) frozen=True),\n",
       "     AngleParameter( RAJ                 17:05:02.20166513 (hourangle) +/- 0h00m00.01s frozen=True),\n",
       "     AngleParameter( DECJ                19:18:16.07790886 (deg) +/- 0d00m00.01s frozen=True),\n",
       "     floatParameter( PMRA                0.0               (mas / yr) frozen=True),\n",
       "     floatParameter( PMDEC               0.0               (mas / yr) frozen=True)),\n",
       " 'SolarSystemShapiro': SolarSystemShapiro(\n",
       "     boolParameter(  PLANET_SHAPIRO      N                 frozen=True)),\n",
       " 'DispersionDM': DispersionDM(\n",
       "     floatParameter( DM                  0.0               (pc / cm3) +/- 0.0 pc / cm3 frozen=True),\n",
       "     floatParameter( DM1                 UNSET,\n",
       "     MJDParameter(   DMEPOCH             UNSET),\n",
       " 'BinaryELL1': BinaryELL1(\n",
       "     floatParameter( PB                  2.9289180971960652427 (d) +/- 0.0016789664412667996 d frozen=False),\n",
       "     floatParameter( PBDOT               UNSET,\n",
       "     floatParameter( A1                  0.025818333668429845 (ls) +/- 0.004315177190728888 ls frozen=False),\n",
       "     floatParameter( A1DOT               UNSET,\n",
       "     floatParameter( EDOT                UNSET,\n",
       "     floatParameter( OMDOT               UNSET,\n",
       "     floatParameter( M2                  UNSET,\n",
       "     floatParameter( SINI                UNSET,\n",
       "     floatParameter( FB0                 UNSET,\n",
       "     MJDParameter(   TASC                56253.1030078247632460 (d) +/- 0.0735485476400382 d frozen=False),\n",
       "     floatParameter( EPS1                0.0               () +/- 0.0 frozen=True),\n",
       "     floatParameter( EPS2                0.0               () +/- 0.0 frozen=True),\n",
       "     floatParameter( EPS1DOT             UNSET,\n",
       "     floatParameter( EPS2DOT             UNSET)}"
      ]
     },
     "execution_count": 84,
     "metadata": {},
     "output_type": "execute_result"
    }
   ],
   "source": [
    "m.components"
   ]
  },
  {
   "cell_type": "code",
   "execution_count": 91,
   "metadata": {},
   "outputs": [
    {
     "data": {
      "text/plain": [
       "True"
      ]
     },
     "execution_count": 91,
     "metadata": {},
     "output_type": "execute_result"
    }
   ],
   "source": [
    "m1, t1 = pint.models.get_model_and_toas(\"fake_1sol.par\", \"fake_1.tim\")\n",
    "m2, t2 = pint.models.get_model_and_toas(\"fake_1.fin\", \"fake_1.tim\")\n",
    "m3, t3 = pint.models.get_model_and_toas(\"fake_1.par\", \"fake_1.tim\")\n",
    "\n",
    "t1.compute_pulse_numbers(m1)\n",
    "t2.compute_pulse_numbers(m2)\n",
    "t3.compute_pulse_numbers(m3)\n",
    "\n",
    "pn1 = t1.table[\"pulse_number\"]\n",
    "pn2 = t2.table[\"pulse_number\"]\n",
    "pn3 = t3.table[\"pulse_number\"]\n",
    "\n",
    "np.array_equal(pn1,pn2)\n"
   ]
  },
  {
   "cell_type": "code",
   "execution_count": 95,
   "metadata": {},
   "outputs": [
    {
     "name": "stderr",
     "output_type": "stream",
     "text": [
      "Process SpawnPoolWorker-7:\n",
      "Process SpawnPoolWorker-6:\n",
      "Traceback (most recent call last):\n",
      "Traceback (most recent call last):\n",
      "  File \"/Users/jackson/anaconda3/envs/penguin/lib/python3.9/multiprocessing/process.py\", line 315, in _bootstrap\n",
      "    self.run()\n",
      "  File \"/Users/jackson/anaconda3/envs/penguin/lib/python3.9/multiprocessing/process.py\", line 108, in run\n",
      "    self._target(*self._args, **self._kwargs)\n",
      "  File \"/Users/jackson/anaconda3/envs/penguin/lib/python3.9/multiprocessing/pool.py\", line 114, in worker\n",
      "    task = get()\n",
      "  File \"/Users/jackson/anaconda3/envs/penguin/lib/python3.9/multiprocessing/queues.py\", line 368, in get\n",
      "    return _ForkingPickler.loads(res)\n",
      "  File \"/Users/jackson/anaconda3/envs/penguin/lib/python3.9/multiprocessing/process.py\", line 315, in _bootstrap\n",
      "    self.run()\n",
      "AttributeError: Can't get attribute 'fib' on <module '__main__' (built-in)>\n",
      "  File \"/Users/jackson/anaconda3/envs/penguin/lib/python3.9/multiprocessing/process.py\", line 108, in run\n",
      "    self._target(*self._args, **self._kwargs)\n",
      "  File \"/Users/jackson/anaconda3/envs/penguin/lib/python3.9/multiprocessing/pool.py\", line 114, in worker\n",
      "    task = get()\n",
      "  File \"/Users/jackson/anaconda3/envs/penguin/lib/python3.9/multiprocessing/queues.py\", line 368, in get\n",
      "    return _ForkingPickler.loads(res)\n",
      "AttributeError: Can't get attribute 'fib' on <module '__main__' (built-in)>\n",
      "Process SpawnPoolWorker-8:\n",
      "Traceback (most recent call last):\n",
      "  File \"/Users/jackson/anaconda3/envs/penguin/lib/python3.9/multiprocessing/process.py\", line 315, in _bootstrap\n",
      "    self.run()\n",
      "  File \"/Users/jackson/anaconda3/envs/penguin/lib/python3.9/multiprocessing/process.py\", line 108, in run\n",
      "    self._target(*self._args, **self._kwargs)\n",
      "  File \"/Users/jackson/anaconda3/envs/penguin/lib/python3.9/multiprocessing/pool.py\", line 114, in worker\n",
      "    task = get()\n",
      "  File \"/Users/jackson/anaconda3/envs/penguin/lib/python3.9/multiprocessing/queues.py\", line 368, in get\n",
      "    return _ForkingPickler.loads(res)\n",
      "AttributeError: Can't get attribute 'fib' on <module '__main__' (built-in)>\n"
     ]
    },
    {
     "ename": "KeyboardInterrupt",
     "evalue": "",
     "output_type": "error",
     "traceback": [
      "\u001b[0;31m---------------------------------------------------------------------------\u001b[0m",
      "\u001b[0;31mKeyboardInterrupt\u001b[0m                         Traceback (most recent call last)",
      "\u001b[1;32m/Users/jackson/Desktop/Pint_Personal/APT/APT_tests.ipynb Cell 34'\u001b[0m in \u001b[0;36m<cell line: 9>\u001b[0;34m()\u001b[0m\n\u001b[1;32m      <a href='vscode-notebook-cell:/Users/jackson/Desktop/Pint_Personal/APT/APT_tests.ipynb#ch0000034?line=6'>7</a>\u001b[0m         \u001b[39mreturn\u001b[39;00m fib(n\u001b[39m-\u001b[39m\u001b[39m1\u001b[39m) \u001b[39m+\u001b[39m fib(n\u001b[39m-\u001b[39m\u001b[39m2\u001b[39m)\n\u001b[1;32m      <a href='vscode-notebook-cell:/Users/jackson/Desktop/Pint_Personal/APT/APT_tests.ipynb#ch0000034?line=8'>9</a>\u001b[0m \u001b[39mwith\u001b[39;00m Pool(\u001b[39m5\u001b[39m) \u001b[39mas\u001b[39;00m p:\n\u001b[0;32m---> <a href='vscode-notebook-cell:/Users/jackson/Desktop/Pint_Personal/APT/APT_tests.ipynb#ch0000034?line=9'>10</a>\u001b[0m     \u001b[39mprint\u001b[39m(p\u001b[39m.\u001b[39;49mmap(fib , [\u001b[39m4\u001b[39;49m,\u001b[39m5\u001b[39;49m,\u001b[39m6\u001b[39;49m]))\n",
      "File \u001b[0;32m~/anaconda3/envs/penguin/lib/python3.9/multiprocessing/pool.py:364\u001b[0m, in \u001b[0;36mPool.map\u001b[0;34m(self, func, iterable, chunksize)\u001b[0m\n\u001b[1;32m    359\u001b[0m \u001b[39mdef\u001b[39;00m \u001b[39mmap\u001b[39m(\u001b[39mself\u001b[39m, func, iterable, chunksize\u001b[39m=\u001b[39m\u001b[39mNone\u001b[39;00m):\n\u001b[1;32m    360\u001b[0m     \u001b[39m'''\u001b[39;00m\n\u001b[1;32m    361\u001b[0m \u001b[39m    Apply `func` to each element in `iterable`, collecting the results\u001b[39;00m\n\u001b[1;32m    362\u001b[0m \u001b[39m    in a list that is returned.\u001b[39;00m\n\u001b[1;32m    363\u001b[0m \u001b[39m    '''\u001b[39;00m\n\u001b[0;32m--> 364\u001b[0m     \u001b[39mreturn\u001b[39;00m \u001b[39mself\u001b[39;49m\u001b[39m.\u001b[39;49m_map_async(func, iterable, mapstar, chunksize)\u001b[39m.\u001b[39;49mget()\n",
      "File \u001b[0;32m~/anaconda3/envs/penguin/lib/python3.9/multiprocessing/pool.py:765\u001b[0m, in \u001b[0;36mApplyResult.get\u001b[0;34m(self, timeout)\u001b[0m\n\u001b[1;32m    764\u001b[0m \u001b[39mdef\u001b[39;00m \u001b[39mget\u001b[39m(\u001b[39mself\u001b[39m, timeout\u001b[39m=\u001b[39m\u001b[39mNone\u001b[39;00m):\n\u001b[0;32m--> 765\u001b[0m     \u001b[39mself\u001b[39;49m\u001b[39m.\u001b[39;49mwait(timeout)\n\u001b[1;32m    766\u001b[0m     \u001b[39mif\u001b[39;00m \u001b[39mnot\u001b[39;00m \u001b[39mself\u001b[39m\u001b[39m.\u001b[39mready():\n\u001b[1;32m    767\u001b[0m         \u001b[39mraise\u001b[39;00m \u001b[39mTimeoutError\u001b[39;00m\n",
      "File \u001b[0;32m~/anaconda3/envs/penguin/lib/python3.9/multiprocessing/pool.py:762\u001b[0m, in \u001b[0;36mApplyResult.wait\u001b[0;34m(self, timeout)\u001b[0m\n\u001b[1;32m    761\u001b[0m \u001b[39mdef\u001b[39;00m \u001b[39mwait\u001b[39m(\u001b[39mself\u001b[39m, timeout\u001b[39m=\u001b[39m\u001b[39mNone\u001b[39;00m):\n\u001b[0;32m--> 762\u001b[0m     \u001b[39mself\u001b[39;49m\u001b[39m.\u001b[39;49m_event\u001b[39m.\u001b[39;49mwait(timeout)\n",
      "File \u001b[0;32m~/anaconda3/envs/penguin/lib/python3.9/threading.py:574\u001b[0m, in \u001b[0;36mEvent.wait\u001b[0;34m(self, timeout)\u001b[0m\n\u001b[1;32m    572\u001b[0m signaled \u001b[39m=\u001b[39m \u001b[39mself\u001b[39m\u001b[39m.\u001b[39m_flag\n\u001b[1;32m    573\u001b[0m \u001b[39mif\u001b[39;00m \u001b[39mnot\u001b[39;00m signaled:\n\u001b[0;32m--> 574\u001b[0m     signaled \u001b[39m=\u001b[39m \u001b[39mself\u001b[39;49m\u001b[39m.\u001b[39;49m_cond\u001b[39m.\u001b[39;49mwait(timeout)\n\u001b[1;32m    575\u001b[0m \u001b[39mreturn\u001b[39;00m signaled\n",
      "File \u001b[0;32m~/anaconda3/envs/penguin/lib/python3.9/threading.py:312\u001b[0m, in \u001b[0;36mCondition.wait\u001b[0;34m(self, timeout)\u001b[0m\n\u001b[1;32m    310\u001b[0m \u001b[39mtry\u001b[39;00m:    \u001b[39m# restore state no matter what (e.g., KeyboardInterrupt)\u001b[39;00m\n\u001b[1;32m    311\u001b[0m     \u001b[39mif\u001b[39;00m timeout \u001b[39mis\u001b[39;00m \u001b[39mNone\u001b[39;00m:\n\u001b[0;32m--> 312\u001b[0m         waiter\u001b[39m.\u001b[39;49macquire()\n\u001b[1;32m    313\u001b[0m         gotit \u001b[39m=\u001b[39m \u001b[39mTrue\u001b[39;00m\n\u001b[1;32m    314\u001b[0m     \u001b[39melse\u001b[39;00m:\n",
      "\u001b[0;31mKeyboardInterrupt\u001b[0m: "
     ]
    }
   ],
   "source": [
    "from multiprocessing import Pool\n",
    "\n",
    "def fib(n):\n",
    "    if n == 1 or n == 0:\n",
    "        return n\n",
    "    else:\n",
    "        return fib(n-1) + fib(n-2)\n",
    "\n",
    "with Pool(5) as p:\n",
    "    print(p.map(fib , [4,5,6]))"
   ]
  },
  {
   "cell_type": "code",
   "execution_count": 97,
   "metadata": {},
   "outputs": [
    {
     "data": {
      "text/plain": [
       "[(1, 2, 0), (1, 2, 1), (1, 2, 2), (1, 2, 3), (1, 2, 4)]"
      ]
     },
     "execution_count": 97,
     "metadata": {},
     "output_type": "execute_result"
    }
   ],
   "source": [
    "[(1,2,i) for i in range(5)]"
   ]
  },
  {
   "cell_type": "code",
   "execution_count": 105,
   "metadata": {},
   "outputs": [
    {
     "data": {
      "text/plain": [
       "1"
      ]
     },
     "execution_count": 105,
     "metadata": {},
     "output_type": "execute_result"
    }
   ],
   "source": [
    "test = {4: 5, 1: 8, 7: 3}\n",
    "min(test.keys())"
   ]
  },
  {
   "cell_type": "code",
   "execution_count": 112,
   "metadata": {},
   "outputs": [
    {
     "data": {
      "text/plain": [
       "<ErrorbarContainer object of 3 artists>"
      ]
     },
     "execution_count": 112,
     "metadata": {},
     "output_type": "execute_result"
    },
    {
     "data": {
      "image/png": "[encoded data removed]",
      "text/plain": [
       "<Figure size 432x288 with 1 Axes>"
      ]
     },
     "metadata": {
      "needs_background": "light"
     },
     "output_type": "display_data"
    }
   ],
   "source": [
    "fig, ax = plt.subplots()\n",
    "x = np.arange(1,10)\n",
    "y = x **2\n",
    "error = x**1.1\n",
    "\n",
    "ax.errorbar(x, y, error, fmt='.b')\n",
    "ax.errorbar(1,2,3, fmt=\".r\")"
   ]
  },
  {
   "cell_type": "code",
   "execution_count": 36,
   "metadata": {},
   "outputs": [],
   "source": [
    "from APT_binary import quadratic_phase_wrap_checker, phase_connector\n",
    "pint.logging.setup(level = \"ERROR\")\n",
    "from pint.fitter import WLSFitter\n",
    "\n",
    "data_path1 = \"/Users/jackson/Desktop/Pint_Personal/APT/binary_test_data/binary6_1\"\n",
    "suffix = data_path1.split(\"_\")[-1]\n",
    "if socket.gethostname()[0] == \"J\":\n",
    "    os.chdir(data_path1)\n",
    "timfile = f\"fake_{suffix}.tim\"\n",
    "parfile = f\"fake_{suffix}.par\"\n",
    "\n",
    "m, toas = mb.get_model_and_toas(parfile, timfile)\n",
    "\n",
    "t = deepcopy(toas)\n",
    "mjds = t.get_mjds()\n",
    "\n",
    "t.table[\"delta_pulse_number\"] = np.zeros(len(t))\n",
    "t.table[\"clusters\"] = t.get_clusters()\n",
    " \n",
    "mask_with_closest = t.table[\"clusters\"] == 0\n",
    "closest_cluster_mask = t.table[\"clusters\"] == 1\n",
    "mask_with_closest = np.logical_or(mask_with_closest, closest_cluster_mask)\n",
    "\n",
    "residuals = pint.residuals.Residuals(t, m).calc_phase_resids()\n",
    "phase_connector(t, m, \"np.unwrap\", \"all\", mjds, mask_with_closest=mask_with_closest, residuals=residuals)\n",
    "\n",
    "t = deepcopy(t)\n",
    "t_closest_cluster = deepcopy(t)\n",
    "t_closest_cluster.select(closest_cluster_mask)\n",
    "chisq_samples = {}\n",
    "t_samples = {}\n",
    "f_samples = {}\n",
    "b = 10\n",
    "t = t\n",
    "f = WLSFitter(t, m)\n",
    "for wrap in np.arange(-5,6):\n",
    "\n",
    "    #t_wrapped = deepcopy(t)\n",
    "\n",
    "    t.table[\"delta_pulse_number\"][closest_cluster_mask] = wrap\n",
    "\n",
    "\n",
    "    f.fit_toas(maxiter=2)\n",
    "\n",
    "    # t_wrapped[\"delta_pulse_number\"] = 0\n",
    "    # t_wrapped.compute_pulse_numbers(f_wrapped.model)\n",
    "\n",
    "    chisq_samples[wrap] = f.resids.chi2_reduced#pint.residuals.Residuals(\n",
    "    #     t_wrapped, f_wrapped.model\n",
    "    # ).chi2_reduced"
   ]
  },
  {
   "cell_type": "code",
   "execution_count": 37,
   "metadata": {},
   "outputs": [
    {
     "data": {
      "text/plain": [
       "[<matplotlib.lines.Line2D at 0x7fd5f1fdc1f0>]"
      ]
     },
     "execution_count": 37,
     "metadata": {},
     "output_type": "execute_result"
    },
    {
     "data": {
      "image/png": "[encoded data removed]",
      "text/plain": [
       "<Figure size 432x288 with 1 Axes>"
      ]
     },
     "metadata": {
      "needs_background": "light"
     },
     "output_type": "display_data"
    }
   ],
   "source": [
    "x = chisq_samples.keys()\n",
    "y = [chisq_samples[key] for key in chisq_samples.keys()]\n",
    "plt.plot(x,y, \"o\")"
   ]
  },
  {
   "cell_type": "code",
   "execution_count": 85,
   "metadata": {},
   "outputs": [
    {
     "name": "stdout",
     "output_type": "stream",
     "text": [
      "iter is 1 and b is 15\n"
     ]
    }
   ],
   "source": [
    "from APT_binary import quadratic_phase_wrap_checker, phase_connector\n",
    "pint.logging.setup(level = \"ERROR\")\n",
    "from pint.fitter import WLSFitter\n",
    "\n",
    "data_path1 = \"/Users/jackson/Desktop/Pint_Personal/APT/binary_test_data/binary6_1\"\n",
    "suffix = data_path1.split(\"_\")[-1]\n",
    "if socket.gethostname()[0] == \"J\":\n",
    "    os.chdir(data_path1)\n",
    "# timfile = f\"fake_{suffix}.tim\"\n",
    "# parfile = f\"fake_{suffix}.par\"\n",
    "timfile = \"./alg_saves/fake_1/mask0_cluster22/fake_1_prefit2.tim\"\n",
    "parfile = \"./alg_saves/fake_1/mask0_cluster22/fake_1_prefit2.par\"\n",
    "\n",
    "m, toas = mb.get_model_and_toas(parfile, timfile)\n",
    "\n",
    "t = deepcopy(toas)\n",
    "mjds = t.get_mjds()\n",
    "\n",
    "t.table[\"delta_pulse_number\"] = np.zeros(len(t))\n",
    "t.table[\"clusters\"] = t.get_clusters()\n",
    " \n",
    "mask_with_closest = np.logical_or(t.table[\"clusters\"] == 22, t.table[\"clusters\"] == 21)\n",
    "closest_cluster_mask = t.table[\"clusters\"] == 23\n",
    "mask_with_closest = np.logical_or(mask_with_closest, closest_cluster_mask)\n",
    "\n",
    "residuals = pint.residuals.Residuals(t, m).calc_phase_resids()\n",
    "phase_connector(t, m, \"np.unwrap\", \"all\", mjds, mask_with_closest=mask_with_closest, residuals=residuals)\n",
    "\n",
    "maxiter_while=1\n",
    "b = 15\n",
    "iter = 0\n",
    "f = WLSFitter(t, m)\n",
    "while True:\n",
    "    iter += 1\n",
    "    print(f\"iter is {iter} and b is {b}\")\n",
    "    if iter > 10:\n",
    "        break\n",
    "    chisq_samples = {}\n",
    "    try:\n",
    "        for wrap in range(-b,b+1):#[-b, 0, b]:\n",
    "            # f = WLSFitter(t, m)\n",
    "            f.toas.table[\"delta_pulse_number\"][closest_cluster_mask] = wrap\n",
    "            f.fit_toas(maxiter=maxiter_while)\n",
    "            chisq_samples[wrap] = f.resids.chi2_reduced\n",
    "            f.reset_model()\n",
    "        break\n",
    "    except Exception as e:\n",
    "        print(b)\n",
    "        b -= 1\n",
    "# raise Exception(\"test stop\")\n",
    "min_wrap = round(\n",
    "    (b / 2)\n",
    "    * (chisq_samples[-b] - chisq_samples[b])\n",
    "    / (chisq_samples[b] + chisq_samples[-b] - 2 * chisq_samples[0])\n",
    ")\n",
    "# check +1, 0, and -1 wrap from min_wrap just to be safe\n",
    "t_wrap_dict = {}\n",
    "f_wrap_dict = {}\n",
    "chisq_wrap = {}\n",
    "for wrap in range(-1, 2):\n",
    "    t.table[\"delta_pulse_number\"][closest_cluster_mask] = min_wrap + wrap\n",
    "    f.fit_toas(maxiter=maxiter_while)\n",
    "\n",
    "    # t_plus_minus[\"delta_pulse_number\"] = 0\n",
    "    # t_plus_minus.compute_pulse_numbers(f_plus_minus.model)\n",
    "\n",
    "    chisq_wrap[f.resids.chi2_reduced] = min_wrap + wrap\n",
    "    t_wrap_dict[min_wrap + wrap] = deepcopy(t)\n",
    "    f_wrap_dict[min_wrap + wrap] = deepcopy(f)\n",
    "\n",
    "min_chisq = min(chisq_wrap.keys())\n",
    "\n",
    "min_wrap_number_total = chisq_wrap[min_chisq]\n",
    "\n",
    "t = t_wrap_dict[min_wrap_number_total]\n",
    "f = f_wrap_dict[min_wrap_number_total]"
   ]
  },
  {
   "cell_type": "code",
   "execution_count": 86,
   "metadata": {},
   "outputs": [
    {
     "data": {
      "text/plain": [
       "[<matplotlib.lines.Line2D at 0x7fb6a017d0d0>]"
      ]
     },
     "execution_count": 86,
     "metadata": {},
     "output_type": "execute_result"
    },
    {
     "data": {
      "image/png": "[encoded data removed]",
      "text/plain": [
       "<Figure size 432x288 with 1 Axes>"
      ]
     },
     "metadata": {
      "needs_background": "light"
     },
     "output_type": "display_data"
    }
   ],
   "source": [
    "# b = 5 and reassigns fitter everytime\n",
    "x = chisq_samples.keys()\n",
    "y = [chisq_samples[key] for key in chisq_samples.keys()]\n",
    "plt.plot(x,y, \"o\")"
   ]
  },
  {
   "cell_type": "code",
   "execution_count": 34,
   "metadata": {},
   "outputs": [
    {
     "data": {
      "text/plain": [
       "[<matplotlib.lines.Line2D at 0x7fc0c3a33370>]"
      ]
     },
     "execution_count": 34,
     "metadata": {},
     "output_type": "execute_result"
    },
    {
     "data": {
      "image/png": "[encoded data removed]",
      "text/plain": [
       "<Figure size 432x288 with 1 Axes>"
      ]
     },
     "metadata": {
      "needs_background": "light"
     },
     "output_type": "display_data"
    }
   ],
   "source": [
    "# b = 2 and does not reassign fitter\n",
    "x = chisq_samples.keys()\n",
    "y = [chisq_samples[key] for key in chisq_samples.keys()]\n",
    "plt.plot(x,y, \"o\")"
   ]
  },
  {
   "cell_type": "code",
   "execution_count": 51,
   "metadata": {},
   "outputs": [
    {
     "data": {
      "text/plain": [
       "[<matplotlib.lines.Line2D at 0x7fc0c64390a0>]"
      ]
     },
     "execution_count": 51,
     "metadata": {},
     "output_type": "execute_result"
    },
    {
     "data": {
      "image/png": "[encoded data removed]",
      "text/plain": [
       "<Figure size 432x288 with 1 Axes>"
      ]
     },
     "metadata": {
      "needs_background": "light"
     },
     "output_type": "display_data"
    }
   ],
   "source": [
    "# b = 6 and does not reassign\n",
    "x = chisq_samples.keys()\n",
    "y = [chisq_samples[key] for key in chisq_samples.keys()]\n",
    "plt.plot(x,y, \"o\")"
   ]
  },
  {
   "cell_type": "code",
   "execution_count": 66,
   "metadata": {},
   "outputs": [
    {
     "data": {
      "text/plain": [
       "{-10: 97116.60972279113615,\n",
       " -9: 66533.69775476437161,\n",
       " -8: 58437.123909212903946,\n",
       " -7: 52773.09525460645581,\n",
       " -6: 45561.285545188513776,\n",
       " -5: 35695.33915288830228,\n",
       " -4: 21044.310862826464373,\n",
       " -3: 7834.115297842088613,\n",
       " -2: 1522.5586628488047345,\n",
       " -1: 81.03778399792218758,\n",
       " 0: 1.1781461307060778118,\n",
       " 1: 146.72817823433508964,\n",
       " 2: 1594.2188078446990382,\n",
       " 3: 5237.1435868648915246,\n",
       " 4: 10584.178637789467173,\n",
       " 5: 18127.217869242178223,\n",
       " 6: 27347.236834132800022,\n",
       " 7: 36225.058884537862752,\n",
       " 8: 50354.34731577010343,\n",
       " 9: 77976.29759672542055,\n",
       " 10: 107949.330895907943464}"
      ]
     },
     "execution_count": 66,
     "metadata": {},
     "output_type": "execute_result"
    }
   ],
   "source": [
    "chisq_samples"
   ]
  },
  {
   "cell_type": "code",
   "execution_count": 84,
   "metadata": {},
   "outputs": [
    {
     "data": {
      "text/plain": [
       "{1522.5586628488047345: -2,\n",
       " 358.1228269442248919: -1,\n",
       " 12.7534221194563628975: 0}"
      ]
     },
     "execution_count": 84,
     "metadata": {},
     "output_type": "execute_result"
    }
   ],
   "source": [
    "chisq_wrap"
   ]
  },
  {
   "cell_type": "code",
   "execution_count": 3,
   "metadata": {},
   "outputs": [
    {
     "name": "stderr",
     "output_type": "stream",
     "text": [
      "2022-07-05 10:47:01.908 | DEBUG    | pint.toa:get_TOAs:190 - Using EPHEM = DE421 from the given model\n",
      "2022-07-05 10:47:01.909 | DEBUG    | pint.toa:get_TOAs:206 - Using CLOCK = BIPM2021 from the given model\n",
      "2022-07-05 10:47:01.974 | DEBUG    | pint.toa:apply_clock_corrections:2096 - Applying clock corrections (include_gps = True, include_bipm = True)\n",
      "2022-07-05 10:47:01.986 | DEBUG    | pint.observatory.clock_file:__init__:800 - Global clock file time_gbt.dat saving kwargs={'bogus_last_correction': False}\n",
      "2022-07-05 10:47:01.988 | DEBUG    | pint.observatory.clock_file:read_tempo_clock_file:608 - Loading TEMPO observatory (None) clock correction file /Users/jackson/.astropy/cache/download/url/599e3ebbfc317e090244ee1ef4c79374/contents with bogus_last_correction=False\n",
      "2022-07-05 10:47:02.032 | INFO     | pint.observatory.topo_obs:find_clock_file:513 - Using global clock file for time_gbt.dat with bogus_last_correction=False\n",
      "2022-07-05 10:47:02.033 | INFO     | pint.observatory.topo_obs:clock_corrections:296 - Applying observatory clock corrections.\n",
      "2022-07-05 10:47:02.034 | INFO     | pint.observatory.topo_obs:clock_corrections:301 - Applying GPS to UTC clock correction (~few nanoseconds)\n",
      "2022-07-05 10:47:02.036 | INFO     | pint.observatory.topo_obs:_load_gps_clock:222 - Loading global GPS clock file for gbt\n",
      "2022-07-05 10:47:02.043 | DEBUG    | pint.observatory.clock_file:__init__:800 - Global clock file gps2utc.clk saving kwargs={'bogus_last_correction': False}\n",
      "2022-07-05 10:47:02.050 | DEBUG    | pint.observatory.clock_file:read_tempo2_clock_file:468 - Loading TEMPO2-format observatory clock correction file /Users/jackson/.astropy/cache/download/url/d3c81b5766f4bfb84e65504c8a453085/contents with bogus_last_correction=False\n",
      "2022-07-05 10:47:02.102 | INFO     | pint.observatory.topo_obs:find_clock_file:513 - Using global clock file for gps2utc.clk with bogus_last_correction=False\n",
      "2022-07-05 10:47:02.103 | INFO     | pint.observatory.topo_obs:clock_corrections:306 - Applying TT(TAI) to TT(BIPM2021) clock correction (~27 us)\n",
      "2022-07-05 10:47:02.104 | INFO     | pint.observatory.topo_obs:_load_bipm_clock:237 - Loading BIPM clock version bipm2021 for gbt\n",
      "2022-07-05 10:47:02.107 | DEBUG    | pint.observatory.clock_file:__init__:800 - Global clock file tai2tt_bipm2021.clk saving kwargs={'bogus_last_correction': False}\n",
      "2022-07-05 10:47:02.116 | DEBUG    | pint.observatory.clock_file:read_tempo2_clock_file:468 - Loading TEMPO2-format observatory clock correction file /Users/jackson/.astropy/cache/download/url/e00edeef4edde217d65207a9abeb6a8c/contents with bogus_last_correction=False\n",
      "2022-07-05 10:47:02.132 | INFO     | pint.observatory.topo_obs:find_clock_file:513 - Using global clock file for tai2tt_bipm2021.clk with bogus_last_correction=False\n",
      "2022-07-05 10:47:02.228 | DEBUG    | pint.toa:compute_TDBs:2146 - Computing TDB columns.\n",
      "2022-07-05 10:47:02.229 | DEBUG    | pint.toa:compute_TDBs:2171 - Using EPHEM = DE421 for TDB calculation.\n",
      "2022-07-05 10:47:02.249 | DEBUG    | pint.toa:compute_posvels:2262 - Computing PosVels of observatories and Earth, using DE421\n",
      "2022-07-05 10:47:02.264 | INFO     | pint.solar_system_ephemerides:_load_kernel_link:54 - Set solar system ephemeris to de421 from download\n",
      "2022-07-05 10:47:03.301 | DEBUG    | pint.toa:compute_posvels:2317 - SSB obs pos [-1.48252269e+11  1.48939728e+10  6.45764514e+09] m\n",
      "2022-07-05 10:47:03.305 | INFO     | pint.solar_system_ephemerides:_load_kernel_link:54 - Set solar system ephemeris to de421 from download\n",
      "2022-07-05 10:47:03.328 | DEBUG    | pint.toa:compute_posvels:2331 - Adding columns ssb_obs_pos ssb_obs_vel obs_sun_pos\n"
     ]
    }
   ],
   "source": [
    "# from APT_binary import quadratic_phase_wrap_checker, phase_connector\n",
    "pint.logging.setup(level = \"ERROR\")\n",
    "from pint.fitter import WLSFitter\n",
    "\n",
    "data_path1 = \"/Users/jackson/Desktop/Pint_Personal/APT/binary_test_data/binary6_1\"\n",
    "suffix = data_path1.split(\"_\")[-1]\n",
    "if socket.gethostname()[0] == \"J\":\n",
    "    os.chdir(data_path1)\n",
    "# timfile = f\"fake_{suffix}.tim\"\n",
    "# parfile = f\"fake_{suffix}.par\"\n",
    "timfile = \"./alg_saves/fake_1/mask0_cluster22/fake_1_prefit2.tim\"\n",
    "parfile = \"./alg_saves/fake_1/mask0_cluster22/fake_1_prefit2.par\"\n",
    "\n",
    "m, toas = mb.get_model_and_toas(parfile, timfile)"
   ]
  },
  {
   "cell_type": "code",
   "execution_count": 30,
   "metadata": {},
   "outputs": [
    {
     "name": "stderr",
     "output_type": "stream",
     "text": [
      "\u001b[31m\u001b[1mERROR   \u001b[0m (__main__                      ): \u001b[31m\u001b[1mQuadError: stop\u001b[0m\n",
      "\u001b[33m\u001b[1mWARNING \u001b[0m (__main__                      ): \u001b[33m\u001b[1mtest\u001b[0m\n"
     ]
    },
    {
     "name": "stdout",
     "output_type": "stream",
     "text": [
      "hi\n"
     ]
    }
   ],
   "source": [
    "from loguru import logger as log\n",
    "pint.logging.setup(level = \"WARNING\")\n",
    "log.error(\"QuadError: stop\")\n",
    "log.warning(\"test\")\n",
    "print(\"hi\")"
   ]
  },
  {
   "cell_type": "code",
   "execution_count": 27,
   "metadata": {},
   "outputs": [
    {
     "name": "stdout",
     "output_type": "stream",
     "text": [
      "5\n",
      "4\n",
      "3\n",
      "2\n",
      "1\n",
      "0\n"
     ]
    }
   ],
   "source": [
    "b = 5\n",
    "for i in range(b,-1,-1):\n",
    "    print(i)\n",
    "    if i < 3:\n",
    "        continue\n",
    "    b = i"
   ]
  },
  {
   "cell_type": "code",
   "execution_count": 28,
   "metadata": {},
   "outputs": [
    {
     "data": {
      "text/plain": [
       "3"
      ]
     },
     "execution_count": 28,
     "metadata": {},
     "output_type": "execute_result"
    }
   ],
   "source": [
    "b"
   ]
  },
  {
   "cell_type": "code",
   "execution_count": 69,
   "metadata": {},
   "outputs": [
    {
     "data": {
      "text/plain": [
       "array([[0., 0.],\n",
       "       [0., 0.],\n",
       "       [0., 0.],\n",
       "       [0., 0.],\n",
       "       [0., 0.]])"
      ]
     },
     "execution_count": 69,
     "metadata": {},
     "output_type": "execute_result"
    }
   ],
   "source": [
    "np.zeros((5,2))"
   ]
  },
  {
   "cell_type": "code",
   "execution_count": 24,
   "metadata": {},
   "outputs": [
    {
     "name": "stdout",
     "output_type": "stream",
     "text": [
      "Creating the fake TOAs took 2.5131 sec\n",
      "Making the random models took 0.2526 sec\n",
      "Computing the random resids1 took 4.5808 sec\n"
     ]
    }
   ],
   "source": [
    "#%%\n",
    "import matplotlib.pyplot as plt\n",
    "import copy\n",
    "import numpy as np\n",
    "import astropy.units as u\n",
    "import pint.models as pm\n",
    "import pint.toa as pt\n",
    "import pint.fitter as pf\n",
    "import pint.residuals as pr\n",
    "import pint.simulation as ps\n",
    "import pint.logging as pl\n",
    "pl.setup(\"WARNING\")\n",
    "\n",
    "def make_random_models(fitter, Nmodels=100, params=\"all\"):\n",
    "    cov_matrix = fitter.parameter_covariance_matrix\n",
    "    # this is a list of the parameter names in the order they appear in the covariance matrix\n",
    "    param_names = cov_matrix.get_label_names(axis=0)\n",
    "    # this is a dictionary with the parameter values, but it might not be in the same order\n",
    "    # and it leaves out the Offset parameter\n",
    "    param_values = fitter.model.get_params_dict(\"free\", \"value\")\n",
    "    mean_vector = np.array([param_values[x] for x in param_names if x != \"Offset\"])\n",
    "    if params == \"all\":\n",
    "        # remove the first column and row (absolute phase)\n",
    "        if param_names[0] == \"Offset\":\n",
    "            cov_matrix = cov_matrix.get_label_matrix(param_names[1:])\n",
    "            fac = fitter.fac[1:]\n",
    "            param_names = param_names[1:]\n",
    "        else:\n",
    "            fac = fitter.fac\n",
    "    else:\n",
    "        # only select some parameters\n",
    "        # need to also select from the fac array and the mean_vector array\n",
    "        idx, labels = cov_matrix.get_label_slice(params)\n",
    "        cov_matrix = cov_matrix.get_label_matrix(params)\n",
    "        index = idx[0].flatten()\n",
    "        fac = fitter.fac[index]\n",
    "        # except mean_vector does not have the 'Offset' entry\n",
    "        # so may need to subtract 1\n",
    "        if param_names[0] == \"Offset\":\n",
    "            mean_vector = mean_vector[index - 1]\n",
    "        else:\n",
    "            mean_vector = mean_vector[index]\n",
    "        param_names = cov_matrix.get_label_names(axis=0)\n",
    "\n",
    "    f_rand = copy.deepcopy(fitter)\n",
    "    # scale by fac\n",
    "    mean_vector = mean_vector * fac\n",
    "    scaled_cov_matrix = ((cov_matrix.matrix * fac).T * fac).T\n",
    "    random_models = []\n",
    "    for _ in range(Nmodels):\n",
    "        # create a set of randomized parameters based on mean vector and covariance matrix\n",
    "        # dividing by fac brings us back to real units\n",
    "        rparams_num = np.random.multivariate_normal(mean_vector, scaled_cov_matrix) / fac\n",
    "        rparams = dict(zip(param_names, rparams_num))\n",
    "        f_rand.set_params(rparams)\n",
    "        random_models.append(f_rand.model)\n",
    "        f_rand = copy.deepcopy(fitter) # is this necessary?\n",
    "    return random_models\n",
    "\n",
    "def compute_random_model_phases(fitter, models, toas, return_time=False):\n",
    "    Nmodels = len(models)\n",
    "    Nmjd = len(toas)\n",
    "    phases_i = np.zeros((Nmodels, Nmjd))\n",
    "    phases_f = np.zeros((Nmodels, Nmjd))\n",
    "    for ii, model in enumerate(models):\n",
    "        phase = model.phase(toas, abs_phase=True)\n",
    "        # return phase\n",
    "        # raise Exception(\"test stop\")\n",
    "        phases_i[ii] = phase.int\n",
    "        phases_f[ii] = phase.frac\n",
    "    phases = phases_i + phases_f\n",
    "    # return phases\n",
    "    phases0 = fitter.model.phase(toas, abs_phase=True)\n",
    "    dphase = phases - (phases0.int + phases0.frac)\n",
    "    if return_time:\n",
    "        r = pr.Residuals(toas, fitter.model)\n",
    "        dphase /= r.get_PSR_freq(calctype=\"taylor\")\n",
    "    return dphase\n",
    "\n",
    "def compute_random_model_resids(fitter, models, toas, return_time=False):\n",
    "    resids = np.zeros((len(models), toas.ntoas), dtype=np.float)\n",
    "    r0 = pr.Residuals(tnew, fitter.model, subtract_mean=False)\n",
    "    for ii, model in enumerate(models):\n",
    "        rn = pr.Residuals(tnew, model, subtract_mean=False)\n",
    "        resids[ii] = rn.time_resids-r0.time_resids if return_time else rn.phase_resids-r0.phase_resids\n",
    "    return resids << u.s if return_time else resids\n",
    "\n",
    "m, t = pm.get_model_and_toas(\"1748-2446Y.par\", \"Ter5Y.tim\", usepickle=True)\n",
    "# Must do a fit to get parameter covariance matrix\n",
    "# f = pf.DownhillWLSFitter(t, m)\n",
    "f = pf.WLSFitter(t, m)\n",
    "f.fit_toas()\n",
    "\n",
    "###\n",
    "\n",
    "import time\n",
    "\n",
    "# make fake TOAs covering more than the full range\n",
    "tic = time.perf_counter()\n",
    "tnew = ps.make_fake_toas_uniform(\n",
    "    t.get_mjds().min().value - 500,\n",
    "    t.get_mjds().max().value + 500,\n",
    "    1000,\n",
    "    freq=2000.0 * u.MHz,\n",
    "    model=f.model,\n",
    ")\n",
    "toc = time.perf_counter()\n",
    "print(f\"Creating the fake TOAs took {toc-tic:0.4f} sec\")\n",
    "\n",
    "# now make random models\n",
    "tic = time.perf_counter()\n",
    "rms = make_random_models(f, 20)\n",
    "toc = time.perf_counter()\n",
    "print(f\"Making the random models took {toc-tic:0.4f} sec\")\n",
    "\n",
    "tic = time.perf_counter()\n",
    "phases = compute_random_model_phases(f, rms, tnew, return_time=True)\n",
    "toc = time.perf_counter()\n",
    "print(f\"Computing the random resids1 took {toc-tic:0.4f} sec\")\n",
    "\n",
    "# tic = time.perf_counter()\n",
    "# rrs2 = compute_random_model_resids(f, rms, tnew, return_time=True).to(u.us)\n",
    "# toc = time.perf_counter()\n",
    "# print(f\"Computing the random resids2 took {toc-tic:0.4f} sec\")"
   ]
  },
  {
   "cell_type": "code",
   "execution_count": 25,
   "metadata": {},
   "outputs": [
    {
     "data": {
      "text/plain": [
       "[<matplotlib.lines.Line2D at 0x7fb69fbe0d00>]"
      ]
     },
     "execution_count": 25,
     "metadata": {},
     "output_type": "execute_result"
    },
    {
     "data": {
      "image/png": "[encoded data removed]",
      "text/plain": [
       "<Figure size 432x288 with 1 Axes>"
      ]
     },
     "metadata": {
      "needs_background": "light"
     },
     "output_type": "display_data"
    }
   ],
   "source": [
    "tnew = ps.make_fake_toas_uniform(\n",
    "    t.get_mjds().min().value - 500,\n",
    "    t.get_mjds().max().value + 500,\n",
    "    1000,\n",
    "    freq=2000.0 * u.MHz,\n",
    "    model=f.model,\n",
    ")\n",
    "mjds = tnew.get_mjds()\n",
    "\n",
    "plt.plot(mjds,phases[0])"
   ]
  },
  {
   "cell_type": "code",
   "execution_count": 41,
   "metadata": {},
   "outputs": [
    {
     "data": {
      "text/plain": [
       "True"
      ]
     },
     "execution_count": 41,
     "metadata": {},
     "output_type": "execute_result"
    }
   ],
   "source": [
    "123 * u.s == 123 << u.s"
   ]
  },
  {
   "cell_type": "code",
   "execution_count": 60,
   "metadata": {},
   "outputs": [
    {
     "name": "stdout",
     "output_type": "stream",
     "text": [
      "Computing the design matrix took 1.9933 sec\n",
      "Computing the random resids via design matrix 0.0158 sec\n"
     ]
    }
   ],
   "source": [
    "tic = time.perf_counter()\n",
    "dmat, dmat_lab, dmat_units = m.designmatrix(tnew, incfrozen=False, incoffset=False)\n",
    "toc = time.perf_counter()\n",
    "print(f\"Computing the design matrix took {toc-tic:0.4f} sec\")\n",
    "\n",
    "#%%\n",
    "\n",
    "tic = time.perf_counter()\n",
    "fastrs = np.zeros((len(rms), tnew.ntoas), dtype=np.float)\n",
    "dparam = np.zeros(len(dmat_lab), dtype=np.float128)\n",
    "for ii, rm in enumerate(rms):\n",
    "    # Do the differencing\n",
    "    for jj, pp in enumerate(dmat_lab):\n",
    "        if type(getattr(m, pp)) == pm.parameter.MJDParameter:\n",
    "            # print(f\"top: {pp}\")\n",
    "            dparam[jj] = (getattr(m, pp).value - getattr(rm, pp).value) * u.d\n",
    "        else:\n",
    "            dparam[jj] = getattr(m, pp).quantity - getattr(rm, pp).quantity\n",
    "            # print(f\"bottom: {pp}\")\n",
    "    fastrs[ii] = np.dot(dparam, dmat.T)\n",
    "fastrs <<= u.s # fastrs = fastrs << u.s\n",
    "toc = time.perf_counter()\n",
    "print(f\"Computing the random resids via design matrix {toc-tic:0.4f} sec\")"
   ]
  },
  {
   "cell_type": "code",
   "execution_count": 53,
   "metadata": {},
   "outputs": [
    {
     "data": {
      "text/plain": [
       "False"
      ]
     },
     "execution_count": 53,
     "metadata": {},
     "output_type": "execute_result"
    }
   ],
   "source": [
    "f1 = fastrs * u.s\n",
    "fastrs <<= u.s\n",
    "f1 == fastrs"
   ]
  },
  {
   "cell_type": "code",
   "execution_count": 73,
   "metadata": {},
   "outputs": [
    {
     "data": {
      "text/plain": [
       "21"
      ]
     },
     "execution_count": 73,
     "metadata": {},
     "output_type": "execute_result"
    }
   ],
   "source": [
    "len(dmat.T)"
   ]
  },
  {
   "cell_type": "code",
   "execution_count": 77,
   "metadata": {},
   "outputs": [],
   "source": [
    "x = np.array([1,2,3])\n",
    "y = np.array([[1,2,3],[1,2,5], [4,3,5],[3,2,9]])"
   ]
  },
  {
   "cell_type": "code",
   "execution_count": 79,
   "metadata": {},
   "outputs": [
    {
     "data": {
      "text/plain": [
       "array([14, 20, 25, 34])"
      ]
     },
     "execution_count": 79,
     "metadata": {},
     "output_type": "execute_result"
    }
   ],
   "source": [
    "np.dot(x, y.T)"
   ]
  },
  {
   "cell_type": "code",
   "execution_count": 94,
   "metadata": {},
   "outputs": [
    {
     "data": {
      "text/latex": [
       "$[1,~2,~3] \\; \\mathrm{s}$"
      ],
      "text/plain": [
       "<Quantity [1., 2., 3.] s>"
      ]
     },
     "execution_count": 94,
     "metadata": {},
     "output_type": "execute_result"
    }
   ],
   "source": [
    "x = np.array([1,2,3])\n",
    "x <<= u.s\n",
    "x << u.min\n",
    "x"
   ]
  },
  {
   "cell_type": "code",
   "execution_count": 98,
   "metadata": {},
   "outputs": [
    {
     "name": "stdout",
     "output_type": "stream",
     "text": [
      "464 ns ± 1.73 ns per loop (mean ± std. dev. of 7 runs, 1,000,000 loops each)\n"
     ]
    }
   ],
   "source": [
    "%timeit array = np.array([1,2])"
   ]
  },
  {
   "cell_type": "code",
   "execution_count": 1,
   "metadata": {},
   "outputs": [
    {
     "name": "stdout",
     "output_type": "stream",
     "text": [
      "hi\n",
      "hi\n",
      "hi\n"
     ]
    }
   ],
   "source": [
    "print(\"hi\"); print(\"hi\"); print(\"hi\")"
   ]
  },
  {
   "cell_type": "code",
   "execution_count": 6,
   "metadata": {},
   "outputs": [
    {
     "ename": "RuntimeError",
     "evalue": "timedInput() requires an interactive shell, cannot continue.",
     "output_type": "error",
     "traceback": [
      "\u001b[0;31m---------------------------------------------------------------------------\u001b[0m",
      "\u001b[0;31mRuntimeError\u001b[0m                              Traceback (most recent call last)",
      "\u001b[1;32m/Users/jackson/Desktop/Pint_Personal/APT/APT_tests.ipynb Cell 63'\u001b[0m in \u001b[0;36m<cell line: 5>\u001b[0;34m()\u001b[0m\n\u001b[1;32m      <a href='vscode-notebook-cell:/Users/jackson/Desktop/Pint_Personal/APT/APT_tests.ipynb#ch0000062?line=1'>2</a>\u001b[0m \u001b[39mimport\u001b[39;00m \u001b[39mtime\u001b[39;00m\n\u001b[1;32m      <a href='vscode-notebook-cell:/Users/jackson/Desktop/Pint_Personal/APT/APT_tests.ipynb#ch0000062?line=3'>4</a>\u001b[0m t1 \u001b[39m=\u001b[39m time\u001b[39m.\u001b[39mmonotonic()\n\u001b[0;32m----> <a href='vscode-notebook-cell:/Users/jackson/Desktop/Pint_Personal/APT/APT_tests.ipynb#ch0000062?line=4'>5</a>\u001b[0m result \u001b[39m=\u001b[39m timedInput(\u001b[39m\"\u001b[39;49m\u001b[39mHello\u001b[39;49m\u001b[39m\"\u001b[39;49m, \u001b[39m5\u001b[39;49m)\n\u001b[1;32m      <a href='vscode-notebook-cell:/Users/jackson/Desktop/Pint_Personal/APT/APT_tests.ipynb#ch0000062?line=5'>6</a>\u001b[0m t2 \u001b[39m=\u001b[39m time\u001b[39m.\u001b[39mmonotonic()\n\u001b[1;32m      <a href='vscode-notebook-cell:/Users/jackson/Desktop/Pint_Personal/APT/APT_tests.ipynb#ch0000062?line=7'>8</a>\u001b[0m \u001b[39mprint\u001b[39m(\u001b[39mf\u001b[39m\u001b[39m\"\u001b[39m\u001b[39mThat took \u001b[39m\u001b[39m{\u001b[39;00m\u001b[39mround\u001b[39m(t2\u001b[39m-\u001b[39mt1, \u001b[39m3\u001b[39m)\u001b[39m}\u001b[39;00m\u001b[39m seconds\u001b[39m\u001b[39m\"\u001b[39m)\n",
      "File \u001b[0;32m~/anaconda3/envs/penguin/lib/python3.9/site-packages/pytimedinput/pytimedinput.py:32\u001b[0m, in \u001b[0;36mtimedInput\u001b[0;34m(prompt, timeout, resetOnInput, maxLength, allowCharacters, endCharacters)\u001b[0m\n\u001b[1;32m     30\u001b[0m \u001b[39mif\u001b[39;00m(\u001b[39mlen\u001b[39m(endCharacters) \u001b[39m==\u001b[39m \u001b[39m0\u001b[39m):\n\u001b[1;32m     31\u001b[0m     \u001b[39mreturn\u001b[39;00m \u001b[39m\"\u001b[39m\u001b[39m\"\u001b[39m, \u001b[39mFalse\u001b[39;00m\n\u001b[0;32m---> 32\u001b[0m \u001b[39mreturn\u001b[39;00m __timedInput(prompt, timeout, resetOnInput, maxLength, allowCharacters, endCharacters)\n",
      "File \u001b[0;32m~/anaconda3/envs/penguin/lib/python3.9/site-packages/pytimedinput/pytimedinput.py:104\u001b[0m, in \u001b[0;36m__timedInput\u001b[0;34m(prompt, timeout, resetOnInput, maxLength, allowCharacters, endCharacters, inputType)\u001b[0m\n\u001b[1;32m    101\u001b[0m         \u001b[39mreturn\u001b[39;00m sys\u001b[39m.\u001b[39mstdin\u001b[39m.\u001b[39mread(\u001b[39m1\u001b[39m)\n\u001b[1;32m    103\u001b[0m \u001b[39mif\u001b[39;00m(\u001b[39mnot\u001b[39;00m sys\u001b[39m.\u001b[39m__stdin__\u001b[39m.\u001b[39misatty()):\n\u001b[0;32m--> 104\u001b[0m     \u001b[39mraise\u001b[39;00m \u001b[39mRuntimeError\u001b[39;00m(\n\u001b[1;32m    105\u001b[0m         \u001b[39m\"\u001b[39m\u001b[39mtimedInput() requires an interactive shell, cannot continue.\u001b[39m\u001b[39m\"\u001b[39m)\n\u001b[1;32m    106\u001b[0m \u001b[39melse\u001b[39;00m:\n\u001b[1;32m    107\u001b[0m     __savedConsoleSettings \u001b[39m=\u001b[39m __getStdoutSettings()\n",
      "\u001b[0;31mRuntimeError\u001b[0m: timedInput() requires an interactive shell, cannot continue."
     ]
    }
   ],
   "source": [
    "from pytimedinput import timedInput\n",
    "import time\n",
    "\n",
    "t1 = time.monotonic()\n",
    "result = timedInput(\"Hello\", 5)\n",
    "t2 = time.monotonic()\n",
    "\n",
    "print(f\"That took {round(t2-t1, 3)} seconds\")"
   ]
  },
  {
   "cell_type": "code",
   "execution_count": 2,
   "metadata": {},
   "outputs": [
    {
     "name": "stderr",
     "output_type": "stream",
     "text": [
      "\u001b[1mINFO    \u001b[0m (pint.observatory.topo_obs     ): \u001b[1mUsing global clock file for time_gbt.dat with bogus_last_correction=False\u001b[0m\n",
      "\u001b[1mINFO    \u001b[0m (pint.observatory.topo_obs     ): \u001b[1mApplying observatory clock corrections.\u001b[0m\n",
      "\u001b[1mINFO    \u001b[0m (pint.observatory.topo_obs     ): \u001b[1mApplying GPS to UTC clock correction (~few nanoseconds)\u001b[0m\n",
      "\u001b[1mINFO    \u001b[0m (pint.observatory.topo_obs     ): \u001b[1mLoading global GPS clock file for gbt\u001b[0m\n",
      "\u001b[1mINFO    \u001b[0m (pint.observatory.topo_obs     ): \u001b[1mUsing global clock file for gps2utc.clk with bogus_last_correction=False\u001b[0m\n",
      "\u001b[1mINFO    \u001b[0m (pint.observatory.topo_obs     ): \u001b[1mApplying TT(TAI) to TT(BIPM2021) clock correction (~27 us)\u001b[0m\n",
      "\u001b[1mINFO    \u001b[0m (pint.observatory.topo_obs     ): \u001b[1mLoading BIPM clock version bipm2021 for gbt\u001b[0m\n",
      "\u001b[1mINFO    \u001b[0m (pint.observatory.topo_obs     ): \u001b[1mUsing global clock file for tai2tt_bipm2021.clk with bogus_last_correction=False\u001b[0m\n",
      "\u001b[33m\u001b[1mWARNING \u001b[0m (pint.toa                      ): \u001b[33m\u001b[1mNo ephemeris provided to TOAs object or compute_TDBs. Using DE421\u001b[0m\n",
      "\u001b[1mINFO    \u001b[0m (pint.solar_system_ephemerides ): \u001b[1mSet solar system ephemeris to de421 from download\u001b[0m\n"
     ]
    },
    {
     "data": {
      "text/plain": [
       "True"
      ]
     },
     "execution_count": 2,
     "metadata": {},
     "output_type": "execute_result"
    }
   ],
   "source": [
    "os.chdir(\"/Users/jackson/Desktop/Pint_Personal/APT/binary_test_data/binary6_1\")\n",
    "pint.logging.setup(level=\"INFO\")\n",
    "\n",
    "\n",
    "m1, t1 = mb.get_model_and_toas(\"fake_1sol.par\", \"fake_1.tim\")\n",
    "t1.compute_pulse_numbers(m1)\n",
    "pn1 = t1.table[\"pulse_number\"]\n",
    "\n",
    "m2, t2 = mb.get_model_and_toas(\"fake_1.fin\", \"fake_1.tim\")\n",
    "t2.compute_pulse_numbers(m1)\n",
    "pn2 = t2.table[\"pulse_number\"]\n",
    "\n",
    "np.array_equal(pn1, pn2)\n"
   ]
  },
  {
   "cell_type": "code",
   "execution_count": 8,
   "metadata": {},
   "outputs": [
    {
     "data": {
      "text/plain": [
       "[1]"
      ]
     },
     "execution_count": 8,
     "metadata": {},
     "output_type": "execute_result"
    }
   ],
   "source": [
    "start = \"1\".split(\",\")\n",
    "x= [int(i) for i in start]\n",
    "x"
   ]
  },
  {
   "cell_type": "code",
   "execution_count": 16,
   "metadata": {},
   "outputs": [
    {
     "name": "stdout",
     "output_type": "stream",
     "text": [
      "\u001b[94mWarning: No active frommets remain. Continue?\u001b[4m\n"
     ]
    }
   ],
   "source": [
    "class bcolors:\n",
    "    HEADER = '\\033[95m'\n",
    "    OKBLUE = '\\033[94m'\n",
    "    OKCYAN = '\\033[96m'\n",
    "    OKGREEN = '\\033[92m'\n",
    "    WARNING = '\\033[93m'\n",
    "    FAIL = '\\033[91m'\n",
    "    ENDC = '\\033[0m'\n",
    "    BOLD = '\\033[1m'\n",
    "    UNDERLINE = '\\033[4m'\n",
    "print(f\"{bcolors.OKBLUE}Warning: No active frommets remain. Continue?{bcolors.UNDERLINE}\")\n",
    "\n",
    "\n",
    "\n"
   ]
  },
  {
   "cell_type": "code",
   "execution_count": null,
   "metadata": {},
   "outputs": [],
   "source": []
  }
 ],
 "metadata": {
  "kernelspec": {
   "display_name": "Python 3.9.12 ('penguin')",
   "language": "python",
   "name": "python3"
  },
  "language_info": {
   "codemirror_mode": {
    "name": "ipython",
    "version": 3
   },
   "file_extension": ".py",
   "mimetype": "text/x-python",
   "name": "python",
   "nbconvert_exporter": "python",
   "pygments_lexer": "ipython3",
   "version": "3.9.12"
  },
  "orig_nbformat": 4,
  "vscode": {
   "interpreter": {
    "hash": "a1d132dd072b8d5db54bff76b1d5a2ffac9c5941c0c46880f80e3436479cf37b"
   }
  }
 },
 "nbformat": 4,
 "nbformat_minor": 2
}
