{
 "cells": [
  {
   "cell_type": "code",
   "execution_count": 1,
   "metadata": {},
   "outputs": [],
   "source": [
    "import pint.toa\n",
    "import pint.models\n",
    "import pint.fitter\n",
    "import pint.residuals\n",
    "import pint.utils\n",
    "import pint.models.model_builder as mb\n",
    "import pint.random_models\n",
    "from pint.phase import Phase\n",
    "from copy import deepcopy\n",
    "from collections import OrderedDict\n",
    "#from astropy import log\n",
    "import astropy.units as u\n",
    "import numpy as np\n",
    "import matplotlib.pyplot as plt\n",
    "import os\n",
    "import csv\n",
    "import operator\n",
    "import time\n",
    "from pathlib import Path\n",
    "#import APT_argparse\n",
    "import socket"
   ]
  },
  {
   "cell_type": "code",
   "execution_count": 43,
   "metadata": {},
   "outputs": [
    {
     "data": {
      "text/plain": [
       "array([   0.40726644, -215.77663308])"
      ]
     },
     "execution_count": 43,
     "metadata": {},
     "output_type": "execute_result"
    }
   ],
   "source": [
    "f = pint.fitter.WLSFitter(t, m)\n",
    "\n",
    "f.get_designmatrix()"
   ]
  },
  {
   "cell_type": "code",
   "execution_count": 85,
   "metadata": {},
   "outputs": [
    {
     "name": "stderr",
     "output_type": "stream",
     "text": [
      "2022-06-24 14:38:49.660 | DEBUG    | pint.toa:__init__:1304 - No pulse number flags found in the TOAs\n",
      "2022-06-24 14:38:49.662 | DEBUG    | pint.toa:apply_clock_corrections:2085 - Applying clock corrections (include_gps = True, include_bipm = True)\n",
      "2022-06-24 14:38:49.679 | INFO     | pint.observatory.topo_obs:clock_corrections:258 - Applying observatory clock corrections.\n",
      "2022-06-24 14:38:49.681 | INFO     | pint.observatory.topo_obs:clock_corrections:263 - Applying GPS to UTC clock correction (~few nanoseconds)\n",
      "2022-06-24 14:38:49.683 | INFO     | pint.observatory.topo_obs:clock_corrections:268 - Applying TT(TAI) to TT(BIPM2021) clock correction (~27 us)\n",
      "2022-06-24 14:38:49.793 | DEBUG    | pint.toa:compute_TDBs:2148 - Computing TDB columns.\n",
      "2022-06-24 14:38:49.794 | WARNING  | pint.toa:compute_TDBs:2160 - No ephemeris provided to TOAs object or compute_TDBs. Using DE421\n",
      "2022-06-24 14:38:49.795 | DEBUG    | pint.toa:compute_TDBs:2173 - Using EPHEM = DE421 for TDB calculation.\n",
      "2022-06-24 14:38:50.130 | DEBUG    | pint.toa:compute_posvels:2267 - Computing PosVels of observatories and Earth, using DE421\n",
      "2022-06-24 14:38:50.138 | INFO     | pint.solar_system_ephemerides:_load_kernel_link:54 - Set solar system ephemeris to de421 from download\n",
      "2022-06-24 14:38:50.189 | DEBUG    | pint.toa:compute_posvels:2325 - SSB obs pos [-1.48252269e+11  1.48939728e+10  6.45764512e+09] m\n",
      "2022-06-24 14:38:50.191 | INFO     | pint.solar_system_ephemerides:_load_kernel_link:54 - Set solar system ephemeris to de421 from download\n",
      "2022-06-24 14:38:50.194 | DEBUG    | pint.toa:compute_posvels:2339 - Adding columns ssb_obs_pos ssb_obs_vel obs_sun_pos\n"
     ]
    },
    {
     "data": {
      "text/plain": [
       "pint.models.timing_model.TimingModel"
      ]
     },
     "execution_count": 85,
     "metadata": {},
     "output_type": "execute_result"
    }
   ],
   "source": [
    "from APT_binary import JUMP_adder_begginning, starting_points\n",
    "os.chdir(\"/Users/jackson/Desktop/Pint_Personal/APT/binary_test_data/binary3_1\")\n",
    "#os.chdir(\"/users/jdtaylor/Jackson/APT/binary3_4\")\n",
    "\n",
    "parfile = Path(\"fake_1.par\")\n",
    "timfile = Path(\"fake_1.tim\")\n",
    "m, t = mb.get_model_and_toas(parfile, timfile)\n",
    "t.table[\"clusters\"] = t.get_clusters()\n",
    "masks = starting_points(toas = t)[0]\n",
    "mask = masks[0]\n",
    "t, m = JUMP_adder_begginning(mask, t, m, \"start.tim\", \"start.par\")\n",
    "t.table['flags']\n",
    "type(m)"
   ]
  },
  {
   "cell_type": "code",
   "execution_count": 3,
   "metadata": {},
   "outputs": [],
   "source": [
    "m.as_parfile() # adding jumps natively gives errors so I will add them manually\n",
    "with open(\"thisisatest1.par\", \"w\") as parfile:\n",
    "    parfile.write(m.as_parfile())\n",
    "    for i in range(1, 31):\n",
    "        parfile.write(f\"JUMP\\t\\t-jump_tim {i}\\t0 1 0\\n\")\n",
    "    "
   ]
  },
  {
   "cell_type": "code",
   "execution_count": 13,
   "metadata": {},
   "outputs": [
    {
     "name": "stderr",
     "output_type": "stream",
     "text": [
      "2022-06-23 15:29:14.901 | DEBUG    | pint.toa:__init__:1304 - No pulse number flags found in the TOAs\n",
      "2022-06-23 15:29:14.902 | DEBUG    | pint.toa:apply_clock_corrections:2085 - Applying clock corrections (include_gps = True, include_bipm = True)\n",
      "2022-06-23 15:29:14.919 | INFO     | pint.observatory.topo_obs:clock_corrections:258 - Applying observatory clock corrections.\n",
      "2022-06-23 15:29:14.920 | INFO     | pint.observatory.topo_obs:clock_corrections:263 - Applying GPS to UTC clock correction (~few nanoseconds)\n",
      "2022-06-23 15:29:14.922 | INFO     | pint.observatory.topo_obs:clock_corrections:268 - Applying TT(TAI) to TT(BIPM2021) clock correction (~27 us)\n",
      "2022-06-23 15:29:15.008 | DEBUG    | pint.toa:compute_TDBs:2148 - Computing TDB columns.\n",
      "2022-06-23 15:29:15.009 | WARNING  | pint.toa:compute_TDBs:2160 - No ephemeris provided to TOAs object or compute_TDBs. Using DE421\n",
      "2022-06-23 15:29:15.010 | DEBUG    | pint.toa:compute_TDBs:2173 - Using EPHEM = DE421 for TDB calculation.\n",
      "2022-06-23 15:29:15.048 | DEBUG    | pint.toa:compute_posvels:2267 - Computing PosVels of observatories and Earth, using DE421\n",
      "2022-06-23 15:29:15.056 | INFO     | pint.solar_system_ephemerides:_load_kernel_link:54 - Set solar system ephemeris to de421 from download\n",
      "2022-06-23 15:29:15.106 | DEBUG    | pint.toa:compute_posvels:2325 - SSB obs pos [-1.48252269e+11  1.48939728e+10  6.45764512e+09] m\n",
      "2022-06-23 15:29:15.109 | INFO     | pint.solar_system_ephemerides:_load_kernel_link:54 - Set solar system ephemeris to de421 from download\n",
      "2022-06-23 15:29:15.111 | DEBUG    | pint.toa:compute_posvels:2339 - Adding columns ssb_obs_pos ssb_obs_vel obs_sun_pos\n"
     ]
    }
   ],
   "source": [
    "from APT_binary import JUMP_adder_begginning, starting_points\n",
    "os.chdir(\"/Users/jackson/Desktop/Pint_Personal/APT/binary3_1\")\n",
    "\n",
    "parfile = Path(\"fake_1.par\")\n",
    "timfile = Path(\"fake_1.tim\")\n",
    "m, t = mb.get_model_and_toas(parfile, timfile)\n",
    "t.table[\"clusters\"] = t.get_clusters()\n",
    "mask, clusters = starting_points(toas = t)\n",
    "t, m = JUMP_adder_begginning(mask[0], t, m, \"thisisatest.tim\", \"thisisatest.par\")"
   ]
  },
  {
   "cell_type": "code",
   "execution_count": 3,
   "metadata": {},
   "outputs": [
    {
     "data": {
      "text/plain": [
       "{'AbsPhase': AbsPhase(\n",
       "     MJDParameter(   TZRMJD              56000.0000000000000000 (d) frozen=True),\n",
       "     strParameter(   TZRSITE             GBT               frozen=True),\n",
       "     floatParameter( TZRFRQ              1400.0            (MHz) frozen=True)),\n",
       " 'Spindown': Spindown(\n",
       "     floatParameter( F0                  2.4553950186475038 (Hz) +/- 1e-06 Hz frozen=False),\n",
       "     MJDParameter(   PEPOCH              56000.0000000000000000 (d) frozen=True),\n",
       "     floatParameter( F1                  0.0               (Hz / s) +/- 0.0 Hz / s frozen=True)),\n",
       " 'PhaseJump': PhaseJump(\n",
       "     maskParameter(JUMP1 -jump_tim 1 0.0 +/- 0.0 s (s)),\n",
       "     maskParameter(JUMP2 -jump_tim 2 0.0 +/- 0.0 s (s)),\n",
       "     maskParameter(JUMP3 -jump_tim 3 0.0 +/- 0.0 s (s)),\n",
       "     maskParameter(JUMP4 -jump_tim 4 0.0 +/- 0.0 s (s)),\n",
       "     maskParameter(JUMP5 -jump_tim 5 0.0 +/- 0.0 s (s)),\n",
       "     maskParameter(JUMP6 -jump_tim 6 0.0 +/- 0.0 s (s)),\n",
       "     maskParameter(JUMP7 -jump_tim 7 0.0 +/- 0.0 s (s)),\n",
       "     maskParameter(JUMP8 -jump_tim 8 0.0 +/- 0.0 s (s)),\n",
       "     maskParameter(JUMP9 -jump_tim 9 0.0 +/- 0.0 s (s)),\n",
       "     maskParameter(JUMP10 -jump_tim 10 0.0 +/- 0.0 s (s)),\n",
       "     maskParameter(JUMP11 -jump_tim 11 0.0 +/- 0.0 s (s)),\n",
       "     maskParameter(JUMP12 -jump_tim 12 0.0 +/- 0.0 s (s)),\n",
       "     maskParameter(JUMP13 -jump_tim 13 0.0 +/- 0.0 s (s)),\n",
       "     maskParameter(JUMP14 -jump_tim 14 0.0 +/- 0.0 s (s)),\n",
       "     maskParameter(JUMP15 -jump_tim 15 0.0 +/- 0.0 s (s)),\n",
       "     maskParameter(JUMP16 -jump_tim 16 0.0 +/- 0.0 s (s)),\n",
       "     maskParameter(JUMP17 -jump_tim 17 0.0 +/- 0.0 s (s)),\n",
       "     maskParameter(JUMP18 -jump_tim 18 0.0 +/- 0.0 s (s)),\n",
       "     maskParameter(JUMP19 -jump_tim 19 0.0 +/- 0.0 s (s)),\n",
       "     maskParameter(JUMP20 -jump_tim 20 0.0 +/- 0.0 s (s)),\n",
       "     maskParameter(JUMP21 -jump_tim 21 0.0 +/- 0.0 s (s)),\n",
       "     maskParameter(JUMP22 -jump_tim 22 0.0 +/- 0.0 s (s)),\n",
       "     maskParameter(JUMP23 -jump_tim 23 0.0 +/- 0.0 s (s)),\n",
       "     maskParameter(JUMP24 -jump_tim 24 0.0 +/- 0.0 s (s)),\n",
       "     maskParameter(JUMP25 -jump_tim 25 0.0 +/- 0.0 s (s)),\n",
       "     maskParameter(JUMP26 -jump_tim 26 0.0 +/- 0.0 s (s)),\n",
       "     maskParameter(JUMP27 -jump_tim 27 0.0 +/- 0.0 s (s)),\n",
       "     maskParameter(JUMP28 -jump_tim 28 0.0 +/- 0.0 s (s)),\n",
       "     maskParameter(JUMP29 -jump_tim 29 0.0 +/- 0.0 s (s)),\n",
       "     maskParameter(JUMP30 -jump_tim 30 0.0 +/- 0.0 s (s))),\n",
       " 'AstrometryEquatorial': AstrometryEquatorial(\n",
       "     MJDParameter(   POSEPOCH            UNSET,\n",
       "     floatParameter( PX                  0.0               (mas) frozen=True),\n",
       "     AngleParameter( RAJ                 13:00:37.92671716 (hourangle) +/- 0h00m00.01s frozen=True),\n",
       "     AngleParameter( DECJ                7:38:43.37778699  (deg) +/- 0d00m00.01s frozen=True),\n",
       "     floatParameter( PMRA                0.0               (mas / yr) frozen=True),\n",
       "     floatParameter( PMDEC               0.0               (mas / yr) frozen=True)),\n",
       " 'SolarSystemShapiro': SolarSystemShapiro(\n",
       "     boolParameter(  PLANET_SHAPIRO      N                 frozen=True)),\n",
       " 'DispersionDM': DispersionDM(\n",
       "     floatParameter( DM                  0.0               (pc / cm3) +/- 0.0 pc / cm3 frozen=True),\n",
       "     floatParameter( DM1                 UNSET,\n",
       "     MJDParameter(   DMEPOCH             UNSET),\n",
       " 'BinaryELL1': BinaryELL1(\n",
       "     floatParameter( PB                  17.198013331210483 (d) +/- 0.1 d frozen=True),\n",
       "     floatParameter( PBDOT               UNSET,\n",
       "     floatParameter( A1                  0.7480623513143103 (ls) +/- 0.1 ls frozen=True),\n",
       "     floatParameter( A1DOT               UNSET,\n",
       "     floatParameter( EDOT                UNSET,\n",
       "     floatParameter( OMDOT               UNSET,\n",
       "     floatParameter( M2                  UNSET,\n",
       "     floatParameter( SINI                UNSET,\n",
       "     floatParameter( FB0                 UNSET,\n",
       "     MJDParameter(   TASC                56298.6401990979300000 (d) +/- 0.1 d frozen=True),\n",
       "     floatParameter( EPS1                0.0               () +/- 0.0 frozen=True),\n",
       "     floatParameter( EPS2                0.0               () +/- 0.0 frozen=True),\n",
       "     floatParameter( EPS1DOT             UNSET,\n",
       "     floatParameter( EPS2DOT             UNSET)}"
      ]
     },
     "execution_count": 3,
     "metadata": {},
     "output_type": "execute_result"
    }
   ],
   "source": [
    "m.components"
   ]
  },
  {
   "cell_type": "code",
   "execution_count": 36,
   "metadata": {},
   "outputs": [
    {
     "ename": "AttributeError",
     "evalue": "Attribute JUMP not found in TimingModel or any Component",
     "output_type": "error",
     "traceback": [
      "\u001b[0;31m---------------------------------------------------------------------------\u001b[0m",
      "\u001b[0;31mAttributeError\u001b[0m                            Traceback (most recent call last)",
      "\u001b[1;32m/Users/jackson/Desktop/Pint_Personal/APT/APT_tests.ipynb Cell 7'\u001b[0m in \u001b[0;36m<cell line: 9>\u001b[0;34m()\u001b[0m\n\u001b[1;32m      <a href='vscode-notebook-cell:/Users/jackson/Desktop/Pint_Personal/APT/APT_tests.ipynb#ch0000007?line=5'>6</a>\u001b[0m f1 \u001b[39m=\u001b[39m pint\u001b[39m.\u001b[39mfitter\u001b[39m.\u001b[39mWLSFitter(t1, m1)\n\u001b[1;32m      <a href='vscode-notebook-cell:/Users/jackson/Desktop/Pint_Personal/APT/APT_tests.ipynb#ch0000007?line=6'>7</a>\u001b[0m \u001b[39m# f = pint.fitter.WLSFitter(t, m)\u001b[39;00m\n\u001b[1;32m      <a href='vscode-notebook-cell:/Users/jackson/Desktop/Pint_Personal/APT/APT_tests.ipynb#ch0000007?line=7'>8</a>\u001b[0m \u001b[39m# f.get_designmatrix()\u001b[39;00m\n\u001b[0;32m----> <a href='vscode-notebook-cell:/Users/jackson/Desktop/Pint_Personal/APT/APT_tests.ipynb#ch0000007?line=8'>9</a>\u001b[0m m1\u001b[39m.\u001b[39;49mJUMP\n",
      "File \u001b[0;32m~/Desktop/Pint_Personal/PINT/src/pint/models/timing_model.py:408\u001b[0m, in \u001b[0;36mTimingModel.__getattr__\u001b[0;34m(self, name)\u001b[0m\n\u001b[1;32m    406\u001b[0m     \u001b[39mexcept\u001b[39;00m \u001b[39mAttributeError\u001b[39;00m:\n\u001b[1;32m    407\u001b[0m         \u001b[39mcontinue\u001b[39;00m\n\u001b[0;32m--> 408\u001b[0m \u001b[39mraise\u001b[39;00m \u001b[39mAttributeError\u001b[39;00m(\n\u001b[1;32m    409\u001b[0m     \u001b[39mf\u001b[39m\u001b[39m\"\u001b[39m\u001b[39mAttribute \u001b[39m\u001b[39m{\u001b[39;00mname\u001b[39m}\u001b[39;00m\u001b[39m not found in TimingModel or any Component\u001b[39m\u001b[39m\"\u001b[39m\n\u001b[1;32m    410\u001b[0m )\n",
      "\u001b[0;31mAttributeError\u001b[0m: Attribute JUMP not found in TimingModel or any Component"
     ]
    }
   ],
   "source": [
    "# Now to test out the design matrix\n",
    "\n",
    "m1 = deepcopy(m)\n",
    "t1 = deepcopy(t)\n",
    "\n",
    "f1 = pint.fitter.WLSFitter(t1, m1)\n",
    "# f = pint.fitter.WLSFitter(t, m)\n",
    "# f.get_designmatrix()\n",
    "m1.components"
   ]
  },
  {
   "cell_type": "code",
   "execution_count": 60,
   "metadata": {},
   "outputs": [
    {
     "name": "stderr",
     "output_type": "stream",
     "text": [
      "2022-06-24 11:25:43.132 | DEBUG    | pint.toa:__init__:1304 - No pulse number flags found in the TOAs\n",
      "2022-06-24 11:25:43.139 | DEBUG    | pint.toa:apply_clock_corrections:2085 - Applying clock corrections (include_gps = True, include_bipm = True)\n",
      "2022-06-24 11:25:43.155 | INFO     | pint.observatory.topo_obs:clock_corrections:258 - Applying observatory clock corrections.\n",
      "2022-06-24 11:25:43.158 | INFO     | pint.observatory.topo_obs:clock_corrections:263 - Applying GPS to UTC clock correction (~few nanoseconds)\n",
      "2022-06-24 11:25:43.160 | INFO     | pint.observatory.topo_obs:clock_corrections:268 - Applying TT(TAI) to TT(BIPM2021) clock correction (~27 us)\n",
      "2022-06-24 11:25:43.238 | DEBUG    | pint.toa:compute_TDBs:2148 - Computing TDB columns.\n",
      "2022-06-24 11:25:43.239 | WARNING  | pint.toa:compute_TDBs:2160 - No ephemeris provided to TOAs object or compute_TDBs. Using DE421\n",
      "2022-06-24 11:25:43.240 | DEBUG    | pint.toa:compute_TDBs:2173 - Using EPHEM = DE421 for TDB calculation.\n",
      "2022-06-24 11:25:43.279 | DEBUG    | pint.toa:compute_posvels:2267 - Computing PosVels of observatories and Earth, using DE421\n",
      "2022-06-24 11:25:43.292 | INFO     | pint.solar_system_ephemerides:_load_kernel_link:54 - Set solar system ephemeris to de421 from download\n",
      "2022-06-24 11:25:43.350 | DEBUG    | pint.toa:compute_posvels:2325 - SSB obs pos [-1.48252269e+11  1.48939728e+10  6.45764512e+09] m\n",
      "2022-06-24 11:25:43.353 | INFO     | pint.solar_system_ephemerides:_load_kernel_link:54 - Set solar system ephemeris to de421 from download\n",
      "2022-06-24 11:25:43.355 | DEBUG    | pint.toa:compute_posvels:2339 - Adding columns ssb_obs_pos ssb_obs_vel obs_sun_pos\n"
     ]
    }
   ],
   "source": [
    "def JUMP_adder_begginning_cluster(\n",
    "    mask: np.ndarray, toas, model, output_timfile, output_parfile\n",
    "):\n",
    "    \"\"\"\n",
    "    Adds JUMPs to a timfile as the begginning of analysis.\n",
    "\n",
    "    mask : a mask to select which toas will not be jumped\n",
    "    toas : TOA object\n",
    "    output_timfile : name for the tim file to be written\n",
    "    output_parfile : name for par file to be written\n",
    "    \"\"\"\n",
    "    t = deepcopy(toas)\n",
    "    flag_name = \"tim_jump\"\n",
    "\n",
    "    former_cluster = t.table[mask][\"clusters\"][0]\n",
    "    j = 0\n",
    "    for i, table in enumerate(t.table[~mask]):\n",
    "        # if table[\"clusters\"] != former_cluster:\n",
    "        #     former_cluster = table[\"clusters\"]\n",
    "        #     j += 1\n",
    "        table[\"flags\"][flag_name] = str(table[\"clusters\"])\n",
    "    t.write_TOA_file(output_timfile)\n",
    "\n",
    "    # model.jump_flags_to_params(t) doesn't currently work (need flag name to be \"tim_jump\" and even then it still won't work),\n",
    "    # so the following is a workaround. This is likely related to issue 1294.\n",
    "    ### (workaround surrounded in ###)\n",
    "    # with open(output_parfile, \"w\") as parfile:\n",
    "    #     parfile.write(model.as_parfile())\n",
    "    #     for i in set(t.table[~mask][\"clusters\"]):\n",
    "    #         parfile.write(f\"JUMP\\t\\t-{flag_name} {i}\\t0 1 0\\n\")\n",
    "    # model = mb.get_model(output_parfile)\n",
    "    ###\n",
    "\n",
    "    return t, model\n",
    "\n",
    "#os.chdir(\"/Users/jackson/Desktop/Pint_Personal/APT/binary3_1\")\n",
    "os.chdir(Path(\"/users/jdtaylor/Jackson/APT/binary_test_data/binary4_100\"))\n",
    "\n",
    "parfile = Path(\"fake_100.par\")\n",
    "timfile = Path(\"fake_100.tim\")\n",
    "m, t = mb.get_model_and_toas(parfile, timfile)\n",
    "t.table[\"clusters\"] = t.get_clusters()\n",
    "masks, clusters = starting_points(toas = t)\n",
    "mask = masks[0]\n",
    "t, m = JUMP_adder_begginning_cluster(mask, t, m, \"start.tim\", \"start.par\")"
   ]
  },
  {
   "cell_type": "code",
   "execution_count": 75,
   "metadata": {},
   "outputs": [
    {
     "name": "stderr",
     "output_type": "stream",
     "text": [
      "2022-06-23 16:16:31.503 | DEBUG    | pint.models.absolute_phase:get_TZR_toa:97 - Creating and dealing with the single TZR_toa for absolute phase\n",
      "2022-06-23 16:16:31.507 | DEBUG    | pint.toa:__init__:1304 - No pulse number flags found in the TOAs\n",
      "2022-06-23 16:16:31.508 | DEBUG    | pint.toa:apply_clock_corrections:2085 - Applying clock corrections (include_gps = True, include_bipm = True)\n",
      "2022-06-23 16:16:31.510 | INFO     | pint.observatory.topo_obs:clock_corrections:258 - Applying observatory clock corrections.\n",
      "2022-06-23 16:16:31.511 | INFO     | pint.observatory.topo_obs:clock_corrections:263 - Applying GPS to UTC clock correction (~few nanoseconds)\n",
      "2022-06-23 16:16:31.512 | INFO     | pint.observatory.topo_obs:clock_corrections:268 - Applying TT(TAI) to TT(BIPM2021) clock correction (~27 us)\n",
      "2022-06-23 16:16:31.515 | DEBUG    | pint.toa:compute_TDBs:2148 - Computing TDB columns.\n",
      "2022-06-23 16:16:31.515 | DEBUG    | pint.toa:compute_TDBs:2173 - Using EPHEM = DE421 for TDB calculation.\n",
      "2022-06-23 16:16:31.519 | DEBUG    | pint.toa:compute_posvels:2267 - Computing PosVels of observatories and Earth, using DE421\n",
      "2022-06-23 16:16:31.522 | INFO     | pint.solar_system_ephemerides:_load_kernel_link:54 - Set solar system ephemeris to de421 from download\n",
      "2022-06-23 16:16:31.556 | DEBUG    | pint.toa:compute_posvels:2325 - SSB obs pos [-1.48252269e+11  1.48939730e+10  6.45764523e+09] m\n",
      "2022-06-23 16:16:31.560 | INFO     | pint.solar_system_ephemerides:_load_kernel_link:54 - Set solar system ephemeris to de421 from download\n",
      "2022-06-23 16:16:31.562 | DEBUG    | pint.toa:compute_posvels:2339 - Adding columns ssb_obs_pos ssb_obs_vel obs_sun_pos\n",
      "2022-06-23 16:16:31.563 | DEBUG    | pint.models.absolute_phase:get_TZR_toa:110 - Done with TZR_toa\n",
      "2022-06-23 16:16:31.950 | DEBUG    | pint.models.absolute_phase:get_TZR_toa:97 - Creating and dealing with the single TZR_toa for absolute phase\n",
      "2022-06-23 16:16:31.955 | DEBUG    | pint.toa:__init__:1304 - No pulse number flags found in the TOAs\n",
      "2022-06-23 16:16:31.956 | DEBUG    | pint.toa:apply_clock_corrections:2085 - Applying clock corrections (include_gps = True, include_bipm = True)\n",
      "2022-06-23 16:16:31.957 | INFO     | pint.observatory.topo_obs:clock_corrections:258 - Applying observatory clock corrections.\n",
      "2022-06-23 16:16:31.960 | INFO     | pint.observatory.topo_obs:clock_corrections:263 - Applying GPS to UTC clock correction (~few nanoseconds)\n",
      "2022-06-23 16:16:31.961 | INFO     | pint.observatory.topo_obs:clock_corrections:268 - Applying TT(TAI) to TT(BIPM2021) clock correction (~27 us)\n",
      "2022-06-23 16:16:31.963 | DEBUG    | pint.toa:compute_TDBs:2148 - Computing TDB columns.\n",
      "2022-06-23 16:16:31.964 | DEBUG    | pint.toa:compute_TDBs:2173 - Using EPHEM = DE421 for TDB calculation.\n",
      "2022-06-23 16:16:31.967 | DEBUG    | pint.toa:compute_posvels:2267 - Computing PosVels of observatories and Earth, using DE421\n",
      "2022-06-23 16:16:31.971 | INFO     | pint.solar_system_ephemerides:_load_kernel_link:54 - Set solar system ephemeris to de421 from download\n",
      "2022-06-23 16:16:32.010 | DEBUG    | pint.toa:compute_posvels:2325 - SSB obs pos [-1.48252269e+11  1.48939730e+10  6.45764523e+09] m\n",
      "2022-06-23 16:16:32.014 | INFO     | pint.solar_system_ephemerides:_load_kernel_link:54 - Set solar system ephemeris to de421 from download\n",
      "2022-06-23 16:16:32.037 | DEBUG    | pint.toa:compute_posvels:2339 - Adding columns ssb_obs_pos ssb_obs_vel obs_sun_pos\n"
     ]
    },
    {
     "name": "stdout",
     "output_type": "stream",
     "text": [
      "(array([[ 4.07266445e-01, -2.15776633e+02, -0.00000000e+00, ...,\n",
      "        -0.00000000e+00, -0.00000000e+00, -0.00000000e+00],\n",
      "       [ 4.07266445e-01, -4.17804368e+02, -0.00000000e+00, ...,\n",
      "        -0.00000000e+00, -0.00000000e+00, -0.00000000e+00],\n",
      "       [ 4.07266445e-01, -6.19666176e+02, -0.00000000e+00, ...,\n",
      "        -0.00000000e+00, -0.00000000e+00, -0.00000000e+00],\n",
      "       ...,\n",
      "       [ 4.07266445e-01, -2.20250723e+07, -0.00000000e+00, ...,\n",
      "        -0.00000000e+00, -0.00000000e+00, -1.00000000e+00],\n",
      "       [ 4.07266445e-01, -2.20252741e+07, -0.00000000e+00, ...,\n",
      "        -0.00000000e+00, -0.00000000e+00, -1.00000000e+00],\n",
      "       [ 4.07266445e-01, -2.20254762e+07, -0.00000000e+00, ...,\n",
      "        -0.00000000e+00, -0.00000000e+00, -1.00000000e+00]]), ['Offset', 'F0', 'JUMP1', 'JUMP2', 'JUMP3', 'JUMP4', 'JUMP5', 'JUMP6', 'JUMP7', 'JUMP8', 'JUMP9', 'JUMP10', 'JUMP11', 'JUMP12', 'JUMP13', 'JUMP14', 'JUMP15', 'JUMP16', 'JUMP17', 'JUMP18', 'JUMP19', 'JUMP20', 'JUMP21', 'JUMP22', 'JUMP23', 'JUMP24', 'JUMP25', 'JUMP26', 'JUMP27', 'JUMP28', 'JUMP29', 'JUMP30'], [Unit(dimensionless), Unit(\"1 / Hz2\"), Unit(\"1 / (Hz s)\"), Unit(\"1 / (Hz s)\"), Unit(\"1 / (Hz s)\"), Unit(\"1 / (Hz s)\"), Unit(\"1 / (Hz s)\"), Unit(\"1 / (Hz s)\"), Unit(\"1 / (Hz s)\"), Unit(\"1 / (Hz s)\"), Unit(\"1 / (Hz s)\"), Unit(\"1 / (Hz s)\"), Unit(\"1 / (Hz s)\"), Unit(\"1 / (Hz s)\"), Unit(\"1 / (Hz s)\"), Unit(\"1 / (Hz s)\"), Unit(\"1 / (Hz s)\"), Unit(\"1 / (Hz s)\"), Unit(\"1 / (Hz s)\"), Unit(\"1 / (Hz s)\"), Unit(\"1 / (Hz s)\"), Unit(\"1 / (Hz s)\"), Unit(\"1 / (Hz s)\"), Unit(\"1 / (Hz s)\"), Unit(\"1 / (Hz s)\"), Unit(\"1 / (Hz s)\"), Unit(\"1 / (Hz s)\"), Unit(\"1 / (Hz s)\"), Unit(\"1 / (Hz s)\"), Unit(\"1 / (Hz s)\"), Unit(\"1 / (Hz s)\"), Unit(\"1 / (Hz s)\")])\n"
     ]
    },
    {
     "name": "stderr",
     "output_type": "stream",
     "text": [
      "2022-06-23 16:16:32.038 | DEBUG    | pint.models.absolute_phase:get_TZR_toa:110 - Done with TZR_toa\n"
     ]
    },
    {
     "name": "stdout",
     "output_type": "stream",
     "text": [
      "####################################################################################################\n",
      "(array([[ 4.07263201e-01, -2.15774914e+02, -0.00000000e+00, ...,\n",
      "        -0.00000000e+00, -0.00000000e+00, -0.00000000e+00],\n",
      "       [ 4.07263201e-01, -4.17801040e+02, -0.00000000e+00, ...,\n",
      "        -0.00000000e+00, -0.00000000e+00, -0.00000000e+00],\n",
      "       [ 4.07263201e-01, -6.19661240e+02, -0.00000000e+00, ...,\n",
      "        -0.00000000e+00, -0.00000000e+00, -0.00000000e+00],\n",
      "       ...,\n",
      "       [ 4.07263201e-01, -2.20248968e+07, -0.00000000e+00, ...,\n",
      "        -0.00000000e+00, -0.00000000e+00, -1.00000000e+00],\n",
      "       [ 4.07263201e-01, -2.20250987e+07, -0.00000000e+00, ...,\n",
      "        -0.00000000e+00, -0.00000000e+00, -1.00000000e+00],\n",
      "       [ 4.07263201e-01, -2.20253007e+07, -0.00000000e+00, ...,\n",
      "        -0.00000000e+00, -0.00000000e+00, -1.00000000e+00]]), ['Offset', 'F0', 'JUMP1', 'JUMP2', 'JUMP3', 'JUMP4', 'JUMP5', 'JUMP6', 'JUMP7', 'JUMP8', 'JUMP9', 'JUMP10', 'JUMP11', 'JUMP12', 'JUMP13', 'JUMP14', 'JUMP15', 'JUMP16', 'JUMP17', 'JUMP18', 'JUMP19', 'JUMP20', 'JUMP21', 'JUMP22', 'JUMP23', 'JUMP24', 'JUMP25', 'JUMP26', 'JUMP27', 'JUMP28', 'JUMP29', 'JUMP30'], [Unit(dimensionless), Unit(\"1 / Hz2\"), Unit(\"1 / (Hz s)\"), Unit(\"1 / (Hz s)\"), Unit(\"1 / (Hz s)\"), Unit(\"1 / (Hz s)\"), Unit(\"1 / (Hz s)\"), Unit(\"1 / (Hz s)\"), Unit(\"1 / (Hz s)\"), Unit(\"1 / (Hz s)\"), Unit(\"1 / (Hz s)\"), Unit(\"1 / (Hz s)\"), Unit(\"1 / (Hz s)\"), Unit(\"1 / (Hz s)\"), Unit(\"1 / (Hz s)\"), Unit(\"1 / (Hz s)\"), Unit(\"1 / (Hz s)\"), Unit(\"1 / (Hz s)\"), Unit(\"1 / (Hz s)\"), Unit(\"1 / (Hz s)\"), Unit(\"1 / (Hz s)\"), Unit(\"1 / (Hz s)\"), Unit(\"1 / (Hz s)\"), Unit(\"1 / (Hz s)\"), Unit(\"1 / (Hz s)\"), Unit(\"1 / (Hz s)\"), Unit(\"1 / (Hz s)\"), Unit(\"1 / (Hz s)\"), Unit(\"1 / (Hz s)\"), Unit(\"1 / (Hz s)\"), Unit(\"1 / (Hz s)\"), Unit(\"1 / (Hz s)\")])\n"
     ]
    }
   ],
   "source": [
    "# Now to test out the design matrix\n",
    "f = pint.fitter.WLSFitter(t, m)\n",
    "m1 = deepcopy(m)\n",
    "t1 = deepcopy(t)\n",
    "\n",
    "f1 = pint.fitter.WLSFitter(t1, m1)\n",
    "# f = pint.fitter.WLSFitter(t, m)\n",
    "# f.get_designmatrix()\n",
    "\n",
    "#print(f1.model.as_parfile())\n",
    "#print(pint.residuals.Residuals(t, f1.model).chi2_reduced)\n",
    "print(f1.get_designmatrix())\n",
    "f1.fit_toas()\n",
    "print(\"#\"*100)\n",
    "print(f1.get_designmatrix())\n",
    "#print(pint.residuals.Residuals(t, f1.model).chi2_reduced)\n",
    "#print(f1.model.as_parfile())\n"
   ]
  },
  {
   "cell_type": "code",
   "execution_count": 79,
   "metadata": {},
   "outputs": [
    {
     "name": "stdout",
     "output_type": "stream",
     "text": [
      "149\n",
      "32\n",
      "[   0.4072632 -215.7749143   -0.          -0.          -0.\n",
      "   -0.          -0.          -0.          -0.          -0.\n",
      "   -0.          -0.          -0.          -0.          -0.\n",
      "   -0.          -0.          -0.          -0.          -0.\n",
      "   -0.          -0.          -0.          -0.          -0.\n",
      "   -0.          -0.          -0.          -0.          -0.\n",
      "   -0.          -0.       ]\n",
      "[   0.40726644 -215.77663308   -0.           -0.           -0.\n",
      "   -0.           -0.           -0.           -0.           -0.\n",
      "   -0.           -0.           -0.           -0.           -0.\n",
      "   -0.           -0.           -0.           -0.           -0.\n",
      "   -0.           -0.           -0.           -0.           -0.\n",
      "   -0.           -0.           -0.           -0.           -0.\n",
      "   -0.           -0.        ]\n",
      "['Offset', 'F0', 'JUMP1', 'JUMP2', 'JUMP3', 'JUMP4', 'JUMP5', 'JUMP6', 'JUMP7', 'JUMP8', 'JUMP9', 'JUMP10', 'JUMP11', 'JUMP12', 'JUMP13', 'JUMP14', 'JUMP15', 'JUMP16', 'JUMP17', 'JUMP18', 'JUMP19', 'JUMP20', 'JUMP21', 'JUMP22', 'JUMP23', 'JUMP24', 'JUMP25', 'JUMP26', 'JUMP27', 'JUMP28', 'JUMP29', 'JUMP30']\n"
     ]
    }
   ],
   "source": [
    "print(len(f1.get_designmatrix()[0]))\n",
    "print(len(f1.get_designmatrix()[0][0]))\n",
    "print(f1.get_designmatrix()[0][0])\n",
    "print(f.get_designmatrix()[0][0])\n",
    "print(f.get_designmatrix()[1])"
   ]
  },
  {
   "cell_type": "code",
   "execution_count": 67,
   "metadata": {},
   "outputs": [
    {
     "name": "stderr",
     "output_type": "stream",
     "text": [
      "2022-06-24 14:29:31.391 | DEBUG    | pint.toa:__init__:1304 - No pulse number flags found in the TOAs\n",
      "2022-06-24 14:29:31.393 | DEBUG    | pint.toa:apply_clock_corrections:2085 - Applying clock corrections (include_gps = True, include_bipm = True)\n",
      "2022-06-24 14:29:31.408 | INFO     | pint.observatory.topo_obs:clock_corrections:258 - Applying observatory clock corrections.\n",
      "2022-06-24 14:29:31.410 | INFO     | pint.observatory.topo_obs:clock_corrections:263 - Applying GPS to UTC clock correction (~few nanoseconds)\n",
      "2022-06-24 14:29:31.412 | INFO     | pint.observatory.topo_obs:clock_corrections:268 - Applying TT(TAI) to TT(BIPM2021) clock correction (~27 us)\n",
      "2022-06-24 14:29:31.493 | DEBUG    | pint.toa:compute_TDBs:2148 - Computing TDB columns.\n",
      "2022-06-24 14:29:31.494 | WARNING  | pint.toa:compute_TDBs:2160 - No ephemeris provided to TOAs object or compute_TDBs. Using DE421\n",
      "2022-06-24 14:29:31.495 | DEBUG    | pint.toa:compute_TDBs:2173 - Using EPHEM = DE421 for TDB calculation.\n",
      "2022-06-24 14:29:31.533 | DEBUG    | pint.toa:compute_posvels:2267 - Computing PosVels of observatories and Earth, using DE421\n",
      "2022-06-24 14:29:31.544 | INFO     | pint.solar_system_ephemerides:_load_kernel_link:54 - Set solar system ephemeris to de421 from download\n",
      "2022-06-24 14:29:31.601 | DEBUG    | pint.toa:compute_posvels:2325 - SSB obs pos [-1.48252269e+11  1.48939728e+10  6.45764512e+09] m\n",
      "2022-06-24 14:29:31.604 | INFO     | pint.solar_system_ephemerides:_load_kernel_link:54 - Set solar system ephemeris to de421 from download\n",
      "2022-06-24 14:29:31.606 | DEBUG    | pint.toa:compute_posvels:2339 - Adding columns ssb_obs_pos ssb_obs_vel obs_sun_pos\n",
      "2022-06-24 14:29:31.634 | DEBUG    | pint.models.absolute_phase:get_TZR_toa:97 - Creating and dealing with the single TZR_toa for absolute phase\n",
      "2022-06-24 14:29:31.638 | DEBUG    | pint.toa:__init__:1304 - No pulse number flags found in the TOAs\n",
      "2022-06-24 14:29:31.639 | DEBUG    | pint.toa:apply_clock_corrections:2085 - Applying clock corrections (include_gps = True, include_bipm = True)\n",
      "2022-06-24 14:29:31.640 | INFO     | pint.observatory.topo_obs:clock_corrections:258 - Applying observatory clock corrections.\n",
      "2022-06-24 14:29:31.642 | INFO     | pint.observatory.topo_obs:clock_corrections:263 - Applying GPS to UTC clock correction (~few nanoseconds)\n",
      "2022-06-24 14:29:31.644 | INFO     | pint.observatory.topo_obs:clock_corrections:268 - Applying TT(TAI) to TT(BIPM2021) clock correction (~27 us)\n",
      "2022-06-24 14:29:31.646 | DEBUG    | pint.toa:compute_TDBs:2148 - Computing TDB columns.\n",
      "2022-06-24 14:29:31.647 | DEBUG    | pint.toa:compute_TDBs:2173 - Using EPHEM = DE421 for TDB calculation.\n",
      "2022-06-24 14:29:31.651 | DEBUG    | pint.toa:compute_posvels:2267 - Computing PosVels of observatories and Earth, using DE421\n",
      "2022-06-24 14:29:31.655 | INFO     | pint.solar_system_ephemerides:_load_kernel_link:54 - Set solar system ephemeris to de421 from download\n",
      "2022-06-24 14:29:31.664 | DEBUG    | pint.toa:compute_posvels:2325 - SSB obs pos [-1.48252269e+11  1.48939730e+10  6.45764523e+09] m\n",
      "2022-06-24 14:29:31.667 | INFO     | pint.solar_system_ephemerides:_load_kernel_link:54 - Set solar system ephemeris to de421 from download\n",
      "2022-06-24 14:29:31.669 | DEBUG    | pint.toa:compute_posvels:2339 - Adding columns ssb_obs_pos ssb_obs_vel obs_sun_pos\n",
      "2022-06-24 14:29:31.670 | DEBUG    | pint.models.absolute_phase:get_TZR_toa:110 - Done with TZR_toa\n"
     ]
    },
    {
     "data": {
      "text/plain": [
       "pint.toa.TOAs"
      ]
     },
     "execution_count": 67,
     "metadata": {},
     "output_type": "execute_result"
    }
   ],
   "source": [
    "os.chdir(Path(\"/users/jdtaylor/Jackson/APT/binary_test_data/binary4_100\"))\n",
    "\n",
    "parfile = \"fake_100edit.par\"\n",
    "timfile = \"fake_100.timJUMP\"\n",
    "m, t = pint.models.get_model_and_toas(parfile, timfile)\n",
    "\n",
    "x = t.get_mjds().value\n",
    "resid = pint.residuals.Residuals(t, m).calc_phase_resids()\n",
    "\n",
    "# fig, ax = plt.subplots(1,1,figsize=(15,10))\n",
    "# ax.plot(x, resid, \"o\")\n",
    "\n",
    "t.get_clusters() == 5\n",
    "type(t)"
   ]
  },
  {
   "cell_type": "code",
   "execution_count": 52,
   "metadata": {},
   "outputs": [],
   "source": [
    "import pint.models as pm\n",
    "if socket.gethostname()[0] == \"J\":\n",
    "    os.chdir(\"/Users/jackson/Desktop/Pint_Personal/APT/binary_test_data/binary4_100\")\n",
    "else:\n",
    "    os.chdir(\"/users/jdtaylor/Jackson/APT/binary_test_data/binary4_100\")\n",
    "m1, t1 = pm.get_model_and_toas(\"fake_100sol.par\", \"fake_100.tim\")\n",
    "# t1.compute_pulse_numbers(m1)\n",
    "# pn1 = t1.table[\"pulse_number\"]\n",
    "\n",
    "# m2, t2 = pm.get_model_and_toas(\"solved_100.par\", \"fake_100.tim\")\n",
    "# t2.compute_pulse_numbers(m2)\n",
    "# pn2 = t2.table[\"pulse_number\"]\n",
    "\n"
   ]
  },
  {
   "cell_type": "code",
   "execution_count": 76,
   "metadata": {},
   "outputs": [
    {
     "data": {
      "text/plain": [
       "array([1, 2, 3, 1, 2])"
      ]
     },
     "execution_count": 76,
     "metadata": {},
     "output_type": "execute_result"
    }
   ],
   "source": [
    "# t3 = deepcopy(t2)\n",
    "# dpn = pn2 - pn1\n",
    "# t3.table[\"delta_pulse_number\"] = dpn\n",
    "# pn3 = t3.table[\"pulse_number\"]\n",
    "x = np.array([1,2,3])\n",
    "y = np.array([1,2])\n",
    "np.concatenate((x,y))"
   ]
  },
  {
   "cell_type": "code",
   "execution_count": 58,
   "metadata": {},
   "outputs": [
    {
     "data": {
      "text/plain": [
       "[<matplotlib.lines.Line2D at 0x7f3c1ce30280>]"
      ]
     },
     "execution_count": 58,
     "metadata": {},
     "output_type": "execute_result"
    },
    {
     "data": {
      "image/png": "[encoded data removed]",
      "text/plain": [
       "<Figure size 432x288 with 1 Axes>"
      ]
     },
     "metadata": {
      "needs_background": "light"
     },
     "output_type": "display_data"
    }
   ],
   "source": [
    "y3 = pint.residuals.Residuals(t3, m1).calc_phase_resids()\n",
    "y1 = pint.residuals.Residuals(t1, m1).calc_phase_resids()\n",
    "x1 = t1.get_mjds().value\n",
    "x3 = t3.get_mjds().value\n",
    "\n",
    "plt.plot(x3, y3, 'o')\n",
    "plt.plot(x1, y1, 'o')"
   ]
  },
  {
   "cell_type": "code",
   "execution_count": 59,
   "metadata": {},
   "outputs": [
    {
     "data": {
      "text/html": [
       "&lt;Column name=&apos;pulse_number&apos; dtype=&apos;float128&apos; unit=&apos;&apos; length=51&gt;\n",
       "<table>\n",
       "<tr><td>0.0</td></tr>\n",
       "<tr><td>0.0</td></tr>\n",
       "<tr><td>0.0</td></tr>\n",
       "<tr><td>0.0</td></tr>\n",
       "<tr><td>0.0</td></tr>\n",
       "<tr><td>0.0</td></tr>\n",
       "<tr><td>0.0</td></tr>\n",
       "<tr><td>0.0</td></tr>\n",
       "<tr><td>0.0</td></tr>\n",
       "<tr><td>0.0</td></tr>\n",
       "<tr><td>0.0</td></tr>\n",
       "<tr><td>0.0</td></tr>\n",
       "<tr><td>...</td></tr>\n",
       "<tr><td>-1.0</td></tr>\n",
       "<tr><td>-1.0</td></tr>\n",
       "<tr><td>-1.0</td></tr>\n",
       "<tr><td>-1.0</td></tr>\n",
       "<tr><td>-2.0</td></tr>\n",
       "<tr><td>-2.0</td></tr>\n",
       "<tr><td>-2.0</td></tr>\n",
       "<tr><td>-2.0</td></tr>\n",
       "<tr><td>-2.0</td></tr>\n",
       "<tr><td>-2.0</td></tr>\n",
       "<tr><td>5.0</td></tr>\n",
       "<tr><td>19.0</td></tr>\n",
       "</table>"
      ],
      "text/plain": [
       "<Column name='pulse_number' dtype='float128' unit='' length=51>\n",
       " 0.0\n",
       " 0.0\n",
       " 0.0\n",
       " 0.0\n",
       " 0.0\n",
       " 0.0\n",
       " 0.0\n",
       " 0.0\n",
       " 0.0\n",
       " 0.0\n",
       " 0.0\n",
       " 0.0\n",
       " ...\n",
       "-1.0\n",
       "-1.0\n",
       "-1.0\n",
       "-1.0\n",
       "-2.0\n",
       "-2.0\n",
       "-2.0\n",
       "-2.0\n",
       "-2.0\n",
       "-2.0\n",
       " 5.0\n",
       "19.0"
      ]
     },
     "execution_count": 59,
     "metadata": {},
     "output_type": "execute_result"
    }
   ],
   "source": [
    "t3.table[\"pulse_number\"] - t1.table[\"pulse_number\"] "
   ]
  },
  {
   "cell_type": "code",
   "execution_count": 56,
   "metadata": {},
   "outputs": [
    {
     "data": {
      "text/plain": [
       "True"
      ]
     },
     "execution_count": 56,
     "metadata": {},
     "output_type": "execute_result"
    }
   ],
   "source": [
    "\"mjd\" in t1.table.columns"
   ]
  },
  {
   "cell_type": "code",
   "execution_count": null,
   "metadata": {},
   "outputs": [],
   "source": []
  },
  {
   "cell_type": "code",
   "execution_count": 8,
   "metadata": {},
   "outputs": [
    {
     "name": "stdout",
     "output_type": "stream",
     "text": [
      "[   9.68426057   10.37830253   11.42478626    9.95216014 -153.31018032]\n",
      "[ True  True  True  True False]\n",
      "0: 1\n",
      "1: 2\n",
      "2: 3\n",
      "3: 4\n",
      "flipped\n",
      "biggest is 4. location of biggest is 3\n",
      "[ 9.68426057 10.37830253 11.42478626  9.95216014]\n",
      "\n",
      "[]\n",
      "[-0.43294805]\n"
     ]
    }
   ],
   "source": [
    "#residuals = np.array([1,2,3,4,2])\n",
    "residuals = np.array([0.24963299, 0.30871647, 0.37203439, 0.44167943, 0.50239736, -0.43294805])\n",
    "mjds = np.array([56054.33430246, 56054.34040344, 56054.34650443, 56054.35260039,\n",
    "       56054.35870137, 56054.36480237])\n",
    "residualsdif_dif = np.concatenate(\n",
    "    (np.zeros(1), residuals)\n",
    ") - np.concatenate((residuals, np.zeros(1)))\n",
    "mjds_dif = np.concatenate((np.zeros(1), mjds)) - np.concatenate(\n",
    "    (mjds, np.zeros(1))\n",
    ")\n",
    "toa_slopes = (residualsdif_dif / mjds_dif)[1:-1]\n",
    "print(toa_slopes)\n",
    "print(toa_slopes > 0)\n",
    "# want to establish the correct slope direction as that with the longest\n",
    "# series of adjacent slopes\n",
    "biggest = 0\n",
    "location_of_biggest = -1\n",
    "biggest_is_pos = True\n",
    "was_pos = True\n",
    "count = 0\n",
    "for i, is_pos in enumerate(toa_slopes >= 0):\n",
    "    if is_pos and was_pos or (not is_pos and not was_pos):\n",
    "        count += 1\n",
    "        print(f\"{i}: {count}\")\n",
    "        was_pos = is_pos\n",
    "    elif is_pos or was_pos:\n",
    "        print(\"flipped\")\n",
    "        if count > biggest:\n",
    "            biggest = count\n",
    "            location_of_biggest = i - 1\n",
    "            biggest_is_pos = is_pos\n",
    "        count = 1\n",
    "        was_pos = is_pos\n",
    "    # do this check one last time in case the last point is part of the\n",
    "    # longest series of adjacent slopes\n",
    "    if count > biggest:\n",
    "            biggest = count\n",
    "            location_of_biggest = i # not i - 1 because that last point is like the (i + 1)th element\n",
    "                                    # flipping slopes\n",
    "            biggest_is_pos = is_pos\n",
    "\n",
    "print(f\"biggest is {biggest}. location of biggest is {location_of_biggest}\")\n",
    "print(toa_slopes[location_of_biggest-biggest+1:location_of_biggest+1])\n",
    "print()\n",
    "print(residuals[:location_of_biggest-biggest+1])\n",
    "print(residuals[location_of_biggest+2:])\n",
    "\n",
    "\n"
   ]
  },
  {
   "cell_type": "code",
   "execution_count": 2,
   "metadata": {},
   "outputs": [
    {
     "data": {
      "text/plain": [
       "1"
      ]
     },
     "execution_count": 2,
     "metadata": {},
     "output_type": "execute_result"
    }
   ],
   "source": [
    "import pint.logging\n",
    "pint.logging.setup(level = \"ERROR\")"
   ]
  },
  {
   "cell_type": "code",
   "execution_count": 29,
   "metadata": {},
   "outputs": [
    {
     "name": "stdout",
     "output_type": "stream",
     "text": [
      "that took 1.3829189069999757 seconds\n"
     ]
    },
    {
     "data": {
      "image/png": "[encoded data removed]",
      "text/plain": [
       "<Figure size 1080x1440 with 2 Axes>"
      ]
     },
     "metadata": {
      "needs_background": "light"
     },
     "output_type": "display_data"
    }
   ],
   "source": [
    "import pint.logging, socket, numpy as np, matplotlib.pyplot as plt, time\n",
    "from copy import deepcopy\n",
    "pint.logging.setup(level = \"ERROR\")\n",
    "\n",
    "import pint.models as pm\n",
    "from APT_binary import phase_connector\n",
    "data_path = \"binary3_4\"\n",
    "if socket.gethostname()[0] == \"J\":\n",
    "    os.chdir(f\"/Users/jackson/Desktop/Pint_Personal/APT/binary_test_data/{data_path}\")\n",
    "else:\n",
    "    os.chdir(f\"/users/jdtaylor/Jackson/APT/binary_test_data/{data_path}\")\n",
    "m, t = pm.get_model_and_toas(f\"fake_{data_path.split('_')[-1]}.par\", f\"fake_{data_path.split('_')[-1]}.tim\")\n",
    "if \"clusters\" not in t.table.columns:\n",
    "        t.table[\"clusters\"] = t.get_clusters()\n",
    "if \"pulse_number\" not in t.table.colnames:\n",
    "    t.compute_pulse_numbers(m)\n",
    "\n",
    "y = pint.residuals.Residuals(t, m).calc_phase_resids()\n",
    "#y1 = pint.residuals.Residuals(t1, m1).calc_phase_resids()\n",
    "x = t.get_mjds().value\n",
    "\n",
    "# cluster= 0\n",
    "# cluster_mask1 = t.table[\"clusters\"] == 0\n",
    "# cluster_mask2 = t.table[\"clusters\"] == 1\n",
    "# cluster_mask = np.zeros(len(t.table), dtype=bool)\n",
    "cluster_mask = t.table[\"clusters\"] == 1\n",
    "# for i in range(len(cluster_mask1)):\n",
    "#     if cluster_mask1[i] or cluster_mask2[i]:\n",
    "#         cluster_mask[i] = True\n",
    "#t_copy = deepcopy(t)\n",
    "#t.select(cluster_mask)\n",
    "t1 = time.monotonic()\n",
    "phase_connector(t, m, \"linear\", cluster = \"all\", wraps = True)\n",
    "t2 = time.monotonic()\n",
    "print(f\"that took {t2 - t1} seconds\")\n",
    "\n",
    "# t1 = time.monotonic()\n",
    "# phase_connector(t, m, \"linear\", cluster = \"all\", wraps = True)\n",
    "# t2 = time.monotonic()\n",
    "# print(f\"that took {t2 - t1} seconds\")\n",
    "# x1 = x[cluster_mask]\n",
    "# y1 = y[cluster_mask]\n",
    "#t.table[\"delta_pulse_number\"][-1] = 0\n",
    "#t_copy.table[cluster_mask] = t.table\n",
    "x1 = t.get_mjds().value\n",
    "# x1 = x1[cluster_mask]\n",
    "y1 = pint.residuals.Residuals(t, m).calc_phase_resids()\n",
    "# y1 = y1[cluster_mask]\n",
    "\n",
    "fig, ax = plt.subplots(2, figsize = (15,20))\n",
    "ax[0].plot(x, y, 'o')\n",
    "ax[1].plot(x1, y1, 'o')\n",
    "\n",
    "\n",
    "t.compute_pulse_numbers(m)\n",
    "t.write_TOA_file(\"zzz.tim\")"
   ]
  },
  {
   "cell_type": "code",
   "execution_count": 7,
   "metadata": {},
   "outputs": [
    {
     "ename": "NameError",
     "evalue": "name 't_copy' is not defined",
     "output_type": "error",
     "traceback": [
      "\u001b[0;31m---------------------------------------------------------------------------\u001b[0m",
      "\u001b[0;31mNameError\u001b[0m                                 Traceback (most recent call last)",
      "\u001b[1;32m/Users/jackson/Desktop/Pint_Personal/APT/APT_tests.ipynb Cell 23'\u001b[0m in \u001b[0;36m<cell line: 1>\u001b[0;34m()\u001b[0m\n\u001b[0;32m----> <a href='vscode-notebook-cell:/Users/jackson/Desktop/Pint_Personal/APT/APT_tests.ipynb#ch0000022?line=0'>1</a>\u001b[0m mask \u001b[39m=\u001b[39m np\u001b[39m.\u001b[39mzeros(\u001b[39mlen\u001b[39m(t_copy), dtype\u001b[39m=\u001b[39m\u001b[39mbool\u001b[39m)\n\u001b[1;32m      <a href='vscode-notebook-cell:/Users/jackson/Desktop/Pint_Personal/APT/APT_tests.ipynb#ch0000022?line=1'>2</a>\u001b[0m mask[\u001b[39m0\u001b[39m:\u001b[39m2\u001b[39m] \u001b[39m=\u001b[39m \u001b[39mTrue\u001b[39;00m\n\u001b[1;32m      <a href='vscode-notebook-cell:/Users/jackson/Desktop/Pint_Personal/APT/APT_tests.ipynb#ch0000022?line=2'>3</a>\u001b[0m t_copy\u001b[39m.\u001b[39mtable\n",
      "\u001b[0;31mNameError\u001b[0m: name 't_copy' is not defined"
     ]
    }
   ],
   "source": [
    "mask = np.zeros(len(t_copy), dtype=bool)\n",
    "mask[0:2] = True\n",
    "t_copy.table\n",
    "t=deepcopy(t_copy)\n",
    "t.select(mask)\n",
    "t.table[\"delta_pulse_number\"][0:2] = 1\n",
    "t_copy.table[mask] = t.table\n"
   ]
  },
  {
   "cell_type": "code",
   "execution_count": 27,
   "metadata": {},
   "outputs": [
    {
     "name": "stdout",
     "output_type": "stream",
     "text": [
      "82045.0\n",
      "-1.0\n",
      "\n",
      "82044.0\n",
      "-1.0\n",
      "\n",
      "82043.0\n",
      "-2.0\n"
     ]
    }
   ],
   "source": [
    "print(t.table[6][\"pulse_number\"])\n",
    "print(t.table[6][\"delta_pulse_number\"])\n",
    "print()\n",
    "\n",
    "t.compute_pulse_numbers(m)\n",
    "print(t.table[6][\"pulse_number\"])\n",
    "print(t.table[6][\"delta_pulse_number\"])\n",
    "print()\n",
    "\n",
    "t.table[6][\"delta_pulse_number\"] = -2\n",
    "resid = pint.residuals.Residuals(t, m).calc_phase_resids()\n",
    "t.compute_pulse_numbers(m)\n",
    "print(t.table[6][\"pulse_number\"])\n",
    "print(t.table[6][\"delta_pulse_number\"])"
   ]
  },
  {
   "cell_type": "code",
   "execution_count": 7,
   "metadata": {},
   "outputs": [
    {
     "data": {
      "text/latex": [
       "$[-0.2573458,~-0.17580526,~-0.090217145,~-0.0075952103,~0.076204039] \\; \\mathrm{}$"
      ],
      "text/plain": [
       "<Quantity [-0.2573458 , -0.17580526, -0.09021714, -0.00759521,  0.07620404]>"
      ]
     },
     "execution_count": 7,
     "metadata": {},
     "output_type": "execute_result"
    }
   ],
   "source": [
    "y1\n"
   ]
  },
  {
   "cell_type": "code",
   "execution_count": null,
   "metadata": {},
   "outputs": [],
   "source": []
  }
 ],
 "metadata": {
  "kernelspec": {
   "display_name": "Python 3.9.12 ('penguin')",
   "language": "python",
   "name": "python3"
  },
  "language_info": {
   "codemirror_mode": {
    "name": "ipython",
    "version": 3
   },
   "file_extension": ".py",
   "mimetype": "text/x-python",
   "name": "python",
   "nbconvert_exporter": "python",
   "pygments_lexer": "ipython3",
   "version": "3.9.12"
  },
  "orig_nbformat": 4,
  "vscode": {
   "interpreter": {
    "hash": "a1d132dd072b8d5db54bff76b1d5a2ffac9c5941c0c46880f80e3436479cf37b"
   }
  }
 },
 "nbformat": 4,
 "nbformat_minor": 2
}
